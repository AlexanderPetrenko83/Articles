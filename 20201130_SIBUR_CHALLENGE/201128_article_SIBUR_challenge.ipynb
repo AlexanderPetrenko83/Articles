{
 "cells": [
  {
   "cell_type": "markdown",
   "metadata": {},
   "source": [
    "# Участвуем в соревновании по Data Science. Первый опыт.\n",
    "\n",
    "Привет, Хабр!\n",
    "\n",
    "Давно я не писал никаких статей и, вот думаю, пришло время написать о там, как мне пригодились знания по data science, полученные по ходу обучения не безывестной специализации от Яндекса и МФТИ \"Машинное обучение и анализ данных\". Правда, справедливости ради надо отметить, что знания до конца не получены - спецуха не завершена :) Однако, решать простенькие реальные бизнесовые задачи уже можно. Или нужно? На этот вопрос будет ответ, буквально через пару абзацев. \n",
    "\n",
    "Итак, сегодня в этой статье я расскажу уважаемому читателю о своем первом опыте участия в открытом соревновании. Хотелось бы сразу отметить, что моей целью соревнования было не получение каких-либо призовых мест. Единственное желание было попробовать свои силы в реальном мире :) Да, в добавок так вышло, что тематика соревнования практически никак не пересекалась с материалом из пройденных курсов. Это добавило некоторые сложности, но с этим соревнование стало еще интереснее и ценнее опыт вынесенный оттуда. \n",
    "\n",
    "По сложившейся традиции, обозначу кому может быть интересна статья. Во-первых, если Вы уже прошли первые два курса указанной выше специализации, и хотите попробовать свои силы на практических задачах, но стесняетесь и переживаете, что может не получиться и Вас засмеют и т.д. Прочитав статью, такие опасения, надеюсь, развеются. Во-вторых, возможно, Вы решаете схожую задачу и совсем не знаете с чего зайти. А здесь готовенький простенький, как говорят настоящие датасайнтисты, бэйзлайн :)\n",
    "\n",
    "Здесь следовало бы уже изложить план исследования, но мы немного отвлечемся и попробуем ответить на вопрос из первого абзаца - нужно ли новичку в датасайнсе пробовать свои силы в подобных соревнованиях. Мнения на этот счет расходятся. Лично мое мнение - нужно! Объясню почему. Причин много, все перечислять не буду, укажу наиболее важные. Во-первых, подобные соревнования помогают закрепить теоретические знания на практике. Во-вторых, на моей практике, почти всегда, опыт, полученный в условиях приближенных к боевым, очень сильно мотивирует на дальнейшие подвиги. В-третьих, и это самое главное - во время соревнований у Вас появляется возможность пообщаться с другими участниками в специальных чатах, можно даже не общаться, можно просто почитать, о чем пишут люди и это а) частенько наводит на интересные мысли о том, какие еще изменения провести в исследовании и б) придает уверенность в подтверждении своих собственных идей, особенно, если они высказываются в чате. К этим плюсам нужно подходить с определенной предусмотрительностью, чтобы не возникло ощущения всезнания...\n",
    "\n",
    "Теперь немного о том, как я решился на участие. О соревновании я узнал буквально за несколько дней до его начала. Первая мысль \"ну если бы я знал о соревновании месяц назад, то подготовился бы, по изучал бы какие-нибудь дополнительные материалы, которые могли бы пригодиться для проведения исследования, а так, без подготовки могу не уложиться в сроки...\", вторая мысль \"собственно, что может не получиться, если целью является не приз, а участие, тем более, что участники в 95% случаях говорят на русском языке, плюс есть специальные чаты для обсуждения, будут какие-то вебинары от организаторов. В конце концов, можно будет вживую увидеть настоящих датасайнтистов всех мастей и размеров...\" . Как вы догадались, вторая мысль победила, и не зря - буквально несколько дней плотной работы и я получил ценнейший опыт пусть и простенькой, но вполне себе бизнесовой задачи. Поэтому, если Вы на пути покорения вершин науки о данных и видите намечающееся соревнование, да на родном языке, с поддержкой в чатах и, у Вас есть свободное время - не задумывайтесь надолго - пробуйте и да прибудет с Вами сила! На мажорной ноте мы переходим к задаче и плану исследования. \n",
    "## Сопоставление названий\n",
    "Не будем мучить себя и придумывать описание задачи, а приведем оригинальный текст с вэб страницы организатора соревнования.\n",
    "\n",
    "### Задача\n",
    "При поиске новых клиентов СИБУРу приходится обрабатывать информацию о миллионах новых компаний из различных источников. Названия компаний при этом могут иметь разное написание, содержать сокращения или ошибки, быть аффилированными с компаниями, уже известными СИБУРу.\n",
    "\n",
    "Для более эффективной обработки информации о потенциальных клиентах, СИБУРу необходимо знать, связаны ли два названия (т.е. принадлежат одной компании или аффилированным компаниям).\n",
    "\n",
    "В этом случае СИБУР сможет использовать уже известную информацию о самой компании или об аффилированных компаниях, не дублировать обращения в компанию или не тратить время на нерелевантные компании или дочерние компании конкурентов.\n",
    "\n",
    "Тренировочная выборка содержит пары названий из разных источников (в том числе, пользовательских) и разметку.\n",
    "\n",
    "Разметка получена частично вручную, частично - алгоритмически. Кроме того, разметка может содержать ошибки. Вам предстоит построить бинарную модель, предсказывающую, являются ли два названия связанными. Метрика, используемая в данной задаче - F1.\n",
    "\n",
    "В этой задаче можно и даже нужно пользоваться открытыми источниками данных для обогащения датасета или поиска дополнительной важной для определения аффилированных компаний информации.\n",
    "\n",
    "### Дополнительная информация\n",
    "Аффилированными компаниями считаются компании, принадлежащие одному холдингу или группе компаний. Например, все компании из списка: Сибур Нефтехим, ООО Сибур, Sibur Digital, СИБУР ИТ, Sibur international GMBH являются вариациями названий аффилированных компаний, а компания “Сибирь International GMBH” не является.\n",
    "Названия компаний могут писаться на разных языках: тренировочная и тестовая выборки содержат названия компаний на русском, английском и китайском языках.\n",
    "В названиях могут присутствовать сокращения, опечатки и дополнительная информация о компании, например, названия стран и провинций.\n",
    "Публичная (50%) и приватная (50%) части тестового множества не пересекаются.\n",
    "\n",
    "### Правила использования внешних источников\n",
    "**Безвозмездность** Источник должен быть бесплатен для всех. Например, нельзя пользоваться данными, к которым у вас есть корпоративный доступ.\n",
    "\n",
    "**Верифицируемость** У организаторов должна быть возможность воспроизвести ваш способ сбора данных за 1 день для выборки в 1 000 000 уникальных компаний.\n",
    "На практике количество проверяемых компаний намного больше данных в рамках соревнования (миллионы компаний). К тому же, одним и тем же способом сбора данных могут пользоваться сразу несколько участников и в случае строгих лимитов мы не сможем верифицировать решение.\n",
    "\n",
    "**Публичность** Источник должен быть заявлен в чате до 24:00 6 декабря 2020 с хэштегом #внешниеданные и одобрен организаторами.\n",
    "\n",
    "**Добросовестность** Способ, который вы используете при работе с источником, и происхождение данных не должны нарушать законы РФ и правила, которые установлены оператором источника.\n",
    "Если, например, автоматический парсинг какого-либо сайта запрещен владельцами сайта, то вы можете пользоваться им только вручную.\n",
    "\n",
    "Источник должен допускать коммерческое использование.\n",
    "\n",
    "Если для использования источника нужно зарегистрироваться, но в остальном противоречий правилам нет, то его можно использовать.\n",
    "\n",
    "Один участник может заявить не более 10 источников информации.\n",
    "\n",
    "Использование API поисковых систем, к сожалению, противоречит пункту 2.\n",
    "\n",
    "### Правила относительно строгих замен, ручной разметки и данных, собранных вручную, в т.ч. с использованием crowdsource\n",
    "\n",
    "Все “ручные” данные должны быть собраны участниками команды без использования crowdsource платформ и аналогичных методов. Вряд ли мы сможем это проверить, но давайте играть честно:)\n",
    "\n",
    "Замены общего характера можно использовать без ограничений, если при необходимости вы можете объяснить их происхождение.\n",
    "\n",
    "Это касается legel entities, стран, городов и т.д. Например, исключение слова Industries из всех названий допустима.\n",
    "\n",
    "Замена значимых элементов названия компании возможна только на основании внешних данных. Ручная замена не разрешается.\n",
    "\n",
    "Нельзя использовать строгие правила сравнения названий, использующие значимые элементы. Например, нельзя проверять вхождение подстроки “Сибур” в каждый элемент пары и на основании этого вычислять целевую переменную.\n",
    "\n",
    "Все данные, использованные при решении задачи, должны опираться только на обучающую выборку и данные, полученные из разрешенных внешних источников. Использовать данные, полученные при анализе тестовой выборки, нельзя.\n",
    "\n",
    "В случае, если вы используете собственноручно собранные словари, вам нужно описать воспроизводимую логику их составления.\n",
    "\n",
    "### Использование open source\n",
    "\n",
    "Вы можете пользоваться любыми open source инструментами, выпущенными под разрешительными лицензиями. Если инструмент явным образом включает в себя словари замены или аналогичные данные - о нем нужно сообщить в чате соревнования или в чате задачи в соответствии с правилами для внешних источников. В противном случае сообщать о таком инструменте не нужно.\n",
    "\n",
    "Если Вы сомневаетесь в том, можно ли использовать какой-то конкретный источник – просто спросите в чате. Возможно, нам придется в будущем расширить этот список, если будет найден какой-то очевидно нечестный по отношении к другим участникам способ, который, тем не менее, соответствует этим правилам.\n",
    "\n",
    "### Данные\n",
    "train.csv - тренировочное множество\n",
    "\n",
    "test.csv - тестовое множество\n",
    "\n",
    "sample_submission.csv - пример решения в правильном формате\n",
    "\n",
    "Naming baseline.ipynb - код базовое решение\n",
    "\n",
    "baseline_submission.csv - базовое решение\n",
    "\n",
    "Обратите внимание, организаторы конкурса позаботились о подрастающем поколении и выложили базовое решение задачи, которое дает качество по f1 около 0.1. Я первый раз участвую в соревнованиях и первый раз такое вижу :)\n",
    "\n",
    "Итак, ознакомившись с самой задачей и требованиями по ее решению, перейдем к плану решения.\n",
    "## План решения задачи\n",
    "\n",
    "### Настройка технических инструментов\n",
    "*Загрузим библиотеки*\n",
    "\n",
    "*Напишем вспомогательные функции*\n",
    "\n",
    "### Предобработка данных\n",
    "*Загрузим данные*\n",
    "\n",
    "*Посмотрим на данные и сделаем копии*\n",
    "\n",
    "*Переведем все символы из текста в нижний регистр*\n",
    "\n",
    "*Удалим названия стран*\n",
    "\n",
    "*Удалим знаки и спецсимволы*\n",
    "\n",
    "*Удалим цифры*\n",
    "\n",
    "*Удалим... первый список стоп-слов. Вручную!*\n",
    "\n",
    "*Проведем транслитерацию русского текста в латиницу*\n",
    "\n",
    "*Запустим автоматическое составление списка топ 50 самых часто встречающихся слов & Drop it smart. Первый ЧИТ*\n",
    "\n",
    "### Генерация и анализ фич\n",
    "\n",
    "*Посчитаем дистанцию Левенштейна*\n",
    "\n",
    "*Посчитаем нормированную дистанцию Левенштейна*\n",
    "\n",
    "*Визуализируем фичи*\n",
    "\n",
    "*Сопоставим слова в тексте для каждой пары и сгенерим большую кучу признаков*\n",
    "\n",
    "*Сопоставим слова из текста со словами из названий топ 50 холдинговых брендов нефтехимической, строительной отраслей. Получим вторую большую кучу признаков. Второй ЧИТ*\n",
    "\n",
    "*Готовим данные для подачи в модель*\n",
    "\n",
    "### Настройка и обучение модели\n",
    "\n",
    "### Итоги соревнования \n",
    "\n",
    "#### *Источники информации*\n",
    "\n",
    "Теперь, когда мы ознакомились с планом проведения исследования, перейдем к его реализации.\n",
    "\n",
    "# Настройка технических инструментов\n",
    "### Загрузка библиотек\n",
    "Собственно здесь все просто, для начала установим недостающие библиотеки"
   ]
  },
  {
   "cell_type": "markdown",
   "metadata": {},
   "source": [
    "Установим библиотеку для определения списка стран и последующего их удаления из текста"
   ]
  },
  {
   "cell_type": "code",
   "execution_count": 1,
   "metadata": {},
   "outputs": [
    {
     "name": "stdout",
     "output_type": "stream",
     "text": [
      "Requirement already satisfied: pycountry in /home/alexander/anaconda3/lib/python3.7/site-packages (20.7.3)\n",
      "Note: you may need to restart the kernel to use updated packages.\n"
     ]
    }
   ],
   "source": [
    "pip install pycountry"
   ]
  },
  {
   "cell_type": "markdown",
   "metadata": {},
   "source": [
    "Установим библиотеку для определения дистанции Левенштейна между словами из текста друг сдругом и со словами из различных списков"
   ]
  },
  {
   "cell_type": "code",
   "execution_count": 2,
   "metadata": {},
   "outputs": [
    {
     "name": "stdout",
     "output_type": "stream",
     "text": [
      "Requirement already satisfied: strsimpy in /home/alexander/anaconda3/lib/python3.7/site-packages (0.1.9)\n",
      "Note: you may need to restart the kernel to use updated packages.\n"
     ]
    }
   ],
   "source": [
    "pip install strsimpy"
   ]
  },
  {
   "cell_type": "code",
   "execution_count": 3,
   "metadata": {},
   "outputs": [],
   "source": [
    "# pip install googletrans"
   ]
  },
  {
   "cell_type": "markdown",
   "metadata": {},
   "source": [
    "Установим библиотеку, с помощью которой проведем транслитерацию русского текста в латиницу"
   ]
  },
  {
   "cell_type": "code",
   "execution_count": 4,
   "metadata": {},
   "outputs": [
    {
     "name": "stdout",
     "output_type": "stream",
     "text": [
      "Requirement already satisfied: cyrtranslit in /home/alexander/anaconda3/lib/python3.7/site-packages (0.4)\n",
      "Note: you may need to restart the kernel to use updated packages.\n"
     ]
    }
   ],
   "source": [
    "pip install cyrtranslit"
   ]
  },
  {
   "cell_type": "code",
   "execution_count": 5,
   "metadata": {},
   "outputs": [],
   "source": [
    "import pandas as pd\n",
    "import numpy as np\n",
    "\n",
    "import warnings\n",
    "warnings.filterwarnings('ignore')\n",
    "\n",
    "import pycountry\n",
    "import re\n",
    "\n",
    "from tqdm import tqdm\n",
    "tqdm.pandas()\n",
    "\n",
    "from strsimpy.levenshtein import Levenshtein\n",
    "from strsimpy.normalized_levenshtein import NormalizedLevenshtein\n",
    "\n",
    "import matplotlib.pyplot as plt\n",
    "from matplotlib.pyplot import figure\n",
    "\n",
    "import seaborn as sns\n",
    "sns.set()\n",
    "sns.set_style(\"whitegrid\")\n",
    "\n",
    "from sklearn.model_selection import train_test_split\n",
    "from sklearn.model_selection import StratifiedKFold\n",
    "from sklearn.model_selection import StratifiedShuffleSplit\n",
    "\n",
    "from scipy.sparse import csr_matrix\n",
    "\n",
    "import lightgbm as lgb\n",
    "from sklearn.linear_model import LogisticRegression\n",
    "\n",
    "from sklearn.metrics import accuracy_score\n",
    "from sklearn.metrics import recall_score\n",
    "from sklearn.metrics import precision_score\n",
    "from sklearn.metrics import roc_auc_score\n",
    "\n",
    "from sklearn.metrics import classification_report, f1_score\n",
    "\n",
    "\n",
    "# import googletrans\n",
    "# from googletrans import Translator\n",
    "import cyrtranslit"
   ]
  },
  {
   "cell_type": "markdown",
   "metadata": {},
   "source": [
    "### Напишем вспомогательные функции\n",
    "\n",
    "Хорошим тоном считается вместо копи паста большого куска кода указывать функцию в одну строчку. Мы так и будем делать, почти всегда. \n",
    "\n",
    "Утверждать, что качество кода в функциях отлиное не буду. Местами его точно следует оптимизировать, но в целях быстрого исследования, достаточно будет только точности расчетов.\n",
    "\n",
    "Итак, первая функция переводит текст в нижний регистр"
   ]
  },
  {
   "cell_type": "code",
   "execution_count": 6,
   "metadata": {},
   "outputs": [],
   "source": [
    "# convert text to lowercase\n",
    "def lower_str(data,column):\n",
    "    data[column] = data[column].str.lower()"
   ]
  },
  {
   "cell_type": "markdown",
   "metadata": {},
   "source": [
    "Следующие четыре функции помогают визуализировать пространство исследуемых признаков и их способность разделять объекты по целевым меткам - 0 или 1."
   ]
  },
  {
   "cell_type": "code",
   "execution_count": 7,
   "metadata": {},
   "outputs": [],
   "source": [
    "# statistic table for analyse float values (it needs to make histogramms and boxplots)\n",
    "def data_statistics(data,analyse,title_print):\n",
    "\n",
    "    data0 = data[data['target']==0][analyse]\n",
    "    data1 = data[data['target']==1][analyse]\n",
    "\n",
    "    data_describe = pd.DataFrame()\n",
    "    data_describe['target_0'] = data0.describe()\n",
    "    data_describe['target_1'] = data1.describe()\n",
    "    data_describe = data_describe.T\n",
    "    \n",
    "    if title_print == 'yes':\n",
    "        print ('\\033[1m' + 'Дополнительные статистики по признаку',analyse,'\\033[m') \n",
    "    elif title_print == 'no':\n",
    "        None\n",
    "    \n",
    "    return data_describe"
   ]
  },
  {
   "cell_type": "code",
   "execution_count": 8,
   "metadata": {},
   "outputs": [],
   "source": [
    "# histogramms for float values\n",
    "def hist_fz(data,data_describe,analyse,size):\n",
    "    print ()\n",
    "    print ('\\033[1m' + 'Information about',analyse,'\\033[m')\n",
    "    print ()\n",
    "    \n",
    "    data_0 = data[data['target'] == 0][analyse]\n",
    "    data_1 = data[data['target'] == 1][analyse]\n",
    "    \n",
    "    min_data = data_describe['min'].min()\n",
    "    max_data = data_describe['max'].max()\n",
    "    \n",
    "    data0_mean = data_describe.loc['target_0']['mean']\n",
    "    data0_median = data_describe.loc['target_0']['50%']\n",
    "    data0_min = data_describe.loc['target_0']['min']\n",
    "    data0_max = data_describe.loc['target_0']['max']\n",
    "    data0_count = data_describe.loc['target_0']['count']\n",
    "    \n",
    "    \n",
    "    data1_mean = data_describe.loc['target_1']['mean']\n",
    "    data1_median = data_describe.loc['target_1']['50%'] \n",
    "    data1_min = data_describe.loc['target_1']['min']\n",
    "    data1_max = data_describe.loc['target_1']['max']\n",
    "    data1_count = data_describe.loc['target_1']['count']\n",
    "    \n",
    "    \n",
    "    print ('\\033[4m' + 'Analyse'+ '\\033[m','No duplicates')\n",
    "    \n",
    "    figure(figsize=size)\n",
    "    sns.distplot(data_0,color='darkgreen',kde = False)\n",
    "    \n",
    "    plt.scatter(data0_mean,0,s=200,marker='o',c='dimgray',label='Mean')\n",
    "    plt.scatter(data0_median,0,s=250,marker='|',c='black',label='Median')\n",
    "    plt.legend(scatterpoints=1,\n",
    "               loc='upper right',\n",
    "               ncol=3,\n",
    "               fontsize=16)\n",
    "    plt.xlim(min_data, max_data)\n",
    "    plt.show()\n",
    "    print ('Quantity:', data0_count,\n",
    "           '         Min:', round(data0_min,2),\n",
    "           '         Max:', round(data0_max,2),\n",
    "           '         Mean:', round(data0_mean,2),\n",
    "           '         Median:', round(data0_median,2))\n",
    "    \n",
    "    print ()\n",
    "    print ('\\033[4m' + 'Analyse'+ '\\033[m','Duplicates')\n",
    "    \n",
    "    figure(figsize=size)\n",
    "    sns.distplot(data_1,color='darkred',kde = False)\n",
    "    plt.scatter(data1_mean,0,s=200,marker='o',c='dimgray',label='Mean')\n",
    "    plt.scatter(data1_median,0,s=250,marker='|',c='black',label='Median')\n",
    "    plt.legend(scatterpoints=1,\n",
    "               loc='upper right',\n",
    "               ncol=3,\n",
    "               fontsize=16)\n",
    "    plt.xlim(min_data, max_data)\n",
    "    plt.show()\n",
    "    print ('Quantity:', data_1.count(),\n",
    "           '         Min:', round(data1_min,2),\n",
    "           '         Max:', round(data1_max,2),\n",
    "           '         Mean:', round(data1_mean,2),\n",
    "           '         Median:', round(data1_median,2))"
   ]
  },
  {
   "cell_type": "code",
   "execution_count": 9,
   "metadata": {},
   "outputs": [],
   "source": [
    "# draw boxplot\n",
    "def boxplot(data,analyse,size):\n",
    "    print ('\\033[4m' + 'Analyse'+ '\\033[m','All pairs')\n",
    "    \n",
    "    data_0 = data[data['target'] == 0][analyse]\n",
    "    data_1 = data[data['target'] == 1][analyse]\n",
    "    \n",
    "    figure(figsize=size)\n",
    "    sns.boxplot(x=analyse,y='target',data=data,orient='h',\n",
    "                showmeans=True,                \n",
    "                meanprops={\"marker\":\"o\",\n",
    "                           \"markerfacecolor\":\"dimgray\", \n",
    "                           \"markeredgecolor\":\"black\",\n",
    "                          \"markersize\":\"14\"},\n",
    "               palette=['palegreen', 'salmon'])\n",
    "    plt.ylabel('target', size=14)\n",
    "    plt.xlabel(analyse, size=14)\n",
    "    plt.show()"
   ]
  },
  {
   "cell_type": "code",
   "execution_count": 10,
   "metadata": {},
   "outputs": [],
   "source": [
    "# draw graph for analyse two choosing features for predict traget label\n",
    "def two_features(data,analyse1,analyse2,size):\n",
    "    fig = plt.subplots(figsize=size)\n",
    "    \n",
    "    x0 = data[data['target']==0][analyse1]\n",
    "    y0 = data[data['target']==0][analyse2]\n",
    "    x1 = data[data['target']==1][analyse1]\n",
    "    y1 = data[data['target']==1][analyse2]\n",
    "    \n",
    "    plt.scatter(x0,y0,c='green',marker='.')\n",
    "    plt.scatter(x1,y1,c='black',marker='+')\n",
    "    plt.xlabel(analyse1)\n",
    "    plt.ylabel(analyse2)\n",
    "    title = [analyse1,analyse2]\n",
    "    plt.title(title)\n",
    "    plt.show()"
   ]
  },
  {
   "cell_type": "markdown",
   "metadata": {},
   "source": [
    "Пятая функция предназначена для формирования таблицы угадываний и ошибок алгоритма, более известной как таблица сопряжения. \n",
    "\n",
    "Иными словами, после формирования вектора прогнозов, нам потребуется сопоставить прогноз с целевыми метками. Результатом такого сопоставления должна получиться таблица сопряжения для каждой пары компаний из обучающей выборки. В таблице сопряжения для каждой пары будет определен результат соответствия прогноза к классу из обучающей выборки. Классификация соответствия принята такой: 'True positive', 'False positive', 'True negative' или 'False negative'. Эти данные очень важны для анализа работы алгоритма и принятия решений по доработке модели и признакового пространства."
   ]
  },
  {
   "cell_type": "code",
   "execution_count": 11,
   "metadata": {},
   "outputs": [],
   "source": [
    "def contingency_table(X,features,probability_level,tridx,cvidx,model):\n",
    "    tr_predict_proba = model.predict_proba(X.iloc[tridx][features].values)\n",
    "    cv_predict_proba = model.predict_proba(X.iloc[cvidx][features].values)\n",
    "\n",
    "    tr_predict_target = (tr_predict_proba[:, 1] > probability_level).astype(np.int)\n",
    "    cv_predict_target = (cv_predict_proba[:, 1] > probability_level).astype(np.int)\n",
    "\n",
    "    X_tr = X.iloc[tridx]\n",
    "    X_cv = X.iloc[cvidx]\n",
    "\n",
    "    X_tr['predict_proba'] = tr_predict_proba[:,1]\n",
    "    X_cv['predict_proba'] = cv_predict_proba[:,1]\n",
    "\n",
    "    X_tr['predict_target'] = tr_predict_target\n",
    "    X_cv['predict_target'] = cv_predict_target\n",
    "\n",
    "    # make true positive column\n",
    "    data = pd.DataFrame(X_tr[X_tr['target']==1][X_tr['predict_target']==1]['pair_id'])\n",
    "    data['True_Positive'] = 1\n",
    "    X_tr = X_tr.merge(data,on='pair_id',how='left')\n",
    "\n",
    "    data = pd.DataFrame(X_cv[X_cv['target']==1][X_cv['predict_target']==1]['pair_id'])\n",
    "    data['True_Positive'] = 1\n",
    "    X_cv = X_cv.merge(data,on='pair_id',how='left')\n",
    "\n",
    "    # make false positive column\n",
    "    data = pd.DataFrame(X_tr[X_tr['target']==0][X_tr['predict_target']==1]['pair_id'])\n",
    "    data['False_Positive'] = 1\n",
    "    X_tr = X_tr.merge(data,on='pair_id',how='left')\n",
    "\n",
    "    data = pd.DataFrame(X_cv[X_cv['target']==0][X_cv['predict_target']==1]['pair_id'])\n",
    "    data['False_Positive'] = 1\n",
    "    X_cv = X_cv.merge(data,on='pair_id',how='left')\n",
    "\n",
    "    # make true negative column\n",
    "    data = pd.DataFrame(X_tr[X_tr['target']==0][X_tr['predict_target']==0]['pair_id'])\n",
    "    data['True_Negative'] = 1\n",
    "    X_tr = X_tr.merge(data,on='pair_id',how='left')\n",
    "\n",
    "    data = pd.DataFrame(X_cv[X_cv['target']==0][X_cv['predict_target']==0]['pair_id'])\n",
    "    data['True_Negative'] = 1\n",
    "    X_cv = X_cv.merge(data,on='pair_id',how='left')\n",
    "\n",
    "    # make false negative column\n",
    "    data = pd.DataFrame(X_tr[X_tr['target']==1][X_tr['predict_target']==0]['pair_id'])\n",
    "    data['False_Negative'] = 1\n",
    "    X_tr = X_tr.merge(data,on='pair_id',how='left')\n",
    "\n",
    "    data = pd.DataFrame(X_cv[X_cv['target']==1][X_cv['predict_target']==0]['pair_id'])\n",
    "    data['False_Negative'] = 1\n",
    "    X_cv = X_cv.merge(data,on='pair_id',how='left')\n",
    "    \n",
    "    return X_tr,X_cv"
   ]
  },
  {
   "cell_type": "markdown",
   "metadata": {},
   "source": [
    "Шестая функция предназначена для формирования матрицы сопряжения. Не путайте с таблицей сопряжения. Хотя одно следует из другого. Вы сами все увидете дальше"
   ]
  },
  {
   "cell_type": "code",
   "execution_count": 12,
   "metadata": {},
   "outputs": [],
   "source": [
    "def matrix_confusion(X):\n",
    "\n",
    "    list_matrix = ['True_Positive','False_Positive','True_Negative','False_Negative']\n",
    "\n",
    "    tr_pos = X[list_matrix].sum().loc['True_Positive']\n",
    "    f_pos = X[list_matrix].sum().loc['False_Positive']\n",
    "    tr_neg = X[list_matrix].sum().loc['True_Negative']\n",
    "    f_neg = X[list_matrix].sum().loc['False_Negative']\n",
    "    matrix_confusion = pd.DataFrame()\n",
    "    matrix_confusion['0_algorythm'] = np.array([tr_neg,f_neg]).T\n",
    "    matrix_confusion['1_algorythm'] = np.array([f_pos,tr_pos]).T\n",
    "    matrix_confusion = matrix_confusion.rename(index={0: '0_target', 1: '1_target'})\n",
    "    \n",
    "    return matrix_confusion"
   ]
  },
  {
   "cell_type": "markdown",
   "metadata": {},
   "source": [
    "Седьмая функция предназначена для визуализации отчета о работе алгоритма, который включает в себя матрицу сопряжения, значения метрик precision, recall, f1"
   ]
  },
  {
   "cell_type": "code",
   "execution_count": 13,
   "metadata": {},
   "outputs": [],
   "source": [
    "def report_score(tr_matrix_confusion,\n",
    "                 cv_matrix_confusion,\n",
    "                 data,tridx,cvidx,\n",
    "                 X_tr,X_cv):\n",
    "    # print some imporatant information\n",
    "    print ('\\033[1m'+'Matrix confusion on train data'+'\\033[m')\n",
    "    display(tr_matrix_confusion)\n",
    "    print ()\n",
    "    print(classification_report(data.iloc[tridx][\"target\"].values, X_tr['predict_target']))\n",
    "    print ('******************************************************')\n",
    "    print ()\n",
    "    print ()\n",
    "    print ('\\033[1m'+'Matrix confusion on test(cv) data'+'\\033[m')\n",
    "    display(cv_matrix_confusion)\n",
    "    print ()\n",
    "    print(classification_report(data.iloc[cvidx][\"target\"].values, X_cv['predict_target']))\n",
    "    print ('******************************************************')"
   ]
  },
  {
   "cell_type": "markdown",
   "metadata": {},
   "source": [
    "С помощью восьмой и девятой функции проведем анализ на полезность признаков для используемой модели из Light GBM с точки зрения значения коэффициента 'Information gain' для каждого исследуемого признака"
   ]
  },
  {
   "cell_type": "code",
   "execution_count": 15,
   "metadata": {},
   "outputs": [],
   "source": [
    "def table_gain_coef(model,features,start,stop):\n",
    "    \n",
    "    data_gain = pd.DataFrame()\n",
    "    data_gain['Features'] = features\n",
    "    data_gain['Gain'] = model.booster_.feature_importance(importance_type='gain')\n",
    "    return data_gain.sort_values('Gain', ascending=False)[start:stop]"
   ]
  },
  {
   "cell_type": "code",
   "execution_count": 16,
   "metadata": {},
   "outputs": [],
   "source": [
    "def gain_hist(df,size,start,stop):\n",
    "    fig, ax = plt.subplots(figsize=(size))\n",
    "    x = (df.sort_values('Gain', ascending=False)['Features'][start:stop])\n",
    "    y = (df.sort_values('Gain', ascending=False)['Gain'][start:stop])\n",
    "    plt.bar(x,y)\n",
    "    plt.xlabel('Features')\n",
    "    plt.ylabel('Gain')\n",
    "    plt.xticks(rotation=90)\n",
    "    plt.show()"
   ]
  },
  {
   "cell_type": "markdown",
   "metadata": {},
   "source": [
    "Десятая функция нужна для формирования массива количества совпадающих слов для каждой пары компаний. \n",
    "\n",
    "Эту функцию также можно использовать для формирования массива НЕ совпадающих слов."
   ]
  },
  {
   "cell_type": "code",
   "execution_count": 17,
   "metadata": {},
   "outputs": [],
   "source": [
    "def compair_metrics(data):\n",
    "    duplicate_count = []\n",
    "    duplicate_sum = []\n",
    "    for i in range(len(data)):\n",
    "        count=len(data[i])\n",
    "        duplicate_count.append(count)\n",
    "        if count <= 0:\n",
    "            duplicate_sum.append(0)\n",
    "        elif count > 0:\n",
    "            temp_sum = 0\n",
    "            for j in range(len(data[i])):\n",
    "                temp_sum +=len(data[i][j])\n",
    "            duplicate_sum.append(temp_sum)\n",
    "\n",
    "    return duplicate_count,duplicate_sum    "
   ]
  },
  {
   "cell_type": "markdown",
   "metadata": {},
   "source": [
    "Одинадцатая функция проводит транслитерацию русского текста в латиницу"
   ]
  },
  {
   "cell_type": "code",
   "execution_count": 18,
   "metadata": {},
   "outputs": [],
   "source": [
    "def transliterate(data):\n",
    "    text_transliterate = []\n",
    "    for i in range(data.shape[0]):\n",
    "        temp_list = list(data[i:i+1])\n",
    "        temp_str = ''.join(temp_list)\n",
    "        result = cyrtranslit.to_latin(temp_str,'ru')\n",
    "        text_transliterate.append(result)\n",
    "    return text_transliterate"
   ]
  },
  {
   "cell_type": "markdown",
   "metadata": {},
   "source": [
    "Двенадцатая функция нужна для переименования столбцов таблицы после агрегирования данных. \n",
    "\n",
    "Дело в том, что после агрегации данных, названия столбцов, как бы распадаются на два уровня. В итоге, для приведения таблицы к принятому в исследовании формату, используем самописную функцию"
   ]
  },
  {
   "cell_type": "code",
   "execution_count": 19,
   "metadata": {},
   "outputs": [],
   "source": [
    "def rename_agg_columns(id_client,data,rename):\n",
    "    columns = [id_client]\n",
    "    for lev_0 in data.columns.levels[0]:\n",
    "        if lev_0 != id_client:\n",
    "            for lev_1 in data.columns.levels[1][:-1]:\n",
    "                columns.append(rename % (lev_0, lev_1))\n",
    "    data.columns = columns\n",
    "    return data"
   ]
  },
  {
   "cell_type": "markdown",
   "metadata": {},
   "source": [
    "Тринадцатая и четырнадцатая функции нужны для просмотра и формирования таблицы дистанции Левенштейна и других важных показателей.\n",
    "\n",
    "Что это вообще за таблица, какие в ней метрики и как она формируется? Давайте рассмотрим пошагово формирование таблицы:\n",
    " - Шаг 1. Определим какие данные нам будут нужны. ID пары, финишная обработка текста - оба столбца, список названий холдингов (топ 50 компаний нефтехимической и строительной индустрии).\n",
    " - Шаг 2. В столбце 1 в каждой паре от каждого слова замерим дистанцию Левенштейна до каждого слова из списка названий холдингов, а также длину каждого слова и отношение дистанции к длине.\n",
    " - Шаг 3. В случае, если значение отношения окажется меньше или равно 0.4, то от сравниваемого слова из списка названий топ холдингов определим дистанцию до каждого слова из второго столбца соответствующей id пары, а также длину каждого из слов и отношение дистанции к длине.\n",
    " - Шаг 4. В случае, если в очередной раз отношение оказывается меньше или равно 0.4, то все собранные метрики фиксируются.\n",
    " - Шаг 5. По завершению алгоритма будет сформирована таблица, в которой первый столбец ID пары, а последующие столбцы - метрики. Данные в таблице необходимо агрегировать по id пары (так как могут быть случаи сильного соответствия слов из одной id пары двум названиям холдингов). При агрегировании данных выбираем минимальные значения.\n",
    " - Шаг 6. Склеиваем полученную таблицу с таблицей исследования. \n",
    " \n",
    "*Важная особенность: расчет занимает продолжительное время из-за написанного на скорую руку кода*"
   ]
  },
  {
   "cell_type": "code",
   "execution_count": 20,
   "metadata": {},
   "outputs": [],
   "source": [
    "def dist_name_to_top_list_view(data,column1,column2,list_top_companies):\n",
    "    id_pair = []\n",
    "    r1 = []\n",
    "    r2 = []\n",
    "    words1 = []\n",
    "    words2 = []\n",
    "    top_words = []\n",
    "\n",
    "    for n in range(0, data.shape[0], 1):\n",
    "        for line1 in data[column1][n:n+1]:\n",
    "            line1 = line1.split()\n",
    "            for word1 in line1:\n",
    "                if len(word1) >=3:\n",
    "                    for top_word in list_top_companies:\n",
    "                        dist1 = levenshtein.distance(word1, top_word)\n",
    "                        ratio = max(dist1/float(len(top_word)),dist1/float(len(word1)))\n",
    "                        if ratio <= 0.4:\n",
    "                            ratio1 = ratio\n",
    "                            break\n",
    "                    if ratio <= 0.4:\n",
    "                        for line2 in data[column2][n:n+1]:\n",
    "                            line2 = line2.split()\n",
    "                            for word2 in line2:\n",
    "                                dist2 = levenshtein.distance(word2, top_word)\n",
    "                                ratio = max(dist2/float(len(top_word)),dist2/float(len(word2)))\n",
    "                                if ratio <= 0.4:\n",
    "                                    ratio2 = ratio\n",
    "                                    id_pair.append(int(data['pair_id'][n:n+1].values))\n",
    "                                    r1.append(ratio1)\n",
    "                                    r2.append(ratio2)\n",
    "                                    break\n",
    "\n",
    "    df = pd.DataFrame()\n",
    "    df['pair_id'] = id_pair\n",
    "    df['levenstein_dist_w1_top_w'] = dist1\n",
    "    df['levenstein_dist_w2_top_w'] = dist2\n",
    "    df['length_w1_top_w'] = len(word1)\n",
    "    df['length_w2_top_w'] = len(word2)\n",
    "    df['length_top_w'] = len(top_word)\n",
    "    df['ratio_dist_w1_to_top_w'] = r1\n",
    "    df['ratio_dist_w2_to_top_w'] = r2\n",
    "    feature = df.groupby(['pair_id']).agg([min]).reset_index()\n",
    "    feature = rename_agg_columns(id_client='pair_id',data=feature,rename='%s_%s')\n",
    "\n",
    "    data = data.merge(feature,on='pair_id',how='left')\n",
    "    display(data)\n",
    "    print ('Words:', word1,word2,top_word)\n",
    "    print ('Levenstein distance:',dist1,dist2)\n",
    "    print ('Length of word:',len(word1),len(word2),len(top_word))\n",
    "    print ('Ratio (distance/length word):',ratio1,ratio2)"
   ]
  },
  {
   "cell_type": "code",
   "execution_count": 21,
   "metadata": {},
   "outputs": [],
   "source": [
    "def dist_name_to_top_list_make(data,column1,column2,list_top_companies):\n",
    "    id_pair = []\n",
    "    r1 = []\n",
    "    r2 = []\n",
    "    dist_w1 = []\n",
    "    dist_w2 = []\n",
    "    length_w1 = []\n",
    "    length_w2 = []\n",
    "    length_top_w = []\n",
    "\n",
    "    for n in range(0, data.shape[0], 1):\n",
    "        for line1 in data[column1][n:n+1]:\n",
    "            line1 = line1.split()\n",
    "            for word1 in line1:\n",
    "                if len(word1) >=3:\n",
    "                    for top_word in list_top_companies:\n",
    "                        dist1 = levenshtein.distance(word1, top_word)\n",
    "                        ratio = max(dist1/float(len(top_word)),dist1/float(len(word1)))\n",
    "                        if ratio <= 0.4:\n",
    "                            ratio1 = ratio\n",
    "                            break\n",
    "                    if ratio <= 0.4:\n",
    "                        for line2 in data[column2][n:n+1]:\n",
    "                            line2 = line2.split()\n",
    "                            for word2 in line2:\n",
    "                                dist2 = levenshtein.distance(word2, top_word)\n",
    "                                ratio = max(dist2/float(len(top_word)),dist2/float(len(word2)))\n",
    "                                if ratio <= 0.4:\n",
    "                                    ratio2 = ratio\n",
    "                                    id_pair.append(int(data['pair_id'][n:n+1].values))\n",
    "                                    r1.append(ratio1)\n",
    "                                    r2.append(ratio2)\n",
    "                                    dist_w1.append(dist1)\n",
    "                                    dist_w2.append(dist2)\n",
    "                                    length_w1.append(float(len(word1)))\n",
    "                                    length_w2.append(float(len(word2)))\n",
    "                                    length_top_w.append(float(len(top_word)))\n",
    "                                    break\n",
    "\n",
    "    df = pd.DataFrame()\n",
    "    df['pair_id'] = id_pair\n",
    "    df['levenstein_dist_w1_top_w'] = dist_w1\n",
    "    df['levenstein_dist_w2_top_w'] = dist_w2\n",
    "    df['length_w1_top_w'] = length_w1\n",
    "    df['length_w2_top_w'] = length_w2\n",
    "    df['length_top_w'] = length_top_w\n",
    "    df['ratio_dist_w1_to_top_w'] = r1\n",
    "    df['ratio_dist_w2_to_top_w'] = r2\n",
    "    feature = df.groupby(['pair_id']).agg([min]).reset_index()\n",
    "    feature = rename_agg_columns(id_client='pair_id',data=feature,rename='%s_%s')\n",
    "\n",
    "    data = data.merge(feature,on='pair_id',how='left')\n",
    "    return data"
   ]
  },
  {
   "cell_type": "markdown",
   "metadata": {},
   "source": [
    "# Предобработка данных\n",
    "Из моего небольшого опыта именно предобработка данных в широком смысле этого выражения занимает большее время. Пойдем по порядку.\n",
    "\n",
    "## Загрузим данные\n",
    "\n",
    "Здесь все очень просто. Загрузим данные и заменим название столбца с целевой меткой \"is_duplicate\" на \"target\". Это делается для удобства использования функций - некоторые из них были написаны в рамках более ранних исследований и они используют название столбца с целевой меткой как \"target\"."
   ]
  },
  {
   "cell_type": "code",
   "execution_count": 22,
   "metadata": {},
   "outputs": [],
   "source": [
    "# DOWNLOAD DATA\n",
    "text_train = pd.read_csv('train.csv')\n",
    "text_test = pd.read_csv('test.csv')"
   ]
  },
  {
   "cell_type": "code",
   "execution_count": 23,
   "metadata": {},
   "outputs": [],
   "source": [
    "# RENAME DATA\n",
    "text_train = text_train.rename(columns={\"is_duplicate\": \"target\"})"
   ]
  },
  {
   "cell_type": "markdown",
   "metadata": {},
   "source": [
    "## Посмотрим на  данные\n",
    "Данные загрузили. Давайте посмотрим сколько всего объектов и насколько они сбалансированны."
   ]
  },
  {
   "cell_type": "code",
   "execution_count": 24,
   "metadata": {},
   "outputs": [
    {
     "name": "stdout",
     "output_type": "stream",
     "text": [
      "There are 497819 objects\n",
      "There are 3658 objects with target 1\n",
      "There are 494161 objects with target 0\n",
      "Balance is 0.74 %\n"
     ]
    }
   ],
   "source": [
    "# ANALYSE BALANCE OF DATA\n",
    "target_1 = text_train[text_train['target']==1]['target'].count()\n",
    "target_0 = text_train[text_train['target']==0]['target'].count()\n",
    "\n",
    "print ('There are', text_train.shape[0], 'objects')\n",
    "print ('There are', target_1, 'objects with target 1')\n",
    "print ('There are', target_0, 'objects with target 0')\n",
    "print ('Balance is', round(100*target_1/target_0,2),'%')"
   ]
  },
  {
   "cell_type": "markdown",
   "metadata": {},
   "source": [
    "Объектов не мало - почти 500 тысяч и они вообще никак не сбалансированы. То есть из почти 500 тысяч объектов, всего менее 4 тысяч - имеют целевую метку 1 (менее 1%)\n",
    "\n",
    "Давайте посмотрим на саму таблицу. Посмотрим на первые пять объектов с разметкой 0 и первые пять объектов с разметкой 1."
   ]
  },
  {
   "cell_type": "code",
   "execution_count": 25,
   "metadata": {},
   "outputs": [
    {
     "data": {
      "text/html": [
       "<div>\n",
       "<style scoped>\n",
       "    .dataframe tbody tr th:only-of-type {\n",
       "        vertical-align: middle;\n",
       "    }\n",
       "\n",
       "    .dataframe tbody tr th {\n",
       "        vertical-align: top;\n",
       "    }\n",
       "\n",
       "    .dataframe thead th {\n",
       "        text-align: right;\n",
       "    }\n",
       "</style>\n",
       "<table border=\"1\" class=\"dataframe\">\n",
       "  <thead>\n",
       "    <tr style=\"text-align: right;\">\n",
       "      <th></th>\n",
       "      <th>pair_id</th>\n",
       "      <th>name_1</th>\n",
       "      <th>name_2</th>\n",
       "      <th>target</th>\n",
       "    </tr>\n",
       "  </thead>\n",
       "  <tbody>\n",
       "    <tr>\n",
       "      <th>0</th>\n",
       "      <td>1</td>\n",
       "      <td>Iko Industries Ltd.</td>\n",
       "      <td>Enormous Industrial Trade Pvt., Ltd.</td>\n",
       "      <td>0</td>\n",
       "    </tr>\n",
       "    <tr>\n",
       "      <th>1</th>\n",
       "      <td>2</td>\n",
       "      <td>Apcotex Industries Ltd.</td>\n",
       "      <td>Technocraft Industries (India) Ltd.</td>\n",
       "      <td>0</td>\n",
       "    </tr>\n",
       "    <tr>\n",
       "      <th>2</th>\n",
       "      <td>3</td>\n",
       "      <td>Rishichem Distributors Pvt., Ltd.</td>\n",
       "      <td>Dsa</td>\n",
       "      <td>0</td>\n",
       "    </tr>\n",
       "    <tr>\n",
       "      <th>3</th>\n",
       "      <td>4</td>\n",
       "      <td>Powermax Rubber Factory</td>\n",
       "      <td>Co. One</td>\n",
       "      <td>0</td>\n",
       "    </tr>\n",
       "    <tr>\n",
       "      <th>4</th>\n",
       "      <td>5</td>\n",
       "      <td>Tress A/S</td>\n",
       "      <td>Longyou Industries Park Zhejiang</td>\n",
       "      <td>0</td>\n",
       "    </tr>\n",
       "  </tbody>\n",
       "</table>\n",
       "</div>"
      ],
      "text/plain": [
       "   pair_id                             name_1  \\\n",
       "0        1                Iko Industries Ltd.   \n",
       "1        2            Apcotex Industries Ltd.   \n",
       "2        3  Rishichem Distributors Pvt., Ltd.   \n",
       "3        4            Powermax Rubber Factory   \n",
       "4        5                          Tress A/S   \n",
       "\n",
       "                                 name_2  target  \n",
       "0  Enormous Industrial Trade Pvt., Ltd.       0  \n",
       "1   Technocraft Industries (India) Ltd.       0  \n",
       "2                                   Dsa       0  \n",
       "3                               Co. One       0  \n",
       "4      Longyou Industries Park Zhejiang       0  "
      ]
     },
     "metadata": {},
     "output_type": "display_data"
    },
    {
     "data": {
      "text/html": [
       "<div>\n",
       "<style scoped>\n",
       "    .dataframe tbody tr th:only-of-type {\n",
       "        vertical-align: middle;\n",
       "    }\n",
       "\n",
       "    .dataframe tbody tr th {\n",
       "        vertical-align: top;\n",
       "    }\n",
       "\n",
       "    .dataframe thead th {\n",
       "        text-align: right;\n",
       "    }\n",
       "</style>\n",
       "<table border=\"1\" class=\"dataframe\">\n",
       "  <thead>\n",
       "    <tr style=\"text-align: right;\">\n",
       "      <th></th>\n",
       "      <th>pair_id</th>\n",
       "      <th>name_1</th>\n",
       "      <th>name_2</th>\n",
       "      <th>target</th>\n",
       "    </tr>\n",
       "  </thead>\n",
       "  <tbody>\n",
       "    <tr>\n",
       "      <th>161</th>\n",
       "      <td>162</td>\n",
       "      <td>JX Nippon Oil &amp; Gas Exploration (Brasil) Ltda</td>\n",
       "      <td>JX Nippon Oil &amp; Gas Exploration Technical Serv...</td>\n",
       "      <td>1</td>\n",
       "    </tr>\n",
       "    <tr>\n",
       "      <th>603</th>\n",
       "      <td>604</td>\n",
       "      <td>Pirelli Neumaticos S.A.I.C.</td>\n",
       "      <td>Pirelli Tyre Co., Ltd.</td>\n",
       "      <td>1</td>\n",
       "    </tr>\n",
       "    <tr>\n",
       "      <th>835</th>\n",
       "      <td>836</td>\n",
       "      <td>Brenntag Australia (Pty) Ltd.</td>\n",
       "      <td>Brenntag Group</td>\n",
       "      <td>1</td>\n",
       "    </tr>\n",
       "    <tr>\n",
       "      <th>1328</th>\n",
       "      <td>1329</td>\n",
       "      <td>PAUL BAUDER GMBH &amp; CO KG, BOCHUM PLANT</td>\n",
       "      <td>Paul Bauder ag</td>\n",
       "      <td>1</td>\n",
       "    </tr>\n",
       "    <tr>\n",
       "      <th>1562</th>\n",
       "      <td>1563</td>\n",
       "      <td>TOTAL CESKA REPUBLIKA s.r.o.</td>\n",
       "      <td>TOTAL FRANCE (ARNAY LE DUC)</td>\n",
       "      <td>1</td>\n",
       "    </tr>\n",
       "  </tbody>\n",
       "</table>\n",
       "</div>"
      ],
      "text/plain": [
       "      pair_id                                         name_1  \\\n",
       "161       162  JX Nippon Oil & Gas Exploration (Brasil) Ltda   \n",
       "603       604                    Pirelli Neumaticos S.A.I.C.   \n",
       "835       836                  Brenntag Australia (Pty) Ltd.   \n",
       "1328     1329         PAUL BAUDER GMBH & CO KG, BOCHUM PLANT   \n",
       "1562     1563                   TOTAL CESKA REPUBLIKA s.r.o.   \n",
       "\n",
       "                                                 name_2  target  \n",
       "161   JX Nippon Oil & Gas Exploration Technical Serv...       1  \n",
       "603                              Pirelli Tyre Co., Ltd.       1  \n",
       "835                                      Brenntag Group       1  \n",
       "1328                                     Paul Bauder ag       1  \n",
       "1562                        TOTAL FRANCE (ARNAY LE DUC)       1  "
      ]
     },
     "metadata": {},
     "output_type": "display_data"
    }
   ],
   "source": [
    "display(text_train[text_train['target']==0].head(5))\n",
    "\n",
    "display(text_train[text_train['target']==1].head(5))"
   ]
  },
  {
   "cell_type": "markdown",
   "metadata": {},
   "source": [
    "Сразу напрашиваются некоторые простые шаги: привести текст к одному регистру, убрать всякие стоп-слова, типа 'ltd', удалить страны и заодно названия географических объектов. \n",
    "\n",
    "Собственно, примерно так в этой задаче может проходить решение - делаешь какую-нибудь предобработку, убеждаешься в том, что она работает как надо, запускаешь модель, смотришь качество и анализируешь выборочно объекты, на которых модель ошибается. Именно так я и проводил исследование. Но в самой статье дано итоговое решение и качество работы алгоритма после каждой предобработки не разбирается, в конце статьи мы проведем итоговый разбор. Иначе статья была бы неописуемых размеров :)\n",
    "\n",
    "## Сделаем копии\n",
    "Если честно, то не знаю зачем я это делаю, но почему-то всегда это делаю. Сделаю и в этот раз"
   ]
  },
  {
   "cell_type": "code",
   "execution_count": 26,
   "metadata": {},
   "outputs": [],
   "source": [
    "baseline_train = text_train.copy()\n",
    "baseline_test = text_test.copy()"
   ]
  },
  {
   "cell_type": "markdown",
   "metadata": {},
   "source": [
    "## Переведем все символы из текста в нижний регистр"
   ]
  },
  {
   "cell_type": "code",
   "execution_count": 27,
   "metadata": {},
   "outputs": [],
   "source": [
    "# convert text to lowercase\n",
    "columns = ['name_1','name_2']\n",
    "for column in columns:\n",
    "    lower_str(baseline_train,column)\n",
    "for column in columns:\n",
    "    lower_str(baseline_test,column)"
   ]
  },
  {
   "cell_type": "markdown",
   "metadata": {},
   "source": [
    "## Удалим названия стран\n",
    "Надо отметить, что организаторы конкурса - большие молодцы! Вместе с заданием они дали ноутбук с очень простым baseline, в котором был предоставлен, в том числе и нижеприведенный код."
   ]
  },
  {
   "cell_type": "code",
   "execution_count": 28,
   "metadata": {},
   "outputs": [
    {
     "name": "stderr",
     "output_type": "stream",
     "text": [
      "100%|██████████| 249/249 [08:11<00:00,  1.97s/it]\n"
     ]
    }
   ],
   "source": [
    "# drop any names of countries\n",
    "countries = [country.name.lower() for country in pycountry.countries]\n",
    "for country in tqdm(countries):\n",
    "    baseline_train.replace(re.compile(country), \"\", inplace=True)\n",
    "    baseline_test.replace(re.compile(country), \"\", inplace=True)"
   ]
  },
  {
   "cell_type": "markdown",
   "metadata": {},
   "source": [
    "## Удалим знаки и спецсимволы"
   ]
  },
  {
   "cell_type": "code",
   "execution_count": 29,
   "metadata": {},
   "outputs": [],
   "source": [
    "# drop punctuation marks\n",
    "baseline_train.replace(re.compile(r\"\\s+\\(.*\\)\"), \"\", inplace=True)\n",
    "baseline_test.replace(re.compile(r\"\\s+\\(.*\\)\"), \"\", inplace=True)\n",
    "\n",
    "baseline_train.replace(re.compile(r\"[^\\w\\s]\"), \"\", inplace=True)\n",
    "baseline_test.replace(re.compile(r\"[^\\w\\s]\"), \"\", inplace=True)"
   ]
  },
  {
   "cell_type": "markdown",
   "metadata": {},
   "source": [
    "## Удалим цифры\n",
    "Удаление цифр из текста прямо в лоб, в первой попытке сильно испортило качество модели. Код я здесь приведу, но по факту он не использовался.\n",
    "\n",
    "Также обратите внимание, что до этого момента мы проводили преобразование прямо в столбцах, которые нам были даны. Давайте теперь будем создавать новые столбцы для каждой предобработки. Столбцов получится больше, зато если где-то на каком-то этапе предобработки произойдет сбой - ничего страшного, делать все с самого начала не нужно, ведь у нас будут столбы с каждого этапа предобработки."
   ]
  },
  {
   "cell_type": "code",
   "execution_count": 30,
   "metadata": {},
   "outputs": [],
   "source": [
    "# # first: make dictionary of frequency every word\n",
    "# list_words = baseline_train['name_1'].to_string(index=False).split() +\\\n",
    "#                 baseline_train['name_2'].to_string(index=False).split()\n",
    "# freq_words = {}\n",
    "# for w in list_words:\n",
    "#     freq_words[w] = freq_words.get(w, 0) + 1\n",
    "    \n",
    "# # second: make data frame of frequency words\n",
    "# df_freq = pd.DataFrame.from_dict(freq_words,orient='index').reset_index()\n",
    "# df_freq.columns = ['word','frequency']\n",
    "# df_freq_agg = df_freq.groupby(['word']).agg([sum]).reset_index()\n",
    "# df_freq_agg = rename_agg_columns(id_client='word',data=df_freq_agg,rename='%s_%s')\n",
    "# df_freq_agg = df_freq_agg.sort_values(by=['frequency_sum'], ascending=False)\n",
    "\n",
    "# # third: make drop list of digits\n",
    "# string = df_freq_agg['word'].to_string(index=False)\n",
    "# digits = [int(digit) for digit in string.split() if digit.isdigit()]\n",
    "# digits = set(digits)\n",
    "# digits = list(digits)\n",
    "\n",
    "# # drop the digits\n",
    "# baseline_train['name_1_no_digits'] =\\\n",
    "#     baseline_train['name_1'].apply(\n",
    "#     lambda x: ' '.join([word for word in x.split() if word not in (drop_list)]))\n",
    "# baseline_train['name_2_no_digits'] =\\\n",
    "#     baseline_train['name_2'].apply(\n",
    "#     lambda x: ' '.join([word for word in x.split() if word not in (drop_list)]))\n",
    "\n",
    "# baseline_test['name_1_no_digits'] =\\\n",
    "#     baseline_test['name_1'].apply(\n",
    "#     lambda x: ' '.join([word for word in x.split() if word not in (drop_list)]))\n",
    "# baseline_test['name_2_no_digits'] =\\\n",
    "#     baseline_test['name_2'].apply(\n",
    "#     lambda x: ' '.join([word for word in x.split() if word not in (drop_list)]))"
   ]
  },
  {
   "cell_type": "markdown",
   "metadata": {},
   "source": [
    "## Удалим... первый список стоп-слов. Вручную!\n",
    "\n",
    "Теперь предлагается определить и удалить стоп-слова из списка слов в названиях компаний. \n",
    "\n",
    "Список мы составили на основании ручного просмотра обучающей выборки. По логике, такой список нужно составлять автоматически, используя следующие подходы:\n",
    " - во-первых, использовать топ 10 (20,50,100) часто встречающихся слов. \n",
    " - во-вторых, использовать стандартные библиотеки стоп-слов на различных языках. Например, обозначения организационно-правовых форм организаций на различных языках (ООО, ПАО, ЗАО, ltd, gmbh, inc и др.) \n",
    " - в-третьих, имеет смысл составить список географических названий на различных языках\n",
    " \n",
    "К первому варианту автоматического составления списка топ часто встречающихся слов мы еще вернемся, а пока смотрим на ручную предобработку."
   ]
  },
  {
   "cell_type": "code",
   "execution_count": 31,
   "metadata": {},
   "outputs": [],
   "source": [
    "# drop some stop-words\n",
    "drop_list = [\"ltd.\", \"co.\", \"inc.\", \"b.v.\", \"s.c.r.l.\", \"gmbh\", \"pvt.\",\n",
    "             \n",
    "             'retail','usa','asia','ceska republika','limited','tradig','llc','group',\n",
    "             'international','plc','retail','tire','mills','chemical','korea','brasil',\n",
    "             'holding','vietnam','tyre','venezuela','polska','americas','industrial','taiwan',\n",
    "             'europe','america','north','czech republic','retailers','retails',\n",
    "            \n",
    "            'mexicana','corporation','corp','ltd','co','toronto','nederland','shanghai','gmb','pacific',\n",
    "            'industries','industrias',\n",
    "            \n",
    "            'inc', 'ltda', 'ооо', 'ООО', 'зао', 'ЗАО', 'оао', 'ОАО', 'пао', 'ПАО', 'ceska republika', 'ltda', \n",
    "            'sibur', 'enterprises', 'electronics', 'products', 'distribution', 'logistics', 'development',\n",
    "            'technologies', 'pvt', 'technologies', 'comercio', 'industria', 'trading', 'internacionais', \n",
    "            'bank', 'sports',\n",
    "            \n",
    "            'express','east', 'west', 'south', 'north', 'factory', 'transportes', 'trade', 'banco',\n",
    "            'management', 'engineering', 'investments', 'enterprise', 'city', 'national', 'express', 'tech', \n",
    "            'auto', 'transporte', 'technology', 'and', 'central', 'american',\n",
    "            \n",
    "            'logistica','global','exportacao', 'ceska republika', 'vancouver', 'deutschland',\n",
    "            \n",
    "            'sro','rus','chemicals','private','distributors','tyres','industry','services','italia','beijing',\n",
    "            \n",
    "            'рус','company','the','und']\n",
    "\n",
    "baseline_train['name_1_non_stop_words'] =\\\n",
    "    baseline_train['name_1'].apply(\n",
    "    lambda x: ' '.join([word for word in x.split() if word not in (drop_list)]))\n",
    "baseline_train['name_2_non_stop_words'] =\\\n",
    "    baseline_train['name_2'].apply(\n",
    "    lambda x: ' '.join([word for word in x.split() if word not in (drop_list)]))\n",
    "\n",
    "baseline_test['name_1_non_stop_words'] =\\\n",
    "    baseline_test['name_1'].apply(\n",
    "    lambda x: ' '.join([word for word in x.split() if word not in (drop_list)]))\n",
    "baseline_test['name_2_non_stop_words'] =\\\n",
    "    baseline_test['name_2'].apply(\n",
    "    lambda x: ' '.join([word for word in x.split() if word not in (drop_list)]))"
   ]
  },
  {
   "cell_type": "markdown",
   "metadata": {},
   "source": [
    "Давайте выборочно проверим, что наши стоп слова были действительно удалены из текста"
   ]
  },
  {
   "cell_type": "code",
   "execution_count": 33,
   "metadata": {},
   "outputs": [
    {
     "data": {
      "text/html": [
       "<div>\n",
       "<style scoped>\n",
       "    .dataframe tbody tr th:only-of-type {\n",
       "        vertical-align: middle;\n",
       "    }\n",
       "\n",
       "    .dataframe tbody tr th {\n",
       "        vertical-align: top;\n",
       "    }\n",
       "\n",
       "    .dataframe thead th {\n",
       "        text-align: right;\n",
       "    }\n",
       "</style>\n",
       "<table border=\"1\" class=\"dataframe\">\n",
       "  <thead>\n",
       "    <tr style=\"text-align: right;\">\n",
       "      <th></th>\n",
       "      <th>pair_id</th>\n",
       "      <th>name_1</th>\n",
       "      <th>name_2</th>\n",
       "      <th>target</th>\n",
       "      <th>name_1_non_stop_words</th>\n",
       "      <th>name_2_non_stop_words</th>\n",
       "    </tr>\n",
       "  </thead>\n",
       "  <tbody>\n",
       "    <tr>\n",
       "      <th>2503</th>\n",
       "      <td>2504</td>\n",
       "      <td>shenzhen the well leatherware manufactory ltd</td>\n",
       "      <td>manduka llc</td>\n",
       "      <td>0</td>\n",
       "      <td>shenzhen well leatherware manufactory</td>\n",
       "      <td>manduka</td>\n",
       "    </tr>\n",
       "    <tr>\n",
       "      <th>5609</th>\n",
       "      <td>5610</td>\n",
       "      <td>thai sin anant rubber factory2516</td>\n",
       "      <td>united rubber ltd</td>\n",
       "      <td>0</td>\n",
       "      <td>thai sin anant rubber factory2516</td>\n",
       "      <td>united rubber</td>\n",
       "    </tr>\n",
       "    <tr>\n",
       "      <th>11489</th>\n",
       "      <td>11490</td>\n",
       "      <td>thai sin anant rubber factory2516</td>\n",
       "      <td>m2 a</td>\n",
       "      <td>0</td>\n",
       "      <td>thai sin anant rubber factory2516</td>\n",
       "      <td>m2 a</td>\n",
       "    </tr>\n",
       "  </tbody>\n",
       "</table>\n",
       "</div>"
      ],
      "text/plain": [
       "       pair_id                                         name_1  \\\n",
       "2503      2504  shenzhen the well leatherware manufactory ltd   \n",
       "5609      5610              thai sin anant rubber factory2516   \n",
       "11489    11490              thai sin anant rubber factory2516   \n",
       "\n",
       "                  name_2  target                  name_1_non_stop_words  \\\n",
       "2503         manduka llc       0  shenzhen well leatherware manufactory   \n",
       "5609   united rubber ltd       0      thai sin anant rubber factory2516   \n",
       "11489               m2 a       0      thai sin anant rubber factory2516   \n",
       "\n",
       "      name_2_non_stop_words  \n",
       "2503                manduka  \n",
       "5609          united rubber  \n",
       "11489                  m2 a  "
      ]
     },
     "execution_count": 33,
     "metadata": {},
     "output_type": "execute_result"
    }
   ],
   "source": [
    "baseline_train[baseline_train.name_1_non_stop_words.str.contains(\"factory\")].head(3)"
   ]
  },
  {
   "cell_type": "markdown",
   "metadata": {},
   "source": [
    "Вроде все работает. Удалены все стоп-слова, которые отделены пробелом. То, что мы и хотели. Двигаемся дальше. \n",
    "## Проведем транслитерацию русского текста в латиницу\n",
    "\n",
    "Я использую для этого свою самописную функцию и библиотеку cyrtranslit. Вроде работает. Проверял вручную."
   ]
  },
  {
   "cell_type": "code",
   "execution_count": 34,
   "metadata": {},
   "outputs": [],
   "source": [
    "# transliteration to latin\n",
    "baseline_train['name_1_transliterated'] = transliterate(baseline_train['name_1_non_stop_words'])\n",
    "baseline_train['name_2_transliterated'] = transliterate(baseline_train['name_2_non_stop_words'])\n",
    "baseline_test['name_1_transliterated'] = transliterate(baseline_test['name_1_non_stop_words'])\n",
    "baseline_test['name_2_transliterated'] = transliterate(baseline_test['name_2_non_stop_words'])"
   ]
  },
  {
   "cell_type": "markdown",
   "metadata": {},
   "source": [
    "Давайте посмотрим на пару с id 353150. В ней второй столбец (\"name_2\") имеет слово \"мишлен\", после предобработки слово уже пишется так \"mishlen\" (см. столбец \"name_2_transliterated\"). Не совсем правильно, но явно лучше."
   ]
  },
  {
   "cell_type": "code",
   "execution_count": 35,
   "metadata": {},
   "outputs": [
    {
     "data": {
      "text/html": [
       "<div>\n",
       "<style scoped>\n",
       "    .dataframe tbody tr th:only-of-type {\n",
       "        vertical-align: middle;\n",
       "    }\n",
       "\n",
       "    .dataframe tbody tr th {\n",
       "        vertical-align: top;\n",
       "    }\n",
       "\n",
       "    .dataframe thead th {\n",
       "        text-align: right;\n",
       "    }\n",
       "</style>\n",
       "<table border=\"1\" class=\"dataframe\">\n",
       "  <thead>\n",
       "    <tr style=\"text-align: right;\">\n",
       "      <th></th>\n",
       "      <th>pair_id</th>\n",
       "      <th>name_1</th>\n",
       "      <th>name_2</th>\n",
       "      <th>target</th>\n",
       "      <th>name_1_non_stop_words</th>\n",
       "      <th>name_2_non_stop_words</th>\n",
       "      <th>name_1_transliterated</th>\n",
       "      <th>name_2_transliterated</th>\n",
       "    </tr>\n",
       "  </thead>\n",
       "  <tbody>\n",
       "    <tr>\n",
       "      <th>353149</th>\n",
       "      <td>353150</td>\n",
       "      <td>michelin reifenwerke ag  co kgaa</td>\n",
       "      <td>мишлен</td>\n",
       "      <td>1</td>\n",
       "      <td>michelin reifenwerke ag kgaa</td>\n",
       "      <td>мишлен</td>\n",
       "      <td>michelin reifenwerke ag kgaa</td>\n",
       "      <td>mishlen</td>\n",
       "    </tr>\n",
       "  </tbody>\n",
       "</table>\n",
       "</div>"
      ],
      "text/plain": [
       "        pair_id                            name_1  name_2  target  \\\n",
       "353149   353150  michelin reifenwerke ag  co kgaa  мишлен       1   \n",
       "\n",
       "               name_1_non_stop_words name_2_non_stop_words  \\\n",
       "353149  michelin reifenwerke ag kgaa                мишлен   \n",
       "\n",
       "               name_1_transliterated name_2_transliterated  \n",
       "353149  michelin reifenwerke ag kgaa               mishlen  "
      ]
     },
     "execution_count": 35,
     "metadata": {},
     "output_type": "execute_result"
    }
   ],
   "source": [
    "pair_id = 353150\n",
    "baseline_train[baseline_train['pair_id']==353150]"
   ]
  },
  {
   "cell_type": "markdown",
   "metadata": {},
   "source": [
    "## Запустим автоматическое составление списка топ 50 самых часто встречающихся слов & Drop it smart. Первый ЧИТ\n",
    "\n",
    "Немного мудреный заголовок. Давайте по порядку разберем, что мы тут будем делать.\n",
    "\n",
    "Во-первых, мы объединим текст из первого и второго столбца в один массив и посчитаем для каждого уникального слова, количество раз, которое оно встречалось.\n",
    "\n",
    "Во-вторых, выберем топ 50 таких слов. И казалось бы можно их удалить, но нет. В этих словах могут быть названия холдингов ('total', 'knauf', 'shell',...), а это очень важная информация и ее нельзя потерять, так как далее мы будем ее использовать. Поэтому мы пойдем на читерский (запрещенный) прием. Для начала, на основании внимательного, выборочного изучения обучающей выборки, составим список названий часто встречающихся холдингов. Список будет не полный, иначе это было бы совсем не честно :) Хотя, так как мы не гонимся за призовым местом, то почему бы и нет. Затем мы сравним массив топ 50 часто встречающихся слов со списком названий холдингов и выкинем из списка слова, которые совпадают с названиями холдингов.\n",
    "\n",
    "Теперь второй список стоп-слов готов. Можно удалять слова из текста.\n",
    "\n",
    "Но перед тем, хотелось бы вставить небольшую ремарочку касательно читерского списка названий холдингов. То, что мы составили на основании наблюдений список из названий холдингов сильно упростило нам жизнь. Но на самом деле, мы могли составить такой список другим способом. Например, можно взять рейтинги крупнейших компаний в нефтехимической, строительной, автомобильной и других отраслях, объединить их и взять оттуда названия холдингов. Но в целях нашего исследования, мы ограничимся простым подходом. Такой подход запрещен в рамках соревнования!"
   ]
  },
  {
   "cell_type": "code",
   "execution_count": 36,
   "metadata": {},
   "outputs": [],
   "source": [
    "list_top_companies = ['arlanxeo', 'basf', 'bayer', 'bdp', 'bosch', 'brenntag', 'contitech',\n",
    "                      'daewoo', 'dow', 'dupont', 'evonik', 'exxon', 'exxonmobil', 'freudenberg',\n",
    "                      'goodyear', 'goter', 'henkel', 'hp', 'hyundai', 'isover', 'itochu', 'kia', 'knauf',\n",
    "                      'kraton', 'kumho', 'lusocopla', 'michelin', 'paul bauder', 'pirelli', 'ravago',\n",
    "                      'rehau', 'reliance', 'sabic', 'sanyo', 'shell', 'sherwinwilliams', 'sojitz',\n",
    "                      'soprema', 'steico', 'strabag', 'sumitomo', 'synthomer', 'synthos',\n",
    "                      'total', 'trelleborg', 'trinseo', 'yokohama']"
   ]
  },
  {
   "cell_type": "code",
   "execution_count": 37,
   "metadata": {},
   "outputs": [],
   "source": [
    "# drop top 50 common words (NAME 1 & NAME 2) exept names of top companies\n",
    "\n",
    "# first: make dictionary of frequency every word\n",
    "list_words = baseline_train['name_1_transliterated'].to_string(index=False).split() +\\\n",
    "                baseline_train['name_2_transliterated'].to_string(index=False).split()\n",
    "freq_words = {}\n",
    "for w in list_words:\n",
    "    freq_words[w] = freq_words.get(w, 0) + 1\n",
    "    \n",
    "# # second: make data frame\n",
    "df_freq = pd.DataFrame.from_dict(freq_words,orient='index').reset_index()\n",
    "df_freq.columns = ['word','frequency']\n",
    "df_freq_agg = df_freq.groupby(['word']).agg([sum]).reset_index()\n",
    "df_freq_agg = rename_agg_columns(id_client='word',data=df_freq_agg,rename='%s_%s')\n",
    "df_freq_agg = df_freq_agg.sort_values(by=['frequency_sum'], ascending=False)\n",
    "drop_list = list(set(df_freq_agg[0:50]['word'].to_string(index=False).split()) - set(list_top_companies))\n",
    "\n",
    "# # check list of top 50 common words\n",
    "# print (drop_list)\n",
    " \n",
    "# drop the top 50 words\n",
    "baseline_train['name_1_finish'] =\\\n",
    "    baseline_train['name_1_transliterated'].apply(\n",
    "    lambda x: ' '.join([word for word in x.split() if word not in (drop_list)]))\n",
    "baseline_train['name_2_finish'] =\\\n",
    "    baseline_train['name_2_transliterated'].apply(\n",
    "    lambda x: ' '.join([word for word in x.split() if word not in (drop_list)]))\n",
    "\n",
    "baseline_test['name_1_finish'] =\\\n",
    "    baseline_test['name_1_transliterated'].apply(\n",
    "    lambda x: ' '.join([word for word in x.split() if word not in (drop_list)]))\n",
    "baseline_test['name_2_finish'] =\\\n",
    "    baseline_test['name_2_transliterated'].apply(\n",
    "    lambda x: ' '.join([word for word in x.split() if word not in (drop_list)]))"
   ]
  },
  {
   "cell_type": "code",
   "execution_count": 38,
   "metadata": {},
   "outputs": [],
   "source": [
    "# # fix the top 50 words\n",
    "# drop_list = ['srl', 'sa', 'al', 'k', 'do', 'rl', 'shenzhen', 'j', 'as', 'de', 'mfg', 'h', \n",
    "# 'dongguan', 'sdn', 'polymers', 'e', 'automotive', 'of', 'sas', 'guangzhou', 'ram', 'pt', 'rubber', \n",
    "# 'c', 'y', 'r', 'p', 'cv', 'qingdao', 'l', 'service', 'materials', 'exp', 'imp', 'textile', 'sp', 'd',\n",
    "# 'b', 'ag', 've', 's', 'a', 'itc', 'bhd', 'v', 'n', 'plastic', 'solutions', 'general', 'plastics']"
   ]
  },
  {
   "cell_type": "code",
   "execution_count": 39,
   "metadata": {},
   "outputs": [],
   "source": [
    "# baseline_train[baseline_train.name_1_finish.str.contains(\"logistic\")]"
   ]
  },
  {
   "cell_type": "markdown",
   "metadata": {},
   "source": [
    "На этом мы закончили с предобработкой данных. Начнем генерировать новые фичи и визуально их оценивать на способность разделять объекты на 0 или 1.\n",
    "\n",
    "# Генерация и анализ фич\n",
    "## Посчитаем дистанцию Левенштейна\n",
    "\n",
    "Воспользуемся библиотекой strsimpy и в каждой паре (после всех предобработок) посчитаем дистанцию Левенштейна от названия компании из первого столбца до названия компании во втором столбце."
   ]
  },
  {
   "cell_type": "code",
   "execution_count": 40,
   "metadata": {},
   "outputs": [
    {
     "name": "stderr",
     "output_type": "stream",
     "text": [
      "100%|██████████| 497819/497819 [00:38<00:00, 13069.67it/s]\n",
      "100%|██████████| 213249/213249 [00:16<00:00, 13028.42it/s]\n"
     ]
    }
   ],
   "source": [
    "# create feature with LEVENSTAIN DISTANCE\n",
    "levenshtein = Levenshtein()\n",
    "column_1 = 'name_1_finish'\n",
    "column_2 = 'name_2_finish'\n",
    "\n",
    "baseline_train[\"levenstein\"] = baseline_train.progress_apply(\n",
    "    lambda r: levenshtein.distance(r[column_1], r[column_2]), axis=1)\n",
    "baseline_test[\"levenstein\"] = baseline_test.progress_apply(\n",
    "    lambda r: levenshtein.distance(r[column_1], r[column_2]), axis=1)"
   ]
  },
  {
   "cell_type": "markdown",
   "metadata": {},
   "source": [
    "## Посчитаем нормализованную дистанцию Левенштейна\n",
    "\n",
    "Все тоже самое, что и выше, только считать мы будем нормированную дистанцию."
   ]
  },
  {
   "cell_type": "code",
   "execution_count": 41,
   "metadata": {},
   "outputs": [
    {
     "name": "stderr",
     "output_type": "stream",
     "text": [
      "100%|██████████| 497819/497819 [00:38<00:00, 12900.64it/s]\n",
      "100%|██████████| 213249/213249 [00:16<00:00, 12934.09it/s]\n"
     ]
    }
   ],
   "source": [
    "# create feature with NORMALIZATION LEVENSTAIN DISTANCE\n",
    "normalized_levenshtein = NormalizedLevenshtein()\n",
    "column_1 = 'name_1_finish'\n",
    "column_2 = 'name_2_finish'\n",
    "\n",
    "baseline_train[\"norm_levenstein\"] = baseline_train.progress_apply(\n",
    "    lambda r: normalized_levenshtein.distance(r[column_1], r[column_2]),axis=1)\n",
    "baseline_test[\"norm_levenstein\"] = baseline_test.progress_apply(\n",
    "    lambda r: normalized_levenshtein.distance(r[column_1], r[column_2]),axis=1)"
   ]
  },
  {
   "cell_type": "markdown",
   "metadata": {},
   "source": [
    "Посчитали, а теперь визуализируем\n",
    "\n",
    "## Визуализируем фичи\n",
    "\n",
    "Посмотрим на распределение признака 'levenstein'"
   ]
  },
  {
   "cell_type": "code",
   "execution_count": 42,
   "metadata": {},
   "outputs": [
    {
     "name": "stdout",
     "output_type": "stream",
     "text": [
      "\n",
      "\u001b[1mInformation about levenstein \u001b[m\n",
      "\n",
      "\u001b[4mAnalyse\u001b[m No duplicates\n"
     ]
    },
    {
     "data": {
      "image/png": "[encoded data removed]",
      "text/plain": [
       "<Figure size 864x144 with 1 Axes>"
      ]
     },
     "metadata": {},
     "output_type": "display_data"
    },
    {
     "name": "stdout",
     "output_type": "stream",
     "text": [
      "Quantity: 494161.0          Min: 0.0          Max: 127.0          Mean: 13.05          Median: 11.0\n",
      "\n",
      "\u001b[4mAnalyse\u001b[m Duplicates\n"
     ]
    },
    {
     "data": {
      "image/png": "[encoded data removed]",
      "text/plain": [
       "<Figure size 864x144 with 1 Axes>"
      ]
     },
     "metadata": {},
     "output_type": "display_data"
    },
    {
     "name": "stdout",
     "output_type": "stream",
     "text": [
      "Quantity: 3658          Min: 0.0          Max: 81.0          Mean: 7.9          Median: 7.0\n",
      "\u001b[4mAnalyse\u001b[m All pairs\n"
     ]
    },
    {
     "data": {
      "image/png": "[encoded data removed]",
      "text/plain": [
       "<Figure size 864x144 with 1 Axes>"
      ]
     },
     "metadata": {},
     "output_type": "display_data"
    }
   ],
   "source": [
    "data = baseline_train\n",
    "analyse = 'levenstein'\n",
    "size = (12,2)\n",
    "dd = data_statistics(data,analyse,title_print='no')\n",
    "hist_fz(data,dd,analyse,size)\n",
    "boxplot(data,analyse,size)"
   ]
  },
  {
   "cell_type": "markdown",
   "metadata": {},
   "source": [
    "На первый взгляд, метрика может размечать данные. Очевидно не очень хорошо, но использовать ее можно.\n",
    "\n",
    "Посмотрим на распределение признака 'norm_levenstein'"
   ]
  },
  {
   "cell_type": "code",
   "execution_count": 43,
   "metadata": {},
   "outputs": [
    {
     "name": "stdout",
     "output_type": "stream",
     "text": [
      "\n",
      "\u001b[1mInformation about norm_levenstein \u001b[m\n",
      "\n",
      "\u001b[4mAnalyse\u001b[m No duplicates\n"
     ]
    },
    {
     "data": {
      "image/png": "[encoded data removed]",
      "text/plain": [
       "<Figure size 1008x144 with 1 Axes>"
      ]
     },
     "metadata": {},
     "output_type": "display_data"
    },
    {
     "name": "stdout",
     "output_type": "stream",
     "text": [
      "Quantity: 494161.0          Min: 0.0          Max: 1.0          Mean: 0.86          Median: 0.88\n",
      "\n",
      "\u001b[4mAnalyse\u001b[m Duplicates\n"
     ]
    },
    {
     "data": {
      "image/png": "[encoded data removed]",
      "text/plain": [
       "<Figure size 1008x144 with 1 Axes>"
      ]
     },
     "metadata": {},
     "output_type": "display_data"
    },
    {
     "name": "stdout",
     "output_type": "stream",
     "text": [
      "Quantity: 3658          Min: 0.0          Max: 1.0          Mean: 0.37          Median: 0.45\n",
      "\u001b[4mAnalyse\u001b[m All pairs\n"
     ]
    },
    {
     "data": {
      "image/png": "[encoded data removed]",
      "text/plain": [
       "<Figure size 1008x144 with 1 Axes>"
      ]
     },
     "metadata": {},
     "output_type": "display_data"
    }
   ],
   "source": [
    "data = baseline_train\n",
    "analyse = 'norm_levenstein'\n",
    "size = (14,2)\n",
    "dd = data_statistics(data,analyse,title_print='no')\n",
    "hist_fz(data,dd,analyse,size)\n",
    "boxplot(data,analyse,size)"
   ]
  },
  {
   "cell_type": "markdown",
   "metadata": {},
   "source": [
    "Очень хорошо. А теперь, давайте посмотрим на то, как две вместе взятые фичи будут разделять пространство на объекты 0 и 1."
   ]
  },
  {
   "cell_type": "code",
   "execution_count": 44,
   "metadata": {},
   "outputs": [
    {
     "data": {
      "image/png": "[encoded data removed]",
      "text/plain": [
       "<Figure size 1008x432 with 1 Axes>"
      ]
     },
     "metadata": {},
     "output_type": "display_data"
    }
   ],
   "source": [
    "data = baseline_train\n",
    "analyse1 = 'levenstein'\n",
    "analyse2 = 'norm_levenstein'\n",
    "size = (14,6)\n",
    "two_features(data,analyse1,analyse2,size)"
   ]
  },
  {
   "cell_type": "markdown",
   "metadata": {},
   "source": [
    "Очень даже неплохая разметка получается. Значит не зря мы столько предобрабатывали данные :)"
   ]
  },
  {
   "cell_type": "markdown",
   "metadata": {},
   "source": [
    "## Сопоставим слова в тексте для каждой пары и сгенерим большую кучу признаков\n",
    "\n",
    "Ниже мы проведем сравнение слов в названиях компаний. Создадим следующие признаки:\n",
    " - список слов, которые дублируются в столбцах №1 и №2 каждой пары\n",
    " - список слов, которые НЕ дублируются\n",
    " \n",
    "На основании этих списков слов, создадим признаки, которые мы подадим в обучаемую модель:\n",
    " - количество дублирующихся слов\n",
    " - количество НЕ дублирующихся слов\n",
    " - сумма символов, дублирующихся слов\n",
    " - сумма символов, НЕ дублирующихся слов\n",
    " - средняя длина дублирующихся слов\n",
    " - средняя длина НЕ дублирующихся слов\n",
    " - отношение количества дубликатов к количеству НЕ дубликатов\n",
    " \n",
    "Код здесь, наверное, не очень дружелюбный, так как опять-таки, написан был на скорую руку. Но он работает, а для быстрого исследования пойдет."
   ]
  },
  {
   "cell_type": "code",
   "execution_count": 45,
   "metadata": {},
   "outputs": [],
   "source": [
    "# make some information about duplicates and differences for TRAIN\n",
    "column_1 = 'name_1_finish'\n",
    "column_2 = 'name_2_finish'\n",
    "\n",
    "duplicates = []\n",
    "difference = []\n",
    "\n",
    "for i in range(baseline_train.shape[0]):\n",
    "    list1 = list(baseline_train[i:i+1][column_1])\n",
    "    str1 = ''.join(list1).split()\n",
    "    list2 = list(baseline_train[i:i+1][column_2])\n",
    "    str2 = ''.join(list2).split()\n",
    "    \n",
    "    duplicates.append(list(set(str1) & set(str2)))\n",
    "    difference.append(list(set(str1).symmetric_difference(set(str2))))\n",
    "    \n",
    "# continue make information about duplicates\n",
    "duplicate_count,duplicate_sum = compair_metrics(duplicates)\n",
    "dif_count,dif_sum = compair_metrics(difference)"
   ]
  },
  {
   "cell_type": "code",
   "execution_count": 46,
   "metadata": {},
   "outputs": [],
   "source": [
    "# create features have information about duplicates and differences for TRAIN\n",
    "baseline_train['duplicate'] = duplicates\n",
    "baseline_train['difference'] = difference\n",
    "\n",
    "baseline_train['duplicate_count'] = duplicate_count\n",
    "baseline_train['duplicate_sum'] = duplicate_sum\n",
    "baseline_train['duplicate_mean'] = baseline_train['duplicate_sum'] / baseline_train['duplicate_count']\n",
    "baseline_train['duplicate_mean'] = baseline_train['duplicate_mean'].fillna(0)\n",
    "\n",
    "baseline_train['dif_count'] = dif_count\n",
    "baseline_train['dif_sum'] = dif_sum\n",
    "baseline_train['dif_mean'] = baseline_train['dif_sum'] / baseline_train['dif_count']\n",
    "baseline_train['dif_mean'] = baseline_train['dif_mean'].fillna(0)"
   ]
  },
  {
   "cell_type": "code",
   "execution_count": 47,
   "metadata": {},
   "outputs": [],
   "source": [
    "baseline_train['ratio_duplicate/dif_count'] = baseline_train['duplicate_count'] / baseline_train['dif_count']"
   ]
  },
  {
   "cell_type": "code",
   "execution_count": 48,
   "metadata": {},
   "outputs": [],
   "source": [
    "# make some information about duplicates and differences for TEST\n",
    "column_1 = 'name_1_finish'\n",
    "column_2 = 'name_2_finish'\n",
    "\n",
    "duplicates = []\n",
    "difference = []\n",
    "\n",
    "for i in range(baseline_test.shape[0]):\n",
    "    list1 = list(baseline_test[i:i+1][column_1])\n",
    "    str1 = ''.join(list1).split()\n",
    "    list2 = list(baseline_test[i:i+1][column_2])\n",
    "    str2 = ''.join(list2).split()\n",
    "    \n",
    "    duplicates.append(list(set(str1) & set(str2)))\n",
    "    difference.append(list(set(str1).symmetric_difference(set(str2))))\n",
    "    \n",
    "# continue make information about duplicates\n",
    "duplicate_count,duplicate_sum = compair_metrics(duplicates)\n",
    "dif_count,dif_sum = compair_metrics(difference)"
   ]
  },
  {
   "cell_type": "code",
   "execution_count": 49,
   "metadata": {},
   "outputs": [],
   "source": [
    "# create features have information about duplicates and differences for TEST\n",
    "baseline_test['duplicate'] = duplicates\n",
    "baseline_test['difference'] = difference\n",
    "\n",
    "baseline_test['duplicate_count'] = duplicate_count\n",
    "baseline_test['duplicate_sum'] = duplicate_sum\n",
    "baseline_test['duplicate_mean'] = baseline_test['duplicate_sum'] / baseline_test['duplicate_count']\n",
    "baseline_test['duplicate_mean'] = baseline_test['duplicate_mean'].fillna(0)\n",
    "\n",
    "baseline_test['dif_count'] = dif_count\n",
    "baseline_test['dif_sum'] = dif_sum\n",
    "baseline_test['dif_mean'] = baseline_test['dif_sum'] / baseline_test['dif_count']\n",
    "baseline_test['dif_mean'] = baseline_test['dif_mean'].fillna(0)"
   ]
  },
  {
   "cell_type": "code",
   "execution_count": 50,
   "metadata": {},
   "outputs": [],
   "source": [
    "baseline_test['ratio_duplicate/dif_count'] = baseline_test['duplicate_count'] / baseline_test['dif_count']"
   ]
  },
  {
   "cell_type": "markdown",
   "metadata": {},
   "source": [
    "Визуализируем некоторые признаки. "
   ]
  },
  {
   "cell_type": "code",
   "execution_count": 51,
   "metadata": {},
   "outputs": [
    {
     "name": "stdout",
     "output_type": "stream",
     "text": [
      "\n",
      "\u001b[1mInformation about dif_sum \u001b[m\n",
      "\n",
      "\u001b[4mAnalyse\u001b[m No duplicates\n"
     ]
    },
    {
     "data": {
      "image/png": "[encoded data removed]",
      "text/plain": [
       "<Figure size 1008x144 with 1 Axes>"
      ]
     },
     "metadata": {},
     "output_type": "display_data"
    },
    {
     "name": "stdout",
     "output_type": "stream",
     "text": [
      "Quantity: 494161.0          Min: 0.0          Max: 143.0          Mean: 18.68          Median: 17.0\n",
      "\n",
      "\u001b[4mAnalyse\u001b[m Duplicates\n"
     ]
    },
    {
     "data": {
      "image/png": "[encoded data removed]",
      "text/plain": [
       "<Figure size 1008x144 with 1 Axes>"
      ]
     },
     "metadata": {},
     "output_type": "display_data"
    },
    {
     "name": "stdout",
     "output_type": "stream",
     "text": [
      "Quantity: 3658          Min: 0.0          Max: 90.0          Mean: 9.23          Median: 7.0\n",
      "\u001b[4mAnalyse\u001b[m All pairs\n"
     ]
    },
    {
     "data": {
      "image/png": "[encoded data removed]",
      "text/plain": [
       "<Figure size 1008x144 with 1 Axes>"
      ]
     },
     "metadata": {},
     "output_type": "display_data"
    }
   ],
   "source": [
    "data = baseline_train\n",
    "analyse = 'dif_sum'\n",
    "size = (14,2)\n",
    "dd = data_statistics(data,analyse,title_print='no')\n",
    "hist_fz(data,dd,analyse,size)\n",
    "boxplot(data,analyse,size)"
   ]
  },
  {
   "cell_type": "code",
   "execution_count": 52,
   "metadata": {},
   "outputs": [
    {
     "data": {
      "image/png": "[encoded data removed]",
      "text/plain": [
       "<Figure size 1008x432 with 1 Axes>"
      ]
     },
     "metadata": {},
     "output_type": "display_data"
    }
   ],
   "source": [
    "data = baseline_train\n",
    "analyse1 = 'duplicate_mean'\n",
    "analyse2 = 'dif_mean'\n",
    "size = (14,6)\n",
    "two_features(data,analyse1,analyse2,size)"
   ]
  },
  {
   "cell_type": "code",
   "execution_count": 53,
   "metadata": {},
   "outputs": [
    {
     "data": {
      "image/png": "[encoded data removed]",
      "text/plain": [
       "<Figure size 1008x432 with 1 Axes>"
      ]
     },
     "metadata": {},
     "output_type": "display_data"
    }
   ],
   "source": [
    "data = baseline_train\n",
    "analyse1 = 'ratio_duplicate/dif_count'\n",
    "analyse2 = 'dif_sum'\n",
    "size = (14,6)\n",
    "two_features(data,analyse1,analyse2,size)"
   ]
  },
  {
   "cell_type": "markdown",
   "metadata": {},
   "source": [
    "Какая никакая, а разметка. Обратим внимание на то, что очень много компаний с целевой меткой 1 имеют ноль дублей в тексте и также очень много компаний, имеющих дубли в названиях в среднем более 12 слов относятся к компаниям с целевой меткой 0.\n",
    "\n",
    "Давайте взглянем на табличные данные, подготовим запрос по первому случаю: дублей в названии компаний ноль, а компании одинаковые."
   ]
  },
  {
   "cell_type": "code",
   "execution_count": 58,
   "metadata": {},
   "outputs": [
    {
     "data": {
      "text/html": [
       "<div>\n",
       "<style scoped>\n",
       "    .dataframe tbody tr th:only-of-type {\n",
       "        vertical-align: middle;\n",
       "    }\n",
       "\n",
       "    .dataframe tbody tr th {\n",
       "        vertical-align: top;\n",
       "    }\n",
       "\n",
       "    .dataframe thead th {\n",
       "        text-align: right;\n",
       "    }\n",
       "</style>\n",
       "<table border=\"1\" class=\"dataframe\">\n",
       "  <thead>\n",
       "    <tr style=\"text-align: right;\">\n",
       "      <th></th>\n",
       "      <th>pair_id</th>\n",
       "      <th>name_1</th>\n",
       "      <th>name_2</th>\n",
       "      <th>target</th>\n",
       "      <th>name_1_finish</th>\n",
       "      <th>name_2_finish</th>\n",
       "      <th>levenstein</th>\n",
       "      <th>norm_levenstein</th>\n",
       "      <th>duplicate_count</th>\n",
       "      <th>duplicate_sum</th>\n",
       "      <th>duplicate_mean</th>\n",
       "      <th>dif_count</th>\n",
       "      <th>dif_sum</th>\n",
       "      <th>dif_mean</th>\n",
       "      <th>ratio_duplicate/dif_count</th>\n",
       "    </tr>\n",
       "  </thead>\n",
       "  <tbody>\n",
       "    <tr>\n",
       "      <th>9763</th>\n",
       "      <td>9764</td>\n",
       "      <td>bitmat products of na inc</td>\n",
       "      <td>bit mat products of michigan inc</td>\n",
       "      <td>1</td>\n",
       "      <td>bitmat na</td>\n",
       "      <td>bit mat michigan</td>\n",
       "      <td>8.0</td>\n",
       "      <td>0.500000</td>\n",
       "      <td>0</td>\n",
       "      <td>0</td>\n",
       "      <td>0.0</td>\n",
       "      <td>5</td>\n",
       "      <td>22</td>\n",
       "      <td>4.400000</td>\n",
       "      <td>0.0</td>\n",
       "    </tr>\n",
       "    <tr>\n",
       "      <th>14645</th>\n",
       "      <td>14646</td>\n",
       "      <td>nis</td>\n",
       "      <td>naftna industrija srbije ad</td>\n",
       "      <td>1</td>\n",
       "      <td>nis</td>\n",
       "      <td>naftna industrija srbije ad</td>\n",
       "      <td>24.0</td>\n",
       "      <td>0.888889</td>\n",
       "      <td>0</td>\n",
       "      <td>0</td>\n",
       "      <td>0.0</td>\n",
       "      <td>5</td>\n",
       "      <td>27</td>\n",
       "      <td>5.400000</td>\n",
       "      <td>0.0</td>\n",
       "    </tr>\n",
       "    <tr>\n",
       "      <th>16801</th>\n",
       "      <td>16802</td>\n",
       "      <td>bofer insaat aluminium san ve tic ltd sti</td>\n",
       "      <td>оообоффер</td>\n",
       "      <td>1</td>\n",
       "      <td>bofer insaat aluminium san tic sti</td>\n",
       "      <td>oooboffer</td>\n",
       "      <td>33.0</td>\n",
       "      <td>0.970588</td>\n",
       "      <td>0</td>\n",
       "      <td>0</td>\n",
       "      <td>0.0</td>\n",
       "      <td>7</td>\n",
       "      <td>38</td>\n",
       "      <td>5.428571</td>\n",
       "      <td>0.0</td>\n",
       "    </tr>\n",
       "    <tr>\n",
       "      <th>22347</th>\n",
       "      <td>22348</td>\n",
       "      <td>mogat</td>\n",
       "      <td>mogatwerke adolf böving bitumen und dachpappen...</td>\n",
       "      <td>1</td>\n",
       "      <td>mogat</td>\n",
       "      <td>mogatwerke adolf böving bitumen dachpappen fabrik</td>\n",
       "      <td>44.0</td>\n",
       "      <td>0.897959</td>\n",
       "      <td>0</td>\n",
       "      <td>0</td>\n",
       "      <td>0.0</td>\n",
       "      <td>7</td>\n",
       "      <td>49</td>\n",
       "      <td>7.000000</td>\n",
       "      <td>0.0</td>\n",
       "    </tr>\n",
       "    <tr>\n",
       "      <th>22660</th>\n",
       "      <td>22661</td>\n",
       "      <td>bridgestone neumaticos de monterreysa de cv</td>\n",
       "      <td>bridgestoneshenyang tire co ltd</td>\n",
       "      <td>1</td>\n",
       "      <td>bridgestone neumaticos monterreysa</td>\n",
       "      <td>bridgestoneshenyang</td>\n",
       "      <td>20.0</td>\n",
       "      <td>0.588235</td>\n",
       "      <td>0</td>\n",
       "      <td>0</td>\n",
       "      <td>0.0</td>\n",
       "      <td>4</td>\n",
       "      <td>51</td>\n",
       "      <td>12.750000</td>\n",
       "      <td>0.0</td>\n",
       "    </tr>\n",
       "    <tr>\n",
       "      <th>...</th>\n",
       "      <td>...</td>\n",
       "      <td>...</td>\n",
       "      <td>...</td>\n",
       "      <td>...</td>\n",
       "      <td>...</td>\n",
       "      <td>...</td>\n",
       "      <td>...</td>\n",
       "      <td>...</td>\n",
       "      <td>...</td>\n",
       "      <td>...</td>\n",
       "      <td>...</td>\n",
       "      <td>...</td>\n",
       "      <td>...</td>\n",
       "      <td>...</td>\n",
       "      <td>...</td>\n",
       "    </tr>\n",
       "    <tr>\n",
       "      <th>482599</th>\n",
       "      <td>482600</td>\n",
       "      <td>bridgestoneshenyang tire co ltd</td>\n",
       "      <td>bridgestone ncr</td>\n",
       "      <td>1</td>\n",
       "      <td>bridgestoneshenyang</td>\n",
       "      <td>bridgestone ncr</td>\n",
       "      <td>7.0</td>\n",
       "      <td>0.368421</td>\n",
       "      <td>0</td>\n",
       "      <td>0</td>\n",
       "      <td>0.0</td>\n",
       "      <td>3</td>\n",
       "      <td>33</td>\n",
       "      <td>11.000000</td>\n",
       "      <td>0.0</td>\n",
       "    </tr>\n",
       "    <tr>\n",
       "      <th>483815</th>\n",
       "      <td>483816</td>\n",
       "      <td>bridgestone tire co</td>\n",
       "      <td>bridgestoneshenyang tire co ltd</td>\n",
       "      <td>1</td>\n",
       "      <td>bridgestone</td>\n",
       "      <td>bridgestoneshenyang</td>\n",
       "      <td>8.0</td>\n",
       "      <td>0.421053</td>\n",
       "      <td>0</td>\n",
       "      <td>0</td>\n",
       "      <td>0.0</td>\n",
       "      <td>2</td>\n",
       "      <td>30</td>\n",
       "      <td>15.000000</td>\n",
       "      <td>0.0</td>\n",
       "    </tr>\n",
       "    <tr>\n",
       "      <th>486593</th>\n",
       "      <td>486594</td>\n",
       "      <td>bridgestoneshenyang tire co ltd</td>\n",
       "      <td>bridgestone stargard sp zoo</td>\n",
       "      <td>1</td>\n",
       "      <td>bridgestoneshenyang</td>\n",
       "      <td>bridgestone stargard zoo</td>\n",
       "      <td>11.0</td>\n",
       "      <td>0.458333</td>\n",
       "      <td>0</td>\n",
       "      <td>0</td>\n",
       "      <td>0.0</td>\n",
       "      <td>4</td>\n",
       "      <td>41</td>\n",
       "      <td>10.250000</td>\n",
       "      <td>0.0</td>\n",
       "    </tr>\n",
       "    <tr>\n",
       "      <th>489949</th>\n",
       "      <td>489950</td>\n",
       "      <td>kumho</td>\n",
       "      <td>kkpc</td>\n",
       "      <td>1</td>\n",
       "      <td>kumho</td>\n",
       "      <td>kkpc</td>\n",
       "      <td>4.0</td>\n",
       "      <td>0.800000</td>\n",
       "      <td>0</td>\n",
       "      <td>0</td>\n",
       "      <td>0.0</td>\n",
       "      <td>2</td>\n",
       "      <td>9</td>\n",
       "      <td>4.500000</td>\n",
       "      <td>0.0</td>\n",
       "    </tr>\n",
       "    <tr>\n",
       "      <th>490994</th>\n",
       "      <td>490995</td>\n",
       "      <td>kumho petrochemical</td>\n",
       "      <td>kkpc</td>\n",
       "      <td>1</td>\n",
       "      <td>kumho petrochemical</td>\n",
       "      <td>kkpc</td>\n",
       "      <td>16.0</td>\n",
       "      <td>0.842105</td>\n",
       "      <td>0</td>\n",
       "      <td>0</td>\n",
       "      <td>0.0</td>\n",
       "      <td>3</td>\n",
       "      <td>22</td>\n",
       "      <td>7.333333</td>\n",
       "      <td>0.0</td>\n",
       "    </tr>\n",
       "  </tbody>\n",
       "</table>\n",
       "<p>211 rows × 15 columns</p>\n",
       "</div>"
      ],
      "text/plain": [
       "        pair_id                                       name_1  \\\n",
       "9763       9764                    bitmat products of na inc   \n",
       "14645     14646                                          nis   \n",
       "16801     16802    bofer insaat aluminium san ve tic ltd sti   \n",
       "22347     22348                                        mogat   \n",
       "22660     22661  bridgestone neumaticos de monterreysa de cv   \n",
       "...         ...                                          ...   \n",
       "482599   482600              bridgestoneshenyang tire co ltd   \n",
       "483815   483816                          bridgestone tire co   \n",
       "486593   486594              bridgestoneshenyang tire co ltd   \n",
       "489949   489950                                        kumho   \n",
       "490994   490995                          kumho petrochemical   \n",
       "\n",
       "                                                   name_2  target  \\\n",
       "9763                     bit mat products of michigan inc       1   \n",
       "14645                         naftna industrija srbije ad       1   \n",
       "16801                                           оообоффер       1   \n",
       "22347   mogatwerke adolf böving bitumen und dachpappen...       1   \n",
       "22660                     bridgestoneshenyang tire co ltd       1   \n",
       "...                                                   ...     ...   \n",
       "482599                                    bridgestone ncr       1   \n",
       "483815                    bridgestoneshenyang tire co ltd       1   \n",
       "486593                        bridgestone stargard sp zoo       1   \n",
       "489949                                               kkpc       1   \n",
       "490994                                               kkpc       1   \n",
       "\n",
       "                             name_1_finish  \\\n",
       "9763                             bitmat na   \n",
       "14645                                  nis   \n",
       "16801   bofer insaat aluminium san tic sti   \n",
       "22347                                mogat   \n",
       "22660   bridgestone neumaticos monterreysa   \n",
       "...                                    ...   \n",
       "482599                 bridgestoneshenyang   \n",
       "483815                         bridgestone   \n",
       "486593                 bridgestoneshenyang   \n",
       "489949                               kumho   \n",
       "490994                 kumho petrochemical   \n",
       "\n",
       "                                            name_2_finish  levenstein  \\\n",
       "9763                                     bit mat michigan         8.0   \n",
       "14645                         naftna industrija srbije ad        24.0   \n",
       "16801                                           oooboffer        33.0   \n",
       "22347   mogatwerke adolf böving bitumen dachpappen fabrik        44.0   \n",
       "22660                                 bridgestoneshenyang        20.0   \n",
       "...                                                   ...         ...   \n",
       "482599                                    bridgestone ncr         7.0   \n",
       "483815                                bridgestoneshenyang         8.0   \n",
       "486593                           bridgestone stargard zoo        11.0   \n",
       "489949                                               kkpc         4.0   \n",
       "490994                                               kkpc        16.0   \n",
       "\n",
       "        norm_levenstein  duplicate_count  duplicate_sum  duplicate_mean  \\\n",
       "9763           0.500000                0              0             0.0   \n",
       "14645          0.888889                0              0             0.0   \n",
       "16801          0.970588                0              0             0.0   \n",
       "22347          0.897959                0              0             0.0   \n",
       "22660          0.588235                0              0             0.0   \n",
       "...                 ...              ...            ...             ...   \n",
       "482599         0.368421                0              0             0.0   \n",
       "483815         0.421053                0              0             0.0   \n",
       "486593         0.458333                0              0             0.0   \n",
       "489949         0.800000                0              0             0.0   \n",
       "490994         0.842105                0              0             0.0   \n",
       "\n",
       "        dif_count  dif_sum   dif_mean  ratio_duplicate/dif_count  \n",
       "9763            5       22   4.400000                        0.0  \n",
       "14645           5       27   5.400000                        0.0  \n",
       "16801           7       38   5.428571                        0.0  \n",
       "22347           7       49   7.000000                        0.0  \n",
       "22660           4       51  12.750000                        0.0  \n",
       "...           ...      ...        ...                        ...  \n",
       "482599          3       33  11.000000                        0.0  \n",
       "483815          2       30  15.000000                        0.0  \n",
       "486593          4       41  10.250000                        0.0  \n",
       "489949          2        9   4.500000                        0.0  \n",
       "490994          3       22   7.333333                        0.0  \n",
       "\n",
       "[211 rows x 15 columns]"
      ]
     },
     "execution_count": 58,
     "metadata": {},
     "output_type": "execute_result"
    }
   ],
   "source": [
    "baseline_train[\n",
    "    baseline_train['duplicate_mean']==0][\n",
    "    baseline_train['target']==1].drop(\n",
    "        ['duplicate', 'difference',\n",
    "        'name_1_non_stop_words',\n",
    "        'name_2_non_stop_words', 'name_1_transliterated',\n",
    "        'name_2_transliterated'],axis=1)"
   ]
  },
  {
   "cell_type": "markdown",
   "metadata": {},
   "source": [
    "Очевидно, есть системная ошибка в нашей обработке. Мы не учли, что слова могут писаться не только с ошибками, но и просто слитно или наоборот раздельно там, где этого не требуется. Например, пара №9764. В первом столбце 'bitmat' во втором 'bit mat' и вот уже это не дубль, а компания та одинаковая. Или другой пример, пара №482600 'bridgestoneshenyang' и 'bridgestone'. \n",
    "\n",
    "Что можно было бы сделать. Первое, что мне пришло в голову - сопоставлять не напрямую в лоб, а с помощью метрики Левенштейна. Но и здесь нас подстерегает засада: расстояние между 'bridgestoneshenyang' и 'bridgestone' будет не маленьким. Возможно на помощь придет лемматизация, но опять-таки сходу не ясно как можно лемматизировать названия компаний. Или можно использовать коэффициент Тамимото, но оставим этот момент для более опытных товарищей и двигаемся дальше."
   ]
  },
  {
   "cell_type": "markdown",
   "metadata": {},
   "source": [
    "## Сопоставим слова из текста со словами из названий топ 50 холдинговых брендов нефтехимической, строительной  и других отраслей. Получим вторую большую кучу признаков. Второй ЧИТ\n",
    "\n",
    "На самом деле здесь целых два нарушения правил участия соревнования:\n",
    "\n",
    " - во-первых, мы сопоставим прямо в лоб, выявленные раннее дубликаты слов из каждой пары на соответствие названий холдингов и получим столбец \"duplicate_name_company\"\n",
    " - во-вторых, мы проведем более хитрое сопоставление. Будем сверять данные не напрямую, а через дистанцию Левенштейна.\n",
    " \n",
    "Оба приема запрещены правилами соревнований. Обойти запрет можно. Для этого нужно составить список названий холдингов не вручную на основании выборочного просмотра обучающей выборки, а автоматически - из внешних источников. Но тогда, во-первых, список холдингов получится большим и предложенное в работе сопоставление слов займет очень, ну просто очень много времени, а во-вторых, этот список еще нужно составить :) Поэтому для целей простоты исследования проведем проверку насколько улучшиться качество модели с этими признаками. Забегу вперед - качество растет просто потрясающе!\n",
    "\n",
    "С первым способом вроде все должно быть понятно, а вот ко второму подходу требуются пояснения. \n",
    "\n",
    "Итак, определим дистанцию Левенштейна от каждого слова в каждой строчке первого столбца с названием компании до каждого слова из списка топ нефтехимических компаний (и не только). \n",
    "\n",
    "В случае, если отношение дистанции Левенштейна к длине слова менее или равно 0.4, то мы определяем отношение дистанции Левенштейна до выбранного слова из списка топ компаний к каждому слову из второго столбца - названия второй компании. \n",
    "\n",
    "Если и второй коэффициент (отношение дистанции к длине слова из списка топ компаний) оказывается ниже или равен 0.4, то мы фиксируем следующие значения в таблицу:\n",
    " - дистанция Левенштейна от слова из списка №1 компаний до слова в списке топ компаний\n",
    " - дистанция Левенштейна от слова из списка №2 компаний до слова в списке топ компаний\n",
    " - длина слова из списка №1\n",
    " - длина слова из списка №2\n",
    " - длина слова из списка топ компаний\n",
    " - отношение длина слова из списка №1 к дистанции\n",
    " - отношение длина слова из списка №2 к дистанции\n",
    " \n",
    "В одной строке может быть более одного совпадения, выберем минимальное из них (функция агрегации). \n",
    "\n",
    "Хотелось бы еще раз обратить внимание, на то, что предложенный способ генерации фич, достаточно ресурсоемкий и в случае получения списка из внешнего источника потребуется изменение в коде по составлению метрик. "
   ]
  },
  {
   "cell_type": "code",
   "execution_count": 59,
   "metadata": {},
   "outputs": [],
   "source": [
    "# create information about duplicate name of petrochemical companies from top list\n",
    "list_top_companies = list_top_companies\n",
    "\n",
    "dp_train = []\n",
    "for i in list(baseline_train['duplicate']):\n",
    "    dp_train.append(''.join(list(set(i) & set(list_top_companies))))\n",
    "    \n",
    "dp_test = []\n",
    "for i in list(baseline_test['duplicate']):\n",
    "    dp_test.append(''.join(list(set(i) & set(list_top_companies))))\n",
    "    \n",
    "baseline_train['duplicate_name_company'] = dp_train\n",
    "baseline_test['duplicate_name_company'] = dp_test\n",
    "\n",
    "# replace name duplicate to number\n",
    "baseline_train['duplicate_name_company'] =\\\n",
    "    baseline_train['duplicate_name_company'].replace('',0,regex=True)\n",
    "baseline_train.loc[baseline_train['duplicate_name_company'] != 0, 'duplicate_name_company'] = 1\n",
    "\n",
    "baseline_test['duplicate_name_company'] =\\\n",
    "    baseline_test['duplicate_name_company'].replace('',0,regex=True)\n",
    "baseline_test.loc[baseline_test['duplicate_name_company'] != 0, 'duplicate_name_company'] = 1"
   ]
  },
  {
   "cell_type": "code",
   "execution_count": 60,
   "metadata": {},
   "outputs": [],
   "source": [
    "# create some important feature about similar words in the data and names of top companies for TRAIN\n",
    "# (levenstein distance, length of word, ratio distance to length)\n",
    "baseline_train = dist_name_to_top_list_make(baseline_train,\n",
    "                      'name_1_finish','name_2_finish',list_top_companies)"
   ]
  },
  {
   "cell_type": "code",
   "execution_count": 61,
   "metadata": {},
   "outputs": [],
   "source": [
    "# create some important feature about similar words in the data and names of top companies for TEST\n",
    "# (levenstein distance, length of word, ratio distance to length)\n",
    "baseline_test = dist_name_to_top_list_make(baseline_test,\n",
    "                      'name_1_finish','name_2_finish',list_top_companies)"
   ]
  },
  {
   "cell_type": "markdown",
   "metadata": {},
   "source": [
    "Посмотрим на полезность признаков сквозь призму графиков"
   ]
  },
  {
   "cell_type": "code",
   "execution_count": 63,
   "metadata": {},
   "outputs": [
    {
     "name": "stdout",
     "output_type": "stream",
     "text": [
      "\n",
      "\u001b[1mInformation about levenstein_dist_w1_top_w_min \u001b[m\n",
      "\n",
      "\u001b[4mAnalyse\u001b[m No duplicates\n"
     ]
    },
    {
     "data": {
      "image/png": "[encoded data removed]",
      "text/plain": [
       "<Figure size 1008x144 with 1 Axes>"
      ]
     },
     "metadata": {},
     "output_type": "display_data"
    },
    {
     "name": "stdout",
     "output_type": "stream",
     "text": [
      "Quantity: 690.0          Min: 0.0          Max: 3.0          Mean: 1.82          Median: 2.0\n",
      "\n",
      "\u001b[4mAnalyse\u001b[m Duplicates\n"
     ]
    },
    {
     "data": {
      "image/png": "[encoded data removed]",
      "text/plain": [
       "<Figure size 1008x144 with 1 Axes>"
      ]
     },
     "metadata": {},
     "output_type": "display_data"
    },
    {
     "name": "stdout",
     "output_type": "stream",
     "text": [
      "Quantity: 1839          Min: 0.0          Max: 2.0          Mean: 0.05          Median: 0.0\n",
      "\u001b[4mAnalyse\u001b[m All pairs\n"
     ]
    },
    {
     "data": {
      "image/png": "[encoded data removed]",
      "text/plain": [
       "<Figure size 1008x144 with 1 Axes>"
      ]
     },
     "metadata": {},
     "output_type": "display_data"
    }
   ],
   "source": [
    "data = baseline_train\n",
    "analyse = 'levenstein_dist_w1_top_w_min'\n",
    "size = (14,2)\n",
    "dd = data_statistics(data,analyse,title_print='no')\n",
    "hist_fz(data,dd,analyse,size)\n",
    "boxplot(data,analyse,size)"
   ]
  },
  {
   "cell_type": "markdown",
   "metadata": {},
   "source": [
    "Очень хорошо."
   ]
  },
  {
   "cell_type": "markdown",
   "metadata": {},
   "source": [
    "## Готовим данные для подачи в модель\n",
    "\n",
    "У нас получилась большая таблица и далеко не все данные для анализа нам нужны. Посмотрим на названия столбцов таблицы."
   ]
  },
  {
   "cell_type": "code",
   "execution_count": 64,
   "metadata": {
    "scrolled": true
   },
   "outputs": [
    {
     "data": {
      "text/plain": [
       "Index(['pair_id', 'name_1', 'name_2', 'target', 'name_1_non_stop_words',\n",
       "       'name_2_non_stop_words', 'name_1_transliterated',\n",
       "       'name_2_transliterated', 'name_1_finish', 'name_2_finish', 'levenstein',\n",
       "       'norm_levenstein', 'duplicate', 'difference', 'duplicate_count',\n",
       "       'duplicate_sum', 'duplicate_mean', 'dif_count', 'dif_sum', 'dif_mean',\n",
       "       'ratio_duplicate/dif_count', 'duplicate_name_company',\n",
       "       'levenstein_dist_w1_top_w_min', 'levenstein_dist_w2_top_w_min',\n",
       "       'length_w1_top_w_min', 'length_w2_top_w_min', 'length_top_w_min',\n",
       "       'ratio_dist_w1_to_top_w_min', 'ratio_dist_w2_to_top_w_min'],\n",
       "      dtype='object')"
      ]
     },
     "execution_count": 64,
     "metadata": {},
     "output_type": "execute_result"
    }
   ],
   "source": [
    "baseline_train.columns"
   ]
  },
  {
   "cell_type": "markdown",
   "metadata": {},
   "source": [
    "Выберем те столбцы, которые будем анализировать.\n",
    "\n",
    "Зафиксируем seed для воспроизводимости результата."
   ]
  },
  {
   "cell_type": "code",
   "execution_count": 65,
   "metadata": {},
   "outputs": [],
   "source": [
    "# fix some parameters\n",
    "features = ['levenstein','norm_levenstein',\n",
    "            \n",
    "            'duplicate_count','duplicate_sum','duplicate_mean',\n",
    "            'dif_count','dif_sum','dif_mean','ratio_duplicate/dif_count',\n",
    "            \n",
    "            'duplicate_name_company',\n",
    "            \n",
    "           'levenstein_dist_w1_top_w_min', 'levenstein_dist_w2_top_w_min',\n",
    "       'length_w1_top_w_min', 'length_w2_top_w_min', 'length_top_w_min',\n",
    "       'ratio_dist_w1_to_top_w_min', 'ratio_dist_w2_to_top_w_min'\n",
    "            ]\n",
    "seed = 42"
   ]
  },
  {
   "cell_type": "markdown",
   "metadata": {},
   "source": [
    "Перед тем, как окончательно обучить модель на всех доступных данных и отправить решение на проверку имеет смысл протестировать модель. Для этого разобьем обучающую выборку на условно обучающую и условно тестовую. Померим на ней качество и если нас оно устраивает, то будем отправлять решение на конкурс."
   ]
  },
  {
   "cell_type": "code",
   "execution_count": 66,
   "metadata": {},
   "outputs": [
    {
     "name": "stdout",
     "output_type": "stream",
     "text": [
      "Split baseline data train 497819\n",
      " - new train data: 398255\n",
      " - new test data: 99564\n"
     ]
    }
   ],
   "source": [
    "# provides train/test indices to split data in train/test sets\n",
    "split = StratifiedShuffleSplit(n_splits=1, train_size=0.8, random_state=seed)\n",
    "\n",
    "tridx, cvidx = list(split.split(baseline_train[features],\n",
    "                                baseline_train[\"target\"]))[0]\n",
    "\n",
    "print ('Split baseline data train',baseline_train.shape[0])\n",
    "print (' - new train data:',tridx.shape[0])\n",
    "print (' - new test data:',cvidx.shape[0])"
   ]
  },
  {
   "cell_type": "markdown",
   "metadata": {},
   "source": [
    "## Настройка и обучение модели\n",
    "\n",
    "В качестве модели будем использовать решающее дерево из библиотеки Light GBM. \n",
    "\n",
    "Сильно накручивать параметры не имеет смысла. Смотрим код."
   ]
  },
  {
   "cell_type": "code",
   "execution_count": 67,
   "metadata": {},
   "outputs": [
    {
     "data": {
      "text/plain": [
       "LGBMClassifier(boosting_type='gbdt', class_weight=None, colsample_bytree=1.0,\n",
       "               importance_type='split', learning_rate=1, max_depth=40,\n",
       "               min_child_samples=5, min_child_weight=0.001, min_split_gain=0.0,\n",
       "               n_estimators=1, n_jobs=-1, num_leaves=31, objective='binary',\n",
       "               random_state=50, reg_alpha=0.0, reg_lambda=0.0, silent=True,\n",
       "               subsample=1.0, subsample_for_bin=200000, subsample_freq=0)"
      ]
     },
     "execution_count": 67,
     "metadata": {},
     "output_type": "execute_result"
    }
   ],
   "source": [
    "# learning Light GBM Classificier\n",
    "seed = 50\n",
    "params = {'n_estimators': 1,\n",
    "          'objective': 'binary',\n",
    "          'max_depth': 40,\n",
    "          'min_child_samples': 5,\n",
    "          'learning_rate': 1, \n",
    "#           'reg_lambda': 0.75,\n",
    "#           'subsample': 0.75,\n",
    "#           'colsample_bytree': 0.4,\n",
    "#           'min_split_gain': 0.02,\n",
    "#           'min_child_weight': 40,\n",
    "          'random_state': seed}\n",
    "\n",
    "\n",
    "model = lgb.LGBMClassifier(**params)\n",
    "model.fit(baseline_train.iloc[tridx][features].values,\n",
    "          baseline_train.iloc[tridx][\"target\"].values)"
   ]
  },
  {
   "cell_type": "markdown",
   "metadata": {},
   "source": [
    "Модель настроили и обучили. Теперь давайте посмотрим на результаты."
   ]
  },
  {
   "cell_type": "code",
   "execution_count": 68,
   "metadata": {},
   "outputs": [],
   "source": [
    "# make predict proba and predict target\n",
    "probability_level = 0.99\n",
    "X = baseline_train\n",
    "tridx = tridx\n",
    "cvidx = cvidx\n",
    "model = model\n",
    "\n",
    "X_tr, X_cv = contingency_table(X,features,probability_level,tridx,cvidx,model)\n",
    "\n",
    "train_matrix_confusion = matrix_confusion(X_tr)\n",
    "cv_matrix_confusion = matrix_confusion(X_cv)"
   ]
  },
  {
   "cell_type": "code",
   "execution_count": 69,
   "metadata": {},
   "outputs": [
    {
     "name": "stdout",
     "output_type": "stream",
     "text": [
      "\u001b[1mMatrix confusion on train data\u001b[m\n"
     ]
    },
    {
     "data": {
      "text/html": [
       "<div>\n",
       "<style scoped>\n",
       "    .dataframe tbody tr th:only-of-type {\n",
       "        vertical-align: middle;\n",
       "    }\n",
       "\n",
       "    .dataframe tbody tr th {\n",
       "        vertical-align: top;\n",
       "    }\n",
       "\n",
       "    .dataframe thead th {\n",
       "        text-align: right;\n",
       "    }\n",
       "</style>\n",
       "<table border=\"1\" class=\"dataframe\">\n",
       "  <thead>\n",
       "    <tr style=\"text-align: right;\">\n",
       "      <th></th>\n",
       "      <th>0_algorythm</th>\n",
       "      <th>1_algorythm</th>\n",
       "    </tr>\n",
       "  </thead>\n",
       "  <tbody>\n",
       "    <tr>\n",
       "      <th>0_target</th>\n",
       "      <td>394456.0</td>\n",
       "      <td>873.0</td>\n",
       "    </tr>\n",
       "    <tr>\n",
       "      <th>1_target</th>\n",
       "      <td>391.0</td>\n",
       "      <td>2535.0</td>\n",
       "    </tr>\n",
       "  </tbody>\n",
       "</table>\n",
       "</div>"
      ],
      "text/plain": [
       "          0_algorythm  1_algorythm\n",
       "0_target     394456.0        873.0\n",
       "1_target        391.0       2535.0"
      ]
     },
     "metadata": {},
     "output_type": "display_data"
    },
    {
     "name": "stdout",
     "output_type": "stream",
     "text": [
      "\n",
      "              precision    recall  f1-score   support\n",
      "\n",
      "           0       1.00      1.00      1.00    395329\n",
      "           1       0.74      0.87      0.80      2926\n",
      "\n",
      "    accuracy                           1.00    398255\n",
      "   macro avg       0.87      0.93      0.90    398255\n",
      "weighted avg       1.00      1.00      1.00    398255\n",
      "\n",
      "******************************************************\n",
      "\n",
      "\n",
      "\u001b[1mMatrix confusion on test(cv) data\u001b[m\n"
     ]
    },
    {
     "data": {
      "text/html": [
       "<div>\n",
       "<style scoped>\n",
       "    .dataframe tbody tr th:only-of-type {\n",
       "        vertical-align: middle;\n",
       "    }\n",
       "\n",
       "    .dataframe tbody tr th {\n",
       "        vertical-align: top;\n",
       "    }\n",
       "\n",
       "    .dataframe thead th {\n",
       "        text-align: right;\n",
       "    }\n",
       "</style>\n",
       "<table border=\"1\" class=\"dataframe\">\n",
       "  <thead>\n",
       "    <tr style=\"text-align: right;\">\n",
       "      <th></th>\n",
       "      <th>0_algorythm</th>\n",
       "      <th>1_algorythm</th>\n",
       "    </tr>\n",
       "  </thead>\n",
       "  <tbody>\n",
       "    <tr>\n",
       "      <th>0_target</th>\n",
       "      <td>98610.0</td>\n",
       "      <td>222.0</td>\n",
       "    </tr>\n",
       "    <tr>\n",
       "      <th>1_target</th>\n",
       "      <td>90.0</td>\n",
       "      <td>642.0</td>\n",
       "    </tr>\n",
       "  </tbody>\n",
       "</table>\n",
       "</div>"
      ],
      "text/plain": [
       "          0_algorythm  1_algorythm\n",
       "0_target      98610.0        222.0\n",
       "1_target         90.0        642.0"
      ]
     },
     "metadata": {},
     "output_type": "display_data"
    },
    {
     "name": "stdout",
     "output_type": "stream",
     "text": [
      "\n",
      "              precision    recall  f1-score   support\n",
      "\n",
      "           0       1.00      1.00      1.00     98832\n",
      "           1       0.74      0.88      0.80       732\n",
      "\n",
      "    accuracy                           1.00     99564\n",
      "   macro avg       0.87      0.94      0.90     99564\n",
      "weighted avg       1.00      1.00      1.00     99564\n",
      "\n",
      "******************************************************\n"
     ]
    }
   ],
   "source": [
    "report_score(train_matrix_confusion,\n",
    "             cv_matrix_confusion,\n",
    "             baseline_train,\n",
    "             tridx,cvidx,\n",
    "             X_tr,X_cv)"
   ]
  },
  {
   "cell_type": "markdown",
   "metadata": {},
   "source": [
    "Обратите внимание на то, что мы в качестве оценки модели используем метрику качества f1. Значит, имеет смысл регулировать уровень вероятности отнесения объекта к классу 1 или 0. Мы выбрали уровень 0.99, то есть при вероятности равной и выше 0.99 объект будет отнесен к классу 1, ниже 0.99 - к классу 0. Это важный момент - можно существенно поправить скор таким не хитрым простым трюком.\n",
    "\n",
    "Качество вроде бы не плохое. На условно тестовой выборке алгоритм допустил ошибки при определении 222 объектов класса 0 и на 90 объектах, относящихся к классу 0 ошибся и отнес их к классу 1 (см.Matrix confusion on test(cv) data).\n",
    "\n",
    "Давайте посмотрим какие признаки были наиболее важными, а какие нет."
   ]
  },
  {
   "cell_type": "code",
   "execution_count": 70,
   "metadata": {},
   "outputs": [
    {
     "data": {
      "image/png": "[encoded data removed]",
      "text/plain": [
       "<Figure size 864x432 with 1 Axes>"
      ]
     },
     "metadata": {},
     "output_type": "display_data"
    },
    {
     "data": {
      "text/html": [
       "<div>\n",
       "<style scoped>\n",
       "    .dataframe tbody tr th:only-of-type {\n",
       "        vertical-align: middle;\n",
       "    }\n",
       "\n",
       "    .dataframe tbody tr th {\n",
       "        vertical-align: top;\n",
       "    }\n",
       "\n",
       "    .dataframe thead th {\n",
       "        text-align: right;\n",
       "    }\n",
       "</style>\n",
       "<table border=\"1\" class=\"dataframe\">\n",
       "  <thead>\n",
       "    <tr style=\"text-align: right;\">\n",
       "      <th></th>\n",
       "      <th>Features</th>\n",
       "      <th>Gain</th>\n",
       "    </tr>\n",
       "  </thead>\n",
       "  <tbody>\n",
       "    <tr>\n",
       "      <th>9</th>\n",
       "      <td>duplicate_name_company</td>\n",
       "      <td>185525.000000</td>\n",
       "    </tr>\n",
       "    <tr>\n",
       "      <th>8</th>\n",
       "      <td>ratio_duplicate/dif_count</td>\n",
       "      <td>58882.700195</td>\n",
       "    </tr>\n",
       "    <tr>\n",
       "      <th>4</th>\n",
       "      <td>duplicate_mean</td>\n",
       "      <td>26196.378296</td>\n",
       "    </tr>\n",
       "    <tr>\n",
       "      <th>3</th>\n",
       "      <td>duplicate_sum</td>\n",
       "      <td>16013.150330</td>\n",
       "    </tr>\n",
       "    <tr>\n",
       "      <th>5</th>\n",
       "      <td>dif_count</td>\n",
       "      <td>4855.950195</td>\n",
       "    </tr>\n",
       "    <tr>\n",
       "      <th>1</th>\n",
       "      <td>norm_levenstein</td>\n",
       "      <td>3846.515137</td>\n",
       "    </tr>\n",
       "    <tr>\n",
       "      <th>6</th>\n",
       "      <td>dif_sum</td>\n",
       "      <td>2911.488037</td>\n",
       "    </tr>\n",
       "    <tr>\n",
       "      <th>12</th>\n",
       "      <td>length_w1_top_w_min</td>\n",
       "      <td>1324.852051</td>\n",
       "    </tr>\n",
       "    <tr>\n",
       "      <th>7</th>\n",
       "      <td>dif_mean</td>\n",
       "      <td>1110.207977</td>\n",
       "    </tr>\n",
       "    <tr>\n",
       "      <th>13</th>\n",
       "      <td>length_w2_top_w_min</td>\n",
       "      <td>646.244019</td>\n",
       "    </tr>\n",
       "    <tr>\n",
       "      <th>2</th>\n",
       "      <td>duplicate_count</td>\n",
       "      <td>391.877991</td>\n",
       "    </tr>\n",
       "    <tr>\n",
       "      <th>14</th>\n",
       "      <td>length_top_w_min</td>\n",
       "      <td>359.941010</td>\n",
       "    </tr>\n",
       "    <tr>\n",
       "      <th>0</th>\n",
       "      <td>levenstein</td>\n",
       "      <td>342.578003</td>\n",
       "    </tr>\n",
       "    <tr>\n",
       "      <th>11</th>\n",
       "      <td>levenstein_dist_w2_top_w_min</td>\n",
       "      <td>0.000000</td>\n",
       "    </tr>\n",
       "    <tr>\n",
       "      <th>10</th>\n",
       "      <td>levenstein_dist_w1_top_w_min</td>\n",
       "      <td>0.000000</td>\n",
       "    </tr>\n",
       "    <tr>\n",
       "      <th>15</th>\n",
       "      <td>ratio_dist_w1_to_top_w_min</td>\n",
       "      <td>0.000000</td>\n",
       "    </tr>\n",
       "    <tr>\n",
       "      <th>16</th>\n",
       "      <td>ratio_dist_w2_to_top_w_min</td>\n",
       "      <td>0.000000</td>\n",
       "    </tr>\n",
       "  </tbody>\n",
       "</table>\n",
       "</div>"
      ],
      "text/plain": [
       "                        Features           Gain\n",
       "9         duplicate_name_company  185525.000000\n",
       "8      ratio_duplicate/dif_count   58882.700195\n",
       "4                 duplicate_mean   26196.378296\n",
       "3                  duplicate_sum   16013.150330\n",
       "5                      dif_count    4855.950195\n",
       "1                norm_levenstein    3846.515137\n",
       "6                        dif_sum    2911.488037\n",
       "12           length_w1_top_w_min    1324.852051\n",
       "7                       dif_mean    1110.207977\n",
       "13           length_w2_top_w_min     646.244019\n",
       "2                duplicate_count     391.877991\n",
       "14              length_top_w_min     359.941010\n",
       "0                     levenstein     342.578003\n",
       "11  levenstein_dist_w2_top_w_min       0.000000\n",
       "10  levenstein_dist_w1_top_w_min       0.000000\n",
       "15    ratio_dist_w1_to_top_w_min       0.000000\n",
       "16    ratio_dist_w2_to_top_w_min       0.000000"
      ]
     },
     "metadata": {},
     "output_type": "display_data"
    }
   ],
   "source": [
    "start = 0\n",
    "stop = 50\n",
    "size = (12,6)\n",
    "\n",
    "tg = table_gain_coef(model,features,start,stop)\n",
    "gain_hist(tg,size,start,stop)\n",
    "display(tg)"
   ]
  },
  {
   "cell_type": "markdown",
   "metadata": {},
   "source": [
    "Заметим, что для оценки значимости признаков мы использовали параметр 'gain', а не 'split'. Это важно так как в очень упрощенном варианте первый параметр означает вклад признака в уменьшении энтропии, а второй указывает на то, сколько раз признак использовался для разметки пространства.\n",
    "\n",
    "На первый взгляд, признак, который мы делали очень долго \"levenstein_dist_w1_top_w_min\" оказался совсем не информативным - его вклад равен 0. Но это только на первый взгляд. Он просто почти полностью дублируется по смыслу с признаком \"duplicate_name_company\". Если удалить \"duplicate_name_company\" и оставить \"levenstein_dist_w1_top_w_min\", то второй признак займет место первого и качество не поменяется. Проверено!\n",
    "\n",
    "Вообще такая табличка - удобная штука особенно когда у тебя сотни признаков и модель с кучей прибамбасов и итераций 5000. Можно пачками удалять признаки и смотреть как растет от этого не хитрого действия качество. В нашем случае, удаление признаков не отразится на качестве.\n",
    "\n",
    "Давайте посмотрим на таблицу сопряжения. В первую очередь посмотрим на объекты \"False Positive\", то есть те, которые наш алгоритм определил как одинаковые и отнес их к классу 1, а на самом деле они относятся к классу 0."
   ]
  },
  {
   "cell_type": "code",
   "execution_count": 75,
   "metadata": {
    "scrolled": false
   },
   "outputs": [
    {
     "data": {
      "text/html": [
       "<div>\n",
       "<style scoped>\n",
       "    .dataframe tbody tr th:only-of-type {\n",
       "        vertical-align: middle;\n",
       "    }\n",
       "\n",
       "    .dataframe tbody tr th {\n",
       "        vertical-align: top;\n",
       "    }\n",
       "\n",
       "    .dataframe thead th {\n",
       "        text-align: right;\n",
       "    }\n",
       "</style>\n",
       "<table border=\"1\" class=\"dataframe\">\n",
       "  <thead>\n",
       "    <tr style=\"text-align: right;\">\n",
       "      <th></th>\n",
       "      <th>pair_id</th>\n",
       "      <th>name_1</th>\n",
       "      <th>name_2</th>\n",
       "      <th>target</th>\n",
       "      <th>name_1_finish</th>\n",
       "      <th>name_2_finish</th>\n",
       "      <th>norm_levenstein</th>\n",
       "      <th>duplicate_count</th>\n",
       "      <th>duplicate_sum</th>\n",
       "      <th>duplicate_mean</th>\n",
       "      <th>dif_count</th>\n",
       "      <th>dif_sum</th>\n",
       "      <th>dif_mean</th>\n",
       "      <th>ratio_duplicate/dif_count</th>\n",
       "      <th>duplicate_name_company</th>\n",
       "      <th>predict_proba</th>\n",
       "      <th>predict_target</th>\n",
       "      <th>False_Positive</th>\n",
       "    </tr>\n",
       "  </thead>\n",
       "  <tbody>\n",
       "    <tr>\n",
       "      <th>15487</th>\n",
       "      <td>14806</td>\n",
       "      <td>ambar dip trading</td>\n",
       "      <td>dip plc</td>\n",
       "      <td>0</td>\n",
       "      <td>ambar dip</td>\n",
       "      <td>dip</td>\n",
       "      <td>0.666667</td>\n",
       "      <td>1</td>\n",
       "      <td>3</td>\n",
       "      <td>3.00</td>\n",
       "      <td>1</td>\n",
       "      <td>5</td>\n",
       "      <td>5.000000</td>\n",
       "      <td>1.000000</td>\n",
       "      <td>0</td>\n",
       "      <td>0.999998</td>\n",
       "      <td>1</td>\n",
       "      <td>1.0</td>\n",
       "    </tr>\n",
       "    <tr>\n",
       "      <th>17954</th>\n",
       "      <td>318144</td>\n",
       "      <td>continental confectionery</td>\n",
       "      <td>continental air control ltd</td>\n",
       "      <td>0</td>\n",
       "      <td>continental confectionery</td>\n",
       "      <td>continental air control</td>\n",
       "      <td>0.400000</td>\n",
       "      <td>1</td>\n",
       "      <td>11</td>\n",
       "      <td>11.00</td>\n",
       "      <td>3</td>\n",
       "      <td>23</td>\n",
       "      <td>7.666667</td>\n",
       "      <td>0.333333</td>\n",
       "      <td>0</td>\n",
       "      <td>1.000000</td>\n",
       "      <td>1</td>\n",
       "      <td>1.0</td>\n",
       "    </tr>\n",
       "    <tr>\n",
       "      <th>18229</th>\n",
       "      <td>485996</td>\n",
       "      <td>tlr total logistics resource inc</td>\n",
       "      <td>xiamen xiangyu pil total logistics co ltd</td>\n",
       "      <td>0</td>\n",
       "      <td>tlr total resource</td>\n",
       "      <td>xiamen xiangyu pil total</td>\n",
       "      <td>0.916667</td>\n",
       "      <td>1</td>\n",
       "      <td>5</td>\n",
       "      <td>5.00</td>\n",
       "      <td>5</td>\n",
       "      <td>27</td>\n",
       "      <td>5.400000</td>\n",
       "      <td>0.200000</td>\n",
       "      <td>1</td>\n",
       "      <td>1.000000</td>\n",
       "      <td>1</td>\n",
       "      <td>1.0</td>\n",
       "    </tr>\n",
       "    <tr>\n",
       "      <th>18841</th>\n",
       "      <td>162564</td>\n",
       "      <td>sika lanka ltd</td>\n",
       "      <td>sika ltd</td>\n",
       "      <td>0</td>\n",
       "      <td>sika lanka</td>\n",
       "      <td>sika</td>\n",
       "      <td>0.600000</td>\n",
       "      <td>1</td>\n",
       "      <td>4</td>\n",
       "      <td>4.00</td>\n",
       "      <td>1</td>\n",
       "      <td>5</td>\n",
       "      <td>5.000000</td>\n",
       "      <td>1.000000</td>\n",
       "      <td>0</td>\n",
       "      <td>1.000000</td>\n",
       "      <td>1</td>\n",
       "      <td>1.0</td>\n",
       "    </tr>\n",
       "    <tr>\n",
       "      <th>18948</th>\n",
       "      <td>212067</td>\n",
       "      <td>united  corp sa</td>\n",
       "      <td>united bank ltd</td>\n",
       "      <td>0</td>\n",
       "      <td>united</td>\n",
       "      <td>united</td>\n",
       "      <td>0.000000</td>\n",
       "      <td>1</td>\n",
       "      <td>6</td>\n",
       "      <td>6.00</td>\n",
       "      <td>0</td>\n",
       "      <td>0</td>\n",
       "      <td>0.000000</td>\n",
       "      <td>inf</td>\n",
       "      <td>0</td>\n",
       "      <td>1.000000</td>\n",
       "      <td>1</td>\n",
       "      <td>1.0</td>\n",
       "    </tr>\n",
       "    <tr>\n",
       "      <th>19092</th>\n",
       "      <td>18985</td>\n",
       "      <td>suzuki sports co ltd</td>\n",
       "      <td>suzuki motor de  s  a  de</td>\n",
       "      <td>0</td>\n",
       "      <td>suzuki</td>\n",
       "      <td>suzuki motor</td>\n",
       "      <td>0.500000</td>\n",
       "      <td>1</td>\n",
       "      <td>6</td>\n",
       "      <td>6.00</td>\n",
       "      <td>1</td>\n",
       "      <td>5</td>\n",
       "      <td>5.000000</td>\n",
       "      <td>1.000000</td>\n",
       "      <td>0</td>\n",
       "      <td>1.000000</td>\n",
       "      <td>1</td>\n",
       "      <td>1.0</td>\n",
       "    </tr>\n",
       "    <tr>\n",
       "      <th>19356</th>\n",
       "      <td>146825</td>\n",
       "      <td>mitsubishi corp</td>\n",
       "      <td>mitsubishi corp l</td>\n",
       "      <td>0</td>\n",
       "      <td>mitsubishi</td>\n",
       "      <td>mitsubishi</td>\n",
       "      <td>0.000000</td>\n",
       "      <td>1</td>\n",
       "      <td>10</td>\n",
       "      <td>10.00</td>\n",
       "      <td>0</td>\n",
       "      <td>0</td>\n",
       "      <td>0.000000</td>\n",
       "      <td>inf</td>\n",
       "      <td>0</td>\n",
       "      <td>1.000000</td>\n",
       "      <td>1</td>\n",
       "      <td>1.0</td>\n",
       "    </tr>\n",
       "    <tr>\n",
       "      <th>19412</th>\n",
       "      <td>467897</td>\n",
       "      <td>dhl keels ltd</td>\n",
       "      <td>dhl logistics ltda</td>\n",
       "      <td>0</td>\n",
       "      <td>dhl keels</td>\n",
       "      <td>dhl</td>\n",
       "      <td>0.666667</td>\n",
       "      <td>1</td>\n",
       "      <td>3</td>\n",
       "      <td>3.00</td>\n",
       "      <td>1</td>\n",
       "      <td>5</td>\n",
       "      <td>5.000000</td>\n",
       "      <td>1.000000</td>\n",
       "      <td>0</td>\n",
       "      <td>0.999998</td>\n",
       "      <td>1</td>\n",
       "      <td>1.0</td>\n",
       "    </tr>\n",
       "    <tr>\n",
       "      <th>19538</th>\n",
       "      <td>305786</td>\n",
       "      <td>sempertrans usa</td>\n",
       "      <td>sempertrans  belting</td>\n",
       "      <td>0</td>\n",
       "      <td>sempertrans</td>\n",
       "      <td>sempertrans belting</td>\n",
       "      <td>0.421053</td>\n",
       "      <td>1</td>\n",
       "      <td>11</td>\n",
       "      <td>11.00</td>\n",
       "      <td>1</td>\n",
       "      <td>7</td>\n",
       "      <td>7.000000</td>\n",
       "      <td>1.000000</td>\n",
       "      <td>0</td>\n",
       "      <td>1.000000</td>\n",
       "      <td>1</td>\n",
       "      <td>1.0</td>\n",
       "    </tr>\n",
       "    <tr>\n",
       "      <th>19736</th>\n",
       "      <td>497176</td>\n",
       "      <td>ctbc bank co ltd ho chi minh city</td>\n",
       "      <td>ctbc bank co ltd ho chi minh city b</td>\n",
       "      <td>0</td>\n",
       "      <td>ctbc ho chi minh</td>\n",
       "      <td>ctbc ho chi minh</td>\n",
       "      <td>0.000000</td>\n",
       "      <td>4</td>\n",
       "      <td>13</td>\n",
       "      <td>3.25</td>\n",
       "      <td>0</td>\n",
       "      <td>0</td>\n",
       "      <td>0.000000</td>\n",
       "      <td>inf</td>\n",
       "      <td>0</td>\n",
       "      <td>1.000000</td>\n",
       "      <td>1</td>\n",
       "      <td>1.0</td>\n",
       "    </tr>\n",
       "  </tbody>\n",
       "</table>\n",
       "</div>"
      ],
      "text/plain": [
       "       pair_id                             name_1  \\\n",
       "15487    14806                  ambar dip trading   \n",
       "17954   318144          continental confectionery   \n",
       "18229   485996   tlr total logistics resource inc   \n",
       "18841   162564                     sika lanka ltd   \n",
       "18948   212067                    united  corp sa   \n",
       "19092    18985               suzuki sports co ltd   \n",
       "19356   146825                    mitsubishi corp   \n",
       "19412   467897                      dhl keels ltd   \n",
       "19538   305786                    sempertrans usa   \n",
       "19736   497176  ctbc bank co ltd ho chi minh city   \n",
       "\n",
       "                                          name_2  target  \\\n",
       "15487                                    dip plc       0   \n",
       "17954                continental air control ltd       0   \n",
       "18229  xiamen xiangyu pil total logistics co ltd       0   \n",
       "18841                                   sika ltd       0   \n",
       "18948                            united bank ltd       0   \n",
       "19092                  suzuki motor de  s  a  de       0   \n",
       "19356                          mitsubishi corp l       0   \n",
       "19412                         dhl logistics ltda       0   \n",
       "19538                       sempertrans  belting       0   \n",
       "19736        ctbc bank co ltd ho chi minh city b       0   \n",
       "\n",
       "                   name_1_finish             name_2_finish  norm_levenstein  \\\n",
       "15487                  ambar dip                       dip         0.666667   \n",
       "17954  continental confectionery   continental air control         0.400000   \n",
       "18229         tlr total resource  xiamen xiangyu pil total         0.916667   \n",
       "18841                 sika lanka                      sika         0.600000   \n",
       "18948                     united                    united         0.000000   \n",
       "19092                     suzuki              suzuki motor         0.500000   \n",
       "19356                 mitsubishi                mitsubishi         0.000000   \n",
       "19412                  dhl keels                       dhl         0.666667   \n",
       "19538                sempertrans       sempertrans belting         0.421053   \n",
       "19736           ctbc ho chi minh          ctbc ho chi minh         0.000000   \n",
       "\n",
       "       duplicate_count  duplicate_sum  duplicate_mean  dif_count  dif_sum  \\\n",
       "15487                1              3            3.00          1        5   \n",
       "17954                1             11           11.00          3       23   \n",
       "18229                1              5            5.00          5       27   \n",
       "18841                1              4            4.00          1        5   \n",
       "18948                1              6            6.00          0        0   \n",
       "19092                1              6            6.00          1        5   \n",
       "19356                1             10           10.00          0        0   \n",
       "19412                1              3            3.00          1        5   \n",
       "19538                1             11           11.00          1        7   \n",
       "19736                4             13            3.25          0        0   \n",
       "\n",
       "       dif_mean  ratio_duplicate/dif_count duplicate_name_company  \\\n",
       "15487  5.000000                   1.000000                      0   \n",
       "17954  7.666667                   0.333333                      0   \n",
       "18229  5.400000                   0.200000                      1   \n",
       "18841  5.000000                   1.000000                      0   \n",
       "18948  0.000000                        inf                      0   \n",
       "19092  5.000000                   1.000000                      0   \n",
       "19356  0.000000                        inf                      0   \n",
       "19412  5.000000                   1.000000                      0   \n",
       "19538  7.000000                   1.000000                      0   \n",
       "19736  0.000000                        inf                      0   \n",
       "\n",
       "       predict_proba  predict_target  False_Positive  \n",
       "15487       0.999998               1             1.0  \n",
       "17954       1.000000               1             1.0  \n",
       "18229       1.000000               1             1.0  \n",
       "18841       1.000000               1             1.0  \n",
       "18948       1.000000               1             1.0  \n",
       "19092       1.000000               1             1.0  \n",
       "19356       1.000000               1             1.0  \n",
       "19412       0.999998               1             1.0  \n",
       "19538       1.000000               1             1.0  \n",
       "19736       1.000000               1             1.0  "
      ]
     },
     "execution_count": 75,
     "metadata": {},
     "output_type": "execute_result"
    }
   ],
   "source": [
    "X_cv[X_cv['False_Positive']==1][40:50].drop(['name_1_non_stop_words',\n",
    "       'name_2_non_stop_words', 'name_1_transliterated',\n",
    "       'name_2_transliterated', 'duplicate', 'difference',\n",
    "       'levenstein',\n",
    "       'levenstein_dist_w1_top_w_min', 'levenstein_dist_w2_top_w_min',\n",
    "       'length_w1_top_w_min', 'length_w2_top_w_min', 'length_top_w_min',\n",
    "       'ratio_dist_w1_to_top_w_min', 'ratio_dist_w2_to_top_w_min',\n",
    "       'True_Positive','True_Negative','False_Negative'],axis=1)"
   ]
  },
  {
   "cell_type": "markdown",
   "metadata": {},
   "source": [
    "Да уж. Здесь и человек то сходу не определит 0 или 1. Например, пара №146825 \"mitsubishi corp\" и \"mitsubishi corp l\". Глаза говорят что это одно и тоже, а выборка говорит, что разные компании. Кому верить?\n",
    "\n",
    "Скажем так, что сходу можно было выжать - мы выжали. Остальную работу оставим опытным товарищам :)\n",
    "\n",
    "Давайте загрузим данные на сайт организатора и узнаем оценку качества работы.\n",
    "\n",
    "## Итоги соревнования"
   ]
  },
  {
   "cell_type": "code",
   "execution_count": 72,
   "metadata": {},
   "outputs": [
    {
     "data": {
      "text/plain": [
       "LGBMClassifier(boosting_type='gbdt', class_weight=None, colsample_bytree=1.0,\n",
       "               importance_type='split', learning_rate=1, max_depth=40,\n",
       "               min_child_samples=5, min_child_weight=0.001, min_split_gain=0.0,\n",
       "               n_estimators=1, n_jobs=-1, num_leaves=31, objective='binary',\n",
       "               random_state=50, reg_alpha=0.0, reg_lambda=0.0, silent=True,\n",
       "               subsample=1.0, subsample_for_bin=200000, subsample_freq=0)"
      ]
     },
     "execution_count": 72,
     "metadata": {},
     "output_type": "execute_result"
    }
   ],
   "source": [
    "model = lgb.LGBMClassifier(**params)\n",
    "model.fit(baseline_train[features].values,\n",
    "          baseline_train[\"target\"].values)"
   ]
  },
  {
   "cell_type": "code",
   "execution_count": 73,
   "metadata": {},
   "outputs": [],
   "source": [
    "sample_sub = pd.read_csv('sample_submission.csv', index_col=\"pair_id\")\n",
    "\n",
    "sample_sub['is_duplicate'] = (model.predict_proba(\n",
    "    baseline_test[features].values)[:, 1] > probability_level).astype(np.int)"
   ]
  },
  {
   "cell_type": "code",
   "execution_count": 74,
   "metadata": {},
   "outputs": [],
   "source": [
    "sample_sub.to_csv('baseline_submission.csv')"
   ]
  },
  {
   "cell_type": "markdown",
   "metadata": {},
   "source": [
    "Итак, наш скор с учетом запрещенного приема: **0.5999**\n",
    "\n",
    "Без него, качество было где-то между 0.3 и 0.4. Надо перезапускать модель для точности, а мне немного лень :)\n",
    "\n",
    "Давайте лучше резюмируем полученный опыт.\n",
    "\n",
    "Во-первых, как можно видеть, у нас получился вполне себе воспроизводимый код и достаточно адекватная структура файла. Из-за малого опыта я в свое время набил очень много шишек именно из-за того, что оформлял работы наспех, лишь бы получить какой-либо более-менее приятный скор. В итоге файл получался таким, что через неделю его уже было страшно открывать - настолько ничего не понятно. Поэтому, мой посыл - пишите сразу код и делайте файл читаемым, так чтобы через год можно было вернуться к данным, посмотреть для начала на структуру, понять какие шаги были предприняты и потом, чтобы каждый шаг по отдельности можно было легко разобрать. Конечно, если Вы новичок, то с первой попытки файл не будет красивым, код будет ломаться, будут костыли, но если периодически, в процессе исследования, переписывать код заново, то на 5-7 раз переписывания Вы сами удивитесь тому, насколько код стал чище и возможно даже найдете ошибки и улучшите скор. Не забывайте про функции, очень облегчает читаемость файла.\n",
    "\n",
    "Во-вторых, после каждой обработки данных, проверяйте, все ли прошло как задумано. Для этого надо уметь фильтровать таблицы в pandas. В этой работе много фильтрации, пользуйтесь на здоровье :)\n",
    "\n",
    "В-третьих, всегда, прямо-таки всегда, в задачах классификации, формируйте и таблицу и матрицу сопряжения. По таблице Вы легко найдете на каких объектах ошибается алгоритм. Для начала старайтесь подмечать те ошибки, которые что называются системные, они требуют меньше работы по исправлению, а дают больший результат. Потом уже как разберете системные ошибки, переходите на частные случаи. По матрице ошибок Вы увидите где больше ошибается алгоритм: на классе 0 или 1. Отсюда Вы и будете копать ошибки. Например, я заметил, что мое дерево хорошо определяет классы 1, но допускает много ошибок на классе 0, то есть дерево часто \"говорит\", что этот объект класса 1, тогда как на самом деле он 0. Я предположил, что это может быть связано с уровнем вероятности отнесения объекта к классу 0 или 1. У меня уровень был зафиксирован на 0.9. Увеличение уровня вероятности отнесения объекта к классу 1 до 0.99, сделало отбор объектов класса 1 жестче и вуаля - наш скор дал существенный прирост.\n",
    "\n",
    "Еще раз отмечу, что целью участия в соревновании у меня было не занятие призового места, а получение опыта. Учитывая, что до начала соревнования я понятия не имел как работать с текстами в машинном обучении, а в итоге за несколько дней получилась простая, но все же рабочая модель, то можно сказать цель достигнута. Также и для любого начинающего самурая в мире data science я считаю важно получение опыта, а не приз, вернее опыт - это и есть приз. Поэтому не бойтесь участия в соревнованиях, дерзайте, всем бобра!\n",
    "\n",
    "На момент публикации статьи, соревнование еще не закончено. По результатам завершения соревнования в комментарии к статье я напишу о максимальном честном скоре, о подходах и фичах, которые улучшают качество модели. \n",
    "\n",
    "А Вы - уважаемый читатель, если располагаете идеями о том, как увеличить скор уже сейчас, пишите в комментах. Сделаете доброе дело :)"
   ]
  },
  {
   "cell_type": "markdown",
   "metadata": {},
   "source": [
    "# Источники информации, вспомогательные материалы\n",
    "\n",
    "1. Гитхаб с данными и Jupyter Notebook\n",
    "\n",
    "https://github.com/AlexanderPetrenko83/Articles\n",
    "2. Сайт организатора соревнования SIBUR CHALLENGE 2020 \n",
    "\n",
    "https://sc2020.ai-community.com/\n",
    "3. Хорошая статья на Хабре \"Основы Natural Language Processing для текста\"\n",
    "\n",
    "https://habr.com/ru/company/Voximplant/blog/446738/\n",
    "\n",
    "4. Еще одна хорошая статья на Хабре \"Нечёткое сравнение строк: пойми меня, если сможешь\"\n",
    "\n",
    "https://habr.com/ru/post/341148/\n",
    "\n",
    "5. Публикация из журнала АПНИ\n",
    "\n",
    "https://apni.ru/article/543-algoritmi-raspoznavaniya-skhozhesti-teksta\n",
    "\n",
    "6. Статья о не использованном здесь коэффициенте Танимото \"Степень схожести строк\"\n",
    "\n",
    "https://grishaev.me/2012/10/05/1/"
   ]
  }
 ],
 "metadata": {
  "kernelspec": {
   "display_name": "Python 3",
   "language": "python",
   "name": "python3"
  },
  "language_info": {
   "codemirror_mode": {
    "name": "ipython",
    "version": 3
   },
   "file_extension": ".py",
   "mimetype": "text/x-python",
   "name": "python",
   "nbconvert_exporter": "python",
   "pygments_lexer": "ipython3",
   "version": "3.7.6"
  }
 },
 "nbformat": 4,
 "nbformat_minor": 4
}
