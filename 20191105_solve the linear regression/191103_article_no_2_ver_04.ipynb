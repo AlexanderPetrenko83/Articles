{
 "cells": [
  {
   "cell_type": "markdown",
   "metadata": {},
   "source": [
    "# Решаем уравнение простой линейной регрессии"
   ]
  },
  {
   "cell_type": "markdown",
   "metadata": {},
   "source": [
    "В статье рассматривается несколько способов определения математического уравнения линии простой (парной) регрессии. \n",
    "\n",
    "Все рассматриваемые здесь способы решения уравнения основаны на методе наименьших квадратов. Обозначим способы следующим образом:\n",
    "\n",
    "- Аналитическое решение\n",
    "- Градиентный спуск\n",
    "- Стохастический градиентный спуск\n",
    "\n",
    "Для каждого из способов решения уравнения прямой, в статье приведены различные функции, которые в основном делятся на те, которые написаны без использования библиотеки *NumPy* и те, которые для проведения расчетов применяют *NumPy*. Считается, что умелое использование *NumPy* позволит сократить затраты на вычисления.\n",
    "\n",
    "Весь код, приведенный в статье, написан на языке *python 2.7* с использованием *Jupyter Notebook*. Исходный код и файл с данными выборки выложен на *Гитхабе*\n",
    "\n",
    "Статья в большей степени ориентирована как на начинающих, так и на тех, кто уже понемногу начал осваивать изучение весьма обширного раздела в искусственном интеллекте - машинного обучения."
   ]
  },
  {
   "cell_type": "markdown",
   "metadata": {},
   "source": [
    "Для иллюстрации материала используем очень простой пример.\n",
    "## Условия примера\n",
    "\n",
    "У нас есть $пять$ значений, которые характеризуют зависимость $Y$ от $X$ (Таблица №1):"
   ]
  },
  {
   "cell_type": "code",
   "execution_count": 659,
   "metadata": {},
   "outputs": [],
   "source": [
    "# здесь будет картинка таблицы на Хабре"
   ]
  },
  {
   "cell_type": "markdown",
   "metadata": {},
   "source": [
    "Будем считать, что значения $x_i$ - это месяц года, а $y_i$ - выручка в этом месяце. Другими словами, выручка зависит от месяца года, а $x_i$ - единственный признак, от которого зависит выручка.\n",
    "\n",
    "Пример так себе, как с точки зрения условной зависимости выручки от месяца года, так и с точки зрения количества значений - их очень мало. Однако такое упрощение позволит, что называется на пальцах, объяснить, не всегда с легкостью, усваиваемый новичками материал. А также простота чисел позволит без весомых трудозатрат, желающим, порешать пример на \"бумаге\".\n",
    "\n",
    "Предположим, что приведенная в примере зависимость, может быть достаточно хорошо аппроксимирована математическим уравнением линии простой (парной) регрессии вида:\n",
    "$$Y=a + bx$$\n",
    ", где $x$ - это месяц, в котором была получена выручка, $Y$ - выручка, соответствующая месяцу, $a$ и $b$ - коэффициенты регрессии оцененной линии. \n",
    "\n",
    "Отметим, что коэффициент $b$ часто называют угловым коэффициентом или градиентом оцененной линии; представляет собой величину, на которую изменится $Y$ при изменении $x$.\n",
    "\n",
    "Очевидно, что наша задача в примере - подобрать в уравнении такие коэффициенты $a$ и $b$, при которых отклонения наших расчетных значений выручки по месяцам от истинных ответов, т.е. значений, представленных в выборке, будут минимальны.\n",
    "## Метод наименьших квадратов\n",
    "В соответствии с методом наименьших квадратов, отклонение стоит рассчитывать, возводя его в квадрат. Подобный прием позволяет избежать взаимного погашения отклонений, в том случае, если они имеют противоположные знаки. Например, если в одном случае, отклонение составляет **+5** (плюс пять), а в другом **-5** (минус пять), то **сумма отклонений взаимно погасится и составит 0 (ноль)**. Можно и не возводить отклонение в квадрат, а воспользоваться свойством модуля и тогда у нас все отклонения будут положительными и будут накапливаться. Мы не будем останавливаться на этом моменте подробно, а просто обозначим, что для удобства расчетов, принято возводить отклонение в квадрат.\n",
    "\n",
    "Вот так выглядит формула, с помощью которой мы определим наименьшую сумму квадратов отклонений (ошибки):\n",
    "$$ERR(x)=\\sum\\limits_{i=1}^n(a + bx_i - y_i)^2 = \\sum\\limits_{i=1}^n(f(x_i)-y_i)^2 \\rightarrow min,$$\n",
    "$ \\textit{где $f(x_i)=a + bx_i$ - это функция аппроксимации истинных ответов (то есть посчитанная нами выручка),} $ \n",
    "\n",
    "$ \\textit{$y_i$ - это истинные ответы (предоставленная в выборке выручка)} $,\n",
    "\n",
    "$ \\textit{$i$ - это индекс выборки (номер месяца, в котором происходит определение отклонения)} $\n",
    "\n",
    "\n",
    "Продифференцируем функцию, определим уравнения частных производных и будем готовы перейти к аналитическому решению. Но для начала проведем небольшой экскурс о том, что такое дифференцирование и вспомним геометрический смысл производной.\n",
    "## Дифференцирование\n",
    "Дифференцированием называется операция по нахождению производной функции. \n",
    "\n",
    "Для чего нужна производная? **Производная функции характеризует скорость изменения функции и указывает нам ее направление**. Если производная в заданной точке положительна, то функция возрастает, в обратном случае - функция убывает. И чем больше значение производной по модулю, тем выше скорость изменения значений функции, а также круче угол наклона графика функции. \n",
    "\n",
    "Например, в условиях декартовой системы координат, значение производной в точке M(0,0) равное $+25$ означает, что в заданной точке, при смещении значения $x$ вправо на условную единицу, значение $y$ возрастает на 25 условных единиц. На графике это выглядит, как достаточно крутой угол подъема значений $y$ с заданной точки. \n",
    "\n",
    "Другой пример. Значение производной равное $-0,1$ означает, что при смещении $x$ на одну условную единицу, значение $y$ убывает всего лишь на 0,1 условную единицу. При этом, на графике функции, мы можем наблюдать едва заметный наклон вниз. Проводя аналогию с горой, то мы как будто очень медленно спускаемся по пологому склону с горы, в отличие от предыдущего примера, где нам приходилось брать очень крутые вершины:)\n",
    "\n",
    "\n",
    "Таким образом, проведя дифференцирование функции $ERR(x)=\\sum\\limits_{i=1}^n(a + bx_i - y_i)^2$ по коэффициентам $a$ и $b$, определим уравнения частных производных 1-го порядка. После определения уравнений, мы получим систему из двух уравнений, решив которую мы сможем подобрать такие значения коэффициентов $a$ и $b$, при которых значения соответствующих производных в заданных точках изменяются на очень и очень малую величину, а в случае с аналитическим решением не изменяются вовсе. Другими словами, функция ошибки при найденных коэффициентах достигнет минимума, так как значения частных производных в этих точках будут равны нулю. \n",
    "\n",
    "Итак, по правилам дифференцирования *уравнение частной производной 1-го порядка по коэффициенту $a$ примет вид:*\n",
    "\n",
    "$$ 2na + 2b\\sum\\limits_{i=1}^nx_i - 2\\sum\\limits_{i=1}^ny_i = 2(na + b\\sum\\limits_{i=1}^nx_i - \\sum\\limits_{i=1}^ny_i) $$,\n",
    "\n",
    "*уравнение частной производной 1-го порядка по $b$ примет вид:*\n",
    "\n",
    "$$ 2a\\sum\\limits_{i=1}^nx_i + 2b\\sum\\limits_{i=1}^nx^2_i - 2\\sum\\limits_{i=1}^nx_iy_i = 2\\sum\\limits_{i=1}^nx_i(a +b\\sum\\limits_{i=1}^nx_i - \\sum\\limits_{i=1}^ny_i) $$\n",
    "\n",
    "**В итоге мы получили систему уравнений, которая имеет достаточно простое аналитическое решение:**\n",
    "\n",
    "\n",
    "\\begin{equation*}\n",
    " \\begin{cases}\n",
    "   na + b\\sum\\limits_{i=1}^nx_i - \\sum\\limits_{i=1}^ny_i = 0\n",
    "   \\\\\n",
    "   \\sum\\limits_{i=1}^nx_i(a +b\\sum\\limits_{i=1}^nx_i - \\sum\\limits_{i=1}^ny_i) = 0\n",
    " \\end{cases}\n",
    "\\end{equation*}\n",
    "\n",
    "Прежде чем решать уравнение, предварительно загрузим, проверим правильность загрузки и отформатируем данные. \n",
    "\n",
    "## Загрузка и форматирование данных\n",
    "Необходимо отметить, что в связи с тем, что для аналитического решения, а в дальнейшем для градиентного и стохастического градиентного спуска, мы будем применять код в двух вариациях: с использованием библиотеки *NumPy* и без её использования, то нам потребуется соответствующее форматирование данных (см. код)."
   ]
  },
  {
   "cell_type": "code",
   "execution_count": 660,
   "metadata": {},
   "outputs": [
    {
     "name": "stdout",
     "output_type": "stream",
     "text": [
      "<class 'pandas.core.frame.DataFrame'>\n",
      "RangeIndex: 5 entries, 0 to 4\n",
      "Data columns (total 2 columns):\n",
      "x    5 non-null int64\n",
      "y    5 non-null float64\n",
      "dtypes: float64(1), int64(1)\n",
      "memory usage: 152.0 bytes\n",
      "None\n",
      "********************************************\n",
      "   x    y\n",
      "0  1  5.3\n",
      "1  2  6.3\n",
      "2  3  4.8\n",
      "3  4  3.8\n",
      "4  5  3.3\n",
      "********************************************\n",
      "[1.0, 2.0, 3.0, 4.0, 5.0]\n",
      "<type 'list'>\n",
      "********************************************\n",
      "[5.3, 6.3, 4.8, 3.8, 3.3]\n",
      "<type 'list'>\n",
      "********************************************\n",
      "[[1]\n",
      " [2]\n",
      " [3]\n",
      " [4]\n",
      " [5]]\n",
      "<type 'numpy.ndarray'>\n",
      "(5L, 1L)\n",
      "********************************************\n",
      "[[5.3]\n",
      " [6.3]\n",
      " [4.8]\n",
      " [3.8]\n",
      " [3.3]]\n",
      "<type 'numpy.ndarray'>\n",
      "(5L, 1L)\n",
      "********************************************\n"
     ]
    }
   ],
   "source": [
    "# импортируем все нужные нам библиотеки\n",
    "import pandas as pd\n",
    "import numpy as np\n",
    "import matplotlib.pyplot as plt\n",
    "import math\n",
    "import pylab as pl\n",
    "import random\n",
    "\n",
    "# графики отобразим в Jupyter\n",
    "%matplotlib inline\n",
    "\n",
    "# укажем размер графиков\n",
    "from pylab import rcParams\n",
    "rcParams['figure.figsize'] = 12, 6\n",
    "\n",
    "# отключим предупреждения Anaconda\n",
    "import warnings\n",
    "warnings.simplefilter('ignore')\n",
    "\n",
    "# загрузим значения\n",
    "table_zero = pd.read_csv('data_example.txt', header=0, sep='\\t')\n",
    "\n",
    "# посмотрим информацию о таблице и на саму таблицу\n",
    "print table_zero.info()\n",
    "print '********************************************'\n",
    "print table_zero\n",
    "print '********************************************'\n",
    "\n",
    "# подготовим данные без использования NumPy\n",
    "\n",
    "x_us = []\n",
    "[x_us.append(float(i)) for i in table_zero['x']]\n",
    "print x_us\n",
    "print type(x_us)\n",
    "print '********************************************'\n",
    "\n",
    "y_us = []\n",
    "[y_us.append(float(i)) for i in table_zero['y']]\n",
    "print y_us\n",
    "print type(y_us)\n",
    "print '********************************************'\n",
    "\n",
    "# подготовим данные с использованием NumPy\n",
    "\n",
    "x_np = table_zero[['x']].values\n",
    "print x_np\n",
    "print type(x_np)\n",
    "print x_np.shape\n",
    "print '********************************************'\n",
    "\n",
    "y_np = table_zero[['y']].values\n",
    "print y_np\n",
    "print type(y_np)\n",
    "print y_np.shape\n",
    "print '********************************************'"
   ]
  },
  {
   "cell_type": "markdown",
   "metadata": {},
   "source": [
    "## Визуализация\n",
    "Теперь, после того, как мы, во-первых, загрузили данные, во-вторых, проверили правильность загрузки и наконец отформатировали данные, проведем первую визуализацию. Часто для этого используют метод *pairplot* библиотеки *Seaborn*. В нашем примере, ввиду ограниченности цифр нет смысла применять библиотеку Seaborn. Мы воспользуемся обычной библиотекой *Matplotlib* и посмотрим только на диаграмму рассеяния."
   ]
  },
  {
   "cell_type": "code",
   "execution_count": 661,
   "metadata": {},
   "outputs": [
    {
     "name": "stdout",
     "output_type": "stream",
     "text": [
      "Грфик№1 \"Зависимость выручки от месяца года\"\n"
     ]
    },
    {
     "data": {
      "image/png": "[encoded data removed]",
      "text/plain": [
       "<Figure size 864x432 with 1 Axes>"
      ]
     },
     "metadata": {
      "needs_background": "light"
     },
     "output_type": "display_data"
    }
   ],
   "source": [
    "print 'Грфик№1 \"Зависимость выручки от месяца года\"'\n",
    "\n",
    "plt.plot(x_us,y_us,'o',color='green',markersize=16)\n",
    "plt.xlabel('$Months$', size=16)\n",
    "plt.ylabel('$Sales$', size=16)\n",
    "plt.show()"
   ]
  },
  {
   "cell_type": "markdown",
   "metadata": {},
   "source": [
    "## Аналитическое решение\n",
    "Воспользуемся самыми обычными инструментами в *python* и решим систему уравнений:\n",
    "\n",
    "\\begin{equation*}\n",
    " \\begin{cases}\n",
    "   na + b\\sum\\limits_{i=1}^nx_i - \\sum\\limits_{i=1}^ny_i = 0\n",
    "   \\\\\n",
    "   \\sum\\limits_{i=1}^nx_i(a +b\\sum\\limits_{i=1}^nx_i - \\sum\\limits_{i=1}^ny_i) = 0\n",
    " \\end{cases}\n",
    "\\end{equation*}\n",
    "\n",
    "\n",
    "*По правилу Крамера* найдем общий определитель, а также определители по $a$ и по $b$, после чего, разделив определитель по $a$ на общий определитель - найдем коэффициент $a$, аналогично найдем коэффициент $b$."
   ]
  },
  {
   "cell_type": "code",
   "execution_count": 662,
   "metadata": {},
   "outputs": [
    {
     "name": "stdout",
     "output_type": "stream",
     "text": [
      "\u001b[1m\u001b[4mОптимальные значения коэффициентов a и b:\u001b[0m\n",
      "a = 6.65\n",
      "b = -0.65\n",
      "\n",
      "\u001b[1m\u001b[4mСумма квадратов отклонений\u001b[0m\n",
      "1.475\n",
      "\n"
     ]
    }
   ],
   "source": [
    "# определим функцию для расчета коэффициентов a и b по правилу Крамера\n",
    "def Kramer_method (x,y):\n",
    "        # сумма значений (все месяца)\n",
    "    sx = sum(x)\n",
    "        # сумма истинных ответов (выручка за весь период)\n",
    "    sy = sum(y)\n",
    "        # сумма произведения значений на истинные ответы\n",
    "    list_xy = []\n",
    "    [list_xy.append(x[i]*y[i]) for i in range(len(x))]\n",
    "    sxy = sum(list_xy)\n",
    "        # сумма квадратов значений\n",
    "    list_x_sq = []\n",
    "    [list_x_sq.append(x[i]**2) for i in range(len(x))]\n",
    "    sx_sq = sum(list_x_sq)\n",
    "        # количество значений\n",
    "    n = len(x)\n",
    "        # общий определитель\n",
    "    det = sx_sq*n - sx*sx\n",
    "        # определитель по a\n",
    "    det_a = sx_sq*sy - sx*sxy\n",
    "        # искомый параметр a\n",
    "    a = (det_a / det)\n",
    "        # определитель по b\n",
    "    det_b = sxy*n - sy*sx\n",
    "        # искомый параметр b\n",
    "    b = (det_b / det)\n",
    "        # контрольные значения (прооверка)\n",
    "    check1 = (n*b + a*sx - sy)\n",
    "    check2 = (b*sx + a*sx_sq - sxy)\n",
    "    return [round(a,4), round(b,4)]\n",
    "\n",
    "# запустим функцию и запишем правильные ответы\n",
    "ab_us = Kramer_method(x_us,y_us)\n",
    "a_us = ab_us[0]\n",
    "b_us = ab_us[1]\n",
    "print '\\033[1m' + '\\033[4m' + \"Оптимальные значения коэффициентов a и b:\"  + '\\033[0m' \n",
    "print 'a =', a_us\n",
    "print 'b =', b_us\n",
    "print\n",
    "\n",
    "# определим функцию для подсчета суммы квадратов ошибок\n",
    "def errors_sq_Kramer_method(answers,x,y):\n",
    "    list_errors_sq = []\n",
    "    for i in range(len(x)):\n",
    "        err = (answers[0] + answers[1]*x[i] - y[i])**2\n",
    "        list_errors_sq.append(err)\n",
    "    return sum(list_errors_sq)\n",
    "\n",
    "# запустим функцию и запишем значение ошибки\n",
    "error_sq = errors_sq_Kramer_method(ab_us,x_us,y_us)\n",
    "print '\\033[1m' + '\\033[4m' + \"Сумма квадратов отклонений\" + '\\033[0m'\n",
    "print error_sq\n",
    "print\n",
    "\n",
    "# замерим время расчета\n",
    "# print '\\033[1m' + '\\033[4m' + \"Время выполнения расчета суммы квадратов отклонений:\" + '\\033[0m'\n",
    "# % timeit error_sq = errors_sq_Kramer_method(ab,x_us,y_us)"
   ]
  },
  {
   "cell_type": "markdown",
   "metadata": {},
   "source": [
    "Итак, значения коэффициентов найдены, сумма квадратов отклонений установлена. Нарисуем на гистограмме рассеяния прямую линию в соответствии с найденными коэффициентами."
   ]
  },
  {
   "cell_type": "code",
   "execution_count": 663,
   "metadata": {},
   "outputs": [
    {
     "name": "stdout",
     "output_type": "stream",
     "text": [
      "Грфик№2 \"Правильные и расчетные ответы\"\n"
     ]
    },
    {
     "data": {
      "image/png": "[encoded data removed]",
      "text/plain": [
       "<Figure size 864x432 with 1 Axes>"
      ]
     },
     "metadata": {
      "needs_background": "light"
     },
     "output_type": "display_data"
    }
   ],
   "source": [
    "# определим функцию для формирования массива рассчетных значений выручки\n",
    "def sales_count(ab,x,y):\n",
    "    line_answers = []\n",
    "    [line_answers.append(ab[0]+ab[1]*x[i]) for i in range(len(x))]\n",
    "    return line_answers\n",
    "\n",
    "# построим графики\n",
    "print 'Грфик№2 \"Правильные и расчетные ответы\"'\n",
    "plt.plot(x_us,y_us,'o',color='green',markersize=16, label = '$True$ $answers$')\n",
    "plt.plot(x_us, sales_count(ab_us,x_us,y_us), color='red',lw=4,\n",
    "         label='$Function: a + bx,$ $where$ $a='+str(round(ab_us[0],2))+',$ $b='+str(round(ab_us[1],2))+'$')\n",
    "plt.xlabel('$Months$', size=16)\n",
    "plt.ylabel('$Sales$', size=16)\n",
    "plt.legend(loc=1, prop={'size': 16})\n",
    "plt.show()"
   ]
  },
  {
   "cell_type": "markdown",
   "metadata": {},
   "source": [
    "Можно посмотреть на график отклонений за каждый месяц. В нашем случае, какой-либо значимой практической ценности мы из него не вынесем, но удовлетворим любопытство в том, насколько хорошо, уравнение простой линейной регрессии характеризует зависимость выручки от месяца года."
   ]
  },
  {
   "cell_type": "code",
   "execution_count": 664,
   "metadata": {},
   "outputs": [
    {
     "name": "stdout",
     "output_type": "stream",
     "text": [
      "График№3 \"Отклонения по-месячно, %\"\n"
     ]
    },
    {
     "data": {
      "image/png": "[encoded data removed]",
      "text/plain": [
       "<Figure size 864x432 with 1 Axes>"
      ]
     },
     "metadata": {
      "needs_background": "light"
     },
     "output_type": "display_data"
    }
   ],
   "source": [
    "# определим функцию для формирования массива отклонений в процентах\n",
    "def error_per_month(ab,x,y):\n",
    "    sales_c = sales_count(ab,x,y)\n",
    "    errors_percent = []\n",
    "    for i in range(len(x)):\n",
    "        errors_percent.append(100*(sales_c[i]-y[i])/y[i])\n",
    "    return errors_percent\n",
    "\n",
    "# построим график\n",
    "print 'График№3 \"Отклонения по-месячно, %\"'\n",
    "plt.gca().bar(x_us, error_per_month(ab_us,x_us,y_us), color='brown')\n",
    "plt.xlabel('Months', size=16)\n",
    "plt.ylabel('Calculation error, %', size=16)\n",
    "plt.show()"
   ]
  },
  {
   "cell_type": "markdown",
   "metadata": {},
   "source": [
    "Не идеально, но нашу задачу мы выполнили. \n",
    "\n",
    "Напишем функцию, которая для определения коэффициентов $a$ и $b$ использует библиотеку *NumPy*, точнее - напишем две функции: одну с использованием псевдообратной матрицы (не рекомендуется на практике, так как процесс вычислительно сложный и нестабильный), другую с использованием матричного уравнения."
   ]
  },
  {
   "cell_type": "code",
   "execution_count": 665,
   "metadata": {},
   "outputs": [
    {
     "name": "stdout",
     "output_type": "stream",
     "text": [
      "[[1.]\n",
      " [1.]\n",
      " [1.]]\n",
      "[[1. 1.]\n",
      " [1. 2.]\n",
      " [1. 3.]]\n",
      "***************************************\n",
      "\n",
      "[[ 6.65]\n",
      " [-0.65]]\n",
      "***************************************\n",
      "\n",
      "[[ 6.65]\n",
      " [-0.65]]\n"
     ]
    }
   ],
   "source": [
    "# для начала добавим столбец с не изменяющимся значением в 1. \n",
    "# Данный столбец нужен для того, чтобы не обрабатывать отдельно коэффицент a\n",
    "vector_1 = np.ones((x_np.shape[0],1))\n",
    "x_np = table_zero[['x']].values # на всякий случай приведем в первичный формат вектор x_np\n",
    "x_np = np.hstack((vector_1,x_np))\n",
    "\n",
    "# проверим то, что все сделали правильно\n",
    "print vector_1[0:3]\n",
    "print x_np[0:3]\n",
    "print '***************************************'\n",
    "print\n",
    "\n",
    "# напишем функцию, которая определяет значения коэффициентов a и b с использованием псевдообратной матрицы\n",
    "def pseudoinverse_matrix(X, y):\n",
    "    # задаем явный формат матрицы признаков\n",
    "    X = np.matrix(X)\n",
    "    # определяем транспонированную матрицу\n",
    "    XT = X.T\n",
    "    # определяем квадратную матрицу\n",
    "    XTX = XT*X\n",
    "    # определяем псевдообратную матрицу\n",
    "    inv = np.linalg.pinv(XTX)\n",
    "    # задаем явный формат матрицы ответов\n",
    "    y = np.matrix(y)\n",
    "    # находим вектор весов\n",
    "    return (inv*XT)*y\n",
    "\n",
    "# запустим функцию\n",
    "ab_np = pseudoinverse_matrix(x_np, y_np)\n",
    "print ab_np\n",
    "print '***************************************'\n",
    "print\n",
    "\n",
    "# напишем функцию, которая использует для решения матричное уравнение\n",
    "def matrix_equation(X,y):\n",
    "    a = np.dot(X.T, X)\n",
    "    b = np.dot(X.T, y)\n",
    "    return np.linalg.solve(a, b)\n",
    "\n",
    "# запустим функцию\n",
    "ab_np = matrix_equation(x_np,y_np)\n",
    "print ab_np"
   ]
  },
  {
   "cell_type": "markdown",
   "metadata": {},
   "source": [
    "Сравним время, которое было затрачено на определение коэффициентов $a$ и $b$, в соответствии с 3-мя представленными способами."
   ]
  },
  {
   "cell_type": "code",
   "execution_count": 666,
   "metadata": {
    "scrolled": true
   },
   "outputs": [
    {
     "name": "stdout",
     "output_type": "stream",
     "text": [
      "\u001b[1m\u001b[4mВремя выполнения расчета коэффициентов без использования библиотеки NumPy:\u001b[0m\n",
      "100000 loops, best of 3: 6.66 µs per loop\n",
      "***************************************\n",
      "\n",
      "\u001b[1m\u001b[4mВремя выполнения расчета коэффициентов с использованием псевдообратной матрицы:\u001b[0m\n",
      "10000 loops, best of 3: 98 µs per loop\n",
      "***************************************\n",
      "\n",
      "\u001b[1m\u001b[4mВремя выполнения расчета коэффициентов с использованием матричного уравнения:\u001b[0m\n",
      "The slowest run took 4.82 times longer than the fastest. This could mean that an intermediate result is being cached.\n",
      "100000 loops, best of 3: 15 µs per loop\n"
     ]
    }
   ],
   "source": [
    "print '\\033[1m' + '\\033[4m' + \"Время выполнения расчета коэффициентов без использования библиотеки NumPy:\" + '\\033[0m'\n",
    "% timeit ab_us = Kramer_method(x_us,y_us)\n",
    "print '***************************************'\n",
    "print\n",
    "print '\\033[1m' + '\\033[4m' + \"Время выполнения расчета коэффициентов с использованием псевдообратной матрицы:\" + '\\033[0m'\n",
    "%timeit ab_np = pseudoinverse_matrix(x_np, y_np)\n",
    "print '***************************************'\n",
    "print\n",
    "print '\\033[1m' + '\\033[4m' + \"Время выполнения расчета коэффициентов с использованием матричного уравнения:\" + '\\033[0m'\n",
    "%timeit ab_np = matrix_equation(x_np, y_np)"
   ]
  },
  {
   "cell_type": "markdown",
   "metadata": {},
   "source": [
    "На небольшом количестве данных, вперед выходит \"самописная\" функция, которая находит коэффициенты методом Крамера.\n",
    "\n",
    "Теперь можно перейти к другим способам нахождения коэффициентов $a$ и $b$."
   ]
  },
  {
   "cell_type": "markdown",
   "metadata": {},
   "source": [
    "## Градиентный спуск\n",
    "Для начала определим, что такое градиент. По-простому, градиент - это отрезок, который указывает направление максимального роста функции. По аналогии с подъемом в гору, то куда смотрит градиент, там и есть самый крутой подъем к вершине горы. Развивая пример с горой, вспоминаем, что на самом деле нам нужен самый крутой спуск, чтобы как можно быстрее достичь низины, то есть минимума - места где функция не возрастает и не убывает. В этом месте производная будет равна нулю. Следовательно, нам нужен не градиент, а антиградиент. Для нахождения антиградиента нужно всего лишь умножить градиент на **-1** (минус один).\n",
    "\n",
    "Обратим внимание на то, что функция может иметь несколько минимумов, и опустившись в один из них по предложенному далее алгоритму, мы не сможем найти другой минимум, который возможно находится ниже найденного. Расслабимся, нам это не грозит! В нашем случае мы имеем дело с единственным минимумом, так как наша функция $\\sum\\limits_{i=1}^n(a + bx_i - y_i)^2$ на графике представляет собой обычную параболу. А как мы все должны прекрасно знать из школьного курса математики - у параболы существует только один минимум.\n",
    "\n",
    "После того, как мы выяснили для чего нам потребовался градиент, а также то, что градиент - это отрезок, то есть вектор с заданными координатами, которые как раз являются теми самыми коэффициентами $a$ и $b$ мы можем реализовать градиентный спуск. \n",
    "\n",
    "Перед запуском, предлагаю прочитать буквально несколько предложений об алгоритме спуска:\n",
    " - Определяем псевдослучайным образом координаты коэффициентов $a$ и $b$. В нашем примере, мы будем определять коэффициенты вблизи нуля. Это является распространённой практикой, однако для каждого случая может быть предусмотрена своя практика.\n",
    " - От координаты $a$ вычитаем значение частной производной 1-го порядка в точке $a$. Так, если производная будет положительная, то функция возрастает. Следовательно, отнимая значение производной, мы будем двигаться в обратную сторону роста, то есть в сторону спуска. Если производная отрицательна, значит функция в этой точке убывает и отнимая значение производной мы двигаемся в сторону спуска. \n",
    " - Проводим аналогичную операцию с координатой $b$: вычитаем значение частной производной в точке $b$.\n",
    " - Для того, чтобы не перескочить минимум и не улететь в далекий космос, необходимо установить размер шага в сторону спуска. В общем и целом, можно написать целую статью о том, как правильнее установить шаг и как его менять в процессе спуска, чтобы снизить затраты на вычисления. Но сейчас перед нами несколько иная задача, и мы научным методом \"тыка\" или как говорят в простонародье, эмпирическим путем, установим размер шага.\n",
    " - После того, как мы из заданных координат $a$ и $b$ вычли значения производных, получаем новые координаты $a$ и $b$. Делаем следующий шаг (вычитание), уже из рассчитанных координат. И так цикл запускается вновь и вновь, до тех пор, пока не будет достигнута требуемая сходимость.\n",
    " \n",
    " Все! Теперь мы готовы отправиться на поиски самого глубокого ущелья Марианской впадины. Приступаем."
   ]
  },
  {
   "cell_type": "code",
   "execution_count": 667,
   "metadata": {},
   "outputs": [
    {
     "name": "stdout",
     "output_type": "stream",
     "text": [
      "\u001b[1m\u001b[4mЗначения коэффициентов a и b:\u001b[0m\n",
      "a = 6.65\n",
      "b = -0.65\n",
      "\n",
      "\u001b[1m\u001b[4mСумма квадратов отклонений:\u001b[0m\n",
      "1.475\n",
      "\n",
      "\u001b[1m\u001b[4mКоличество итераций в градиентном спуске:\u001b[0m\n",
      "815\n",
      "\n"
     ]
    }
   ],
   "source": [
    "# напишем функцию градиентного спуска без использования библиотеки NumPy. \n",
    "# Функция на вход принимает диапазоны значений x,y, длину шага (по умолчанию=0,1), допустимую погрешность(tolerance)\n",
    "def gradient_descent_usual(x_us,y_us,l=0.1,tolerance=0.000000000001):\n",
    "    # сумма значений (все месяца)\n",
    "    sx = sum(x_us)\n",
    "    # сумма истинных ответов (выручка за весь период)\n",
    "    sy = sum(y_us)\n",
    "    # сумма произведения значений на истинные ответы\n",
    "    list_xy = []\n",
    "    [list_xy.append(x_us[i]*y_us[i]) for i in range(len(x_us))]\n",
    "    sxy = sum(list_xy)\n",
    "    # сумма квадратов значений\n",
    "    list_x_sq = []\n",
    "    [list_x_sq.append(x_us[i]**2) for i in range(len(x_us))]\n",
    "    sx_sq = sum(list_x_sq)\n",
    "    # количество значений\n",
    "    num = len(x_us)\n",
    "    # начальные значения коэффициентов, определенные псевдослучайным образом\n",
    "    a = float(random.uniform(-0.5, 0.5))\n",
    "    b = float(random.uniform(-0.5, 0.5))\n",
    "    # создаем массив с ошибками, для старта используем значения 1 и 0\n",
    "    # после завершения спуска стартовые значения удалим\n",
    "    errors = [1,0]\n",
    "    # запускаем цикл спуска\n",
    "    # цикл работает до тех пор, пока отклонение последней ошибки суммы квадратов от предыдущей, не будет меньше tolerance\n",
    "    while abs(errors[-1]-errors[-2]) > tolerance:\n",
    "        a_step = a - l*(num*a + b*sx - sy)/num\n",
    "        b_step = b - l*(a*sx + b*sx_sq - sxy)/num\n",
    "        a = a_step\n",
    "        b = b_step\n",
    "        ab = [a,b]\n",
    "        errors.append(errors_sq_Kramer_method(ab,x_us,y_us))\n",
    "    return (ab),(errors[2:])\n",
    "\n",
    "# запишем массив значений \n",
    "list_parametres_gradient_descence = gradient_descent_usual(x_us,y_us,l=0.1,tolerance=0.000000000001)\n",
    "\n",
    "\n",
    "print '\\033[1m' + '\\033[4m' + \"Значения коэффициентов a и b:\" + '\\033[0m'\n",
    "print 'a =', round(list_parametres_gradient_descence[0][0],3)\n",
    "print 'b =', round(list_parametres_gradient_descence[0][1],3)\n",
    "print\n",
    "\n",
    "\n",
    "print '\\033[1m' + '\\033[4m' + \"Сумма квадратов отклонений:\" + '\\033[0m'\n",
    "print round(list_parametres_gradient_descence[1][-1],3)\n",
    "print\n",
    "\n",
    "\n",
    "\n",
    "print '\\033[1m' + '\\033[4m' + \"Количество итераций в градиентном спуске:\" + '\\033[0m'\n",
    "print len(list_parametres_gradient_descence[1])\n",
    "print"
   ]
  },
  {
   "cell_type": "markdown",
   "metadata": {},
   "source": [
    "Мы погрузились на самое дно Марианской впадины и там обнаружили все те же значения коэффициентов $a$ и $b$, что собственно и следовало ожидать.\n",
    "\n",
    "Совершим еще одно погружение, только на этот раз, начинкой нашего глубоководного аппарата будут иные технологии, а именно библиотека *NumPy*."
   ]
  },
  {
   "cell_type": "code",
   "execution_count": 668,
   "metadata": {},
   "outputs": [
    {
     "name": "stdout",
     "output_type": "stream",
     "text": [
      "\u001b[1m\u001b[4mЗначения коэффициентов a и b:\u001b[0m\n",
      "a = 6.65\n",
      "b = -0.65\n",
      "\n",
      "\u001b[1m\u001b[4mСумма квадратов отклонений:\u001b[0m\n",
      "1.475\n",
      "\n",
      "\u001b[1m\u001b[4mКоличество итераций в градиентном спуске:\u001b[0m\n",
      "818\n",
      "\n"
     ]
    }
   ],
   "source": [
    "# перед тем определить функцию для градиентного спуска с использованием библиотеки NumPy, \n",
    "# напишем функцию определения суммы квадратов отклонений также с использованием NumPy\n",
    "def error_square_numpy(ab,x_np,y_np):\n",
    "    y_pred = np.dot(x_np,ab)\n",
    "    error = y_pred - y_np\n",
    "    return sum((error)**2)\n",
    "\n",
    "# напишем функцию градиентного спуска с использованием библиотеки NumPy. \n",
    "# Функция на вход принимает диапазоны значений x,y, длину шага (по умолчанию=0,1), допустимую погрешность(tolerance)\n",
    "def gradient_descent_numpy(x_np,y_np,l=0.1,tolerance=0.000000000001):\n",
    "    # сумма значений (все месяца)\n",
    "    sx = float(sum(x_np[:,1]))\n",
    "    # сумма истинных ответов (выручка за весь период)\n",
    "    sy = float(sum(y_np))\n",
    "    # сумма произведения значений на истинные ответы\n",
    "    sxy = x_np*y_np\n",
    "    sxy = float(sum(sxy[:,1]))\n",
    "    # сумма квадратов значений\n",
    "    sx_sq = float(sum(x_np[:,1]**2))\n",
    "    # количество значений\n",
    "    num = float(x_np.shape[0])\n",
    "    # начальные значения коэффициентов, определенные псевдослучайным образом\n",
    "    a = float(random.uniform(-0.5, 0.5))\n",
    "    b = float(random.uniform(-0.5, 0.5))\n",
    "    # создаем массив с ошибками, для старта используем значения 1 и 0\n",
    "    # после завершения спуска стартовые значения удалим\n",
    "    errors = [1,0]\n",
    "    # запускаем цикл спуска\n",
    "    # цикл работает до тех пор, пока отклонение последней ошибки суммы квадратов от предыдущей, не будет меньше tolerance\n",
    "    while abs(errors[-1]-errors[-2]) > tolerance:\n",
    "        a_step = a - l*(num*a + b*sx - sy)/num\n",
    "        b_step = b - l*(a*sx + b*sx_sq - sxy)/num\n",
    "        a = a_step\n",
    "        b = b_step\n",
    "        ab = np.array([[a],[b]])\n",
    "        errors.append(error_square_numpy(ab,x_np,y_np))\n",
    "    return (ab),(errors[2:])\n",
    "\n",
    "# запишем массив значений \n",
    "list_parametres_gradient_descence = gradient_descent_numpy(x_np,y_np,l=0.1,tolerance=0.000000000001)\n",
    "\n",
    "print '\\033[1m' + '\\033[4m' + \"Значения коэффициентов a и b:\" + '\\033[0m'\n",
    "print 'a =', round(list_parametres_gradient_descence[0][0],3)\n",
    "print 'b =', round(list_parametres_gradient_descence[0][1],3)\n",
    "print\n",
    "\n",
    "\n",
    "print '\\033[1m' + '\\033[4m' + \"Сумма квадратов отклонений:\" + '\\033[0m'\n",
    "print round(list_parametres_gradient_descence[1][-1],3)\n",
    "print\n",
    "\n",
    "\n",
    "\n",
    "print '\\033[1m' + '\\033[4m' + \"Количество итераций в градиентном спуске:\" + '\\033[0m'\n",
    "print len(list_parametres_gradient_descence[1])\n",
    "print"
   ]
  },
  {
   "cell_type": "markdown",
   "metadata": {},
   "source": [
    "Значения коэффициентов $a$ и $b$ неизменны.\n",
    "\n",
    "Построим на то, как изменялась ошибка при градиентном спуске, то есть как изменялась сумма квадратов отклонений с каждым шагом."
   ]
  },
  {
   "cell_type": "code",
   "execution_count": 669,
   "metadata": {},
   "outputs": [
    {
     "name": "stdout",
     "output_type": "stream",
     "text": [
      "График№4 \"Сумма квадратов отклонений по-шагово\"\n"
     ]
    },
    {
     "data": {
      "image/png": "[encoded data removed]",
      "text/plain": [
       "<Figure size 864x432 with 1 Axes>"
      ]
     },
     "metadata": {
      "needs_background": "light"
     },
     "output_type": "display_data"
    }
   ],
   "source": [
    "print 'График№4 \"Сумма квадратов отклонений по-шагово\"'\n",
    "plt.plot(range(len(list_parametres_gradient_descence[1])), list_parametres_gradient_descence[1], color='red', lw=3)\n",
    "plt.xlabel('Steps (Iteration)', size=16)\n",
    "plt.ylabel('Sum of squared deviations', size=16)\n",
    "plt.show()"
   ]
  },
  {
   "cell_type": "markdown",
   "metadata": {},
   "source": [
    "На графике мы видим, что с каждым шагом ошибка уменьшается, а спустя какое-то количество итераций наблюдаем практически горизонтальную линию.\n",
    "\n",
    "Напоследок оценим разницу во времени исполнения кода:"
   ]
  },
  {
   "cell_type": "code",
   "execution_count": 670,
   "metadata": {},
   "outputs": [
    {
     "name": "stdout",
     "output_type": "stream",
     "text": [
      "\u001b[1m\u001b[4mВремя выполнения градиентного спуска без использования библиотеки NumPy:\u001b[0m\n",
      "100 loops, best of 3: 2.87 ms per loop\n",
      "***************************************\n",
      "\n",
      "\u001b[1m\u001b[4mВремя выполнения градиентного спуска с использованием библиотеки NumPy:\u001b[0m\n",
      "100 loops, best of 3: 12 ms per loop\n"
     ]
    }
   ],
   "source": [
    "print '\\033[1m' + '\\033[4m' + \"Время выполнения градиентного спуска без использования библиотеки NumPy:\" + '\\033[0m'\n",
    "%timeit list_parametres_gradient_descence = gradient_descent_usual(x_us,y_us,l=0.1,tolerance=0.000000000001)\n",
    "print '***************************************'\n",
    "print\n",
    "\n",
    "print '\\033[1m' + '\\033[4m' + \"Время выполнения градиентного спуска с использованием библиотеки NumPy:\" + '\\033[0m'\n",
    "%timeit list_parametres_gradient_descence = gradient_descent_numpy(x_np,y_np,l=0.1,tolerance=0.000000000001)"
   ]
  },
  {
   "cell_type": "markdown",
   "metadata": {},
   "source": [
    "Возможно мы делаем что-то не то, но опять простая \"самописная\" функция, которая не использует библиотеку *NumPy* опережает по времени выполнения расчетов функцию, использующую библиотеку *NumPy*. \n",
    "\n",
    "Но мы не стоим на месте, а двигаемся в сторону изучения еще одного увлекательного способа решения уравнения простой линейной регрессии. Встречайте! "
   ]
  },
  {
   "cell_type": "markdown",
   "metadata": {},
   "source": [
    "## Стохастический градиентный спуск\n",
    "Для того, чтобы быстрее понять принцип работы стохастического градиентного спуска, лучше определить его отличия от обычного градиентного спуска. Мы, в случае с градиентным спуском, в уравнениях производных от $a$ и $b$ использовали суммы значений всех признаков и истинных ответов, имеющихся в выборке (то есть суммы всех $x_i$ и $y_i$). В стохастическом градиентном спуске мы не будем использовать все значения, имеющиеся в выборке, а вместо этого, псевдослучайным образом выберем так называемый индекс выборки и используем его значения. \n",
    "\n",
    "Например, если индекс определился за номером 3 (три), то мы берем значения $x_3=3$ и $y_3=4,8$, далее подставляем значения в уравнения производных и определяем новые координаты. Затем, определив координаты, мы опять псевдослучайным образом определяем индекс выборки, подставляем значения, соответствующие индексу в уравнения частных производных, по новому определяем координаты $a$ и $b$ и т.д. до ~~позеленения~~ сходимости. На первый взгляд, может показаться, как это вообще может работать, однако работает. Правда стоит отметить, что не с каждым шагом уменьшается ошибка, но тенденция безусловно имеется.\n",
    "\n",
    "Каковы преимущества стохастического градиентного спуска перед обычным? В случае, если у нас размер выборки очень велик и измеряется десятками тысяч значений, то значительно проще обработать, допустим случайную тысячу из них, нежели всю выборку. Вот в этом случае и запускается стохастический градиентный спуск. В нашем случае мы конечно же большой разницы не заметим.\n",
    "\n",
    "Смотрим код."
   ]
  },
  {
   "cell_type": "code",
   "execution_count": 671,
   "metadata": {},
   "outputs": [
    {
     "name": "stdout",
     "output_type": "stream",
     "text": [
      "\u001b[1m\u001b[4mЗначения коэффициентов a и b:\u001b[0m\n",
      "a = 6.289\n",
      "b = -1.095\n",
      "\n",
      "\u001b[1m\u001b[4mСумма квадратов отклонений:\u001b[0m\n",
      "17.817\n",
      "\n",
      "\u001b[1m\u001b[4mКоличество итераций в стохастическом градиентном спуске:\u001b[0m\n",
      "800\n"
     ]
    }
   ],
   "source": [
    "# определим функцию стох.град.шага\n",
    "def stoch_grad_step_usual(vector_init, x_us, ind, y_us, l):\n",
    "#     выбираем значение икс, которое соответствует случайному значению параметра ind \n",
    "# (см.ф-цию stoch_grad_descent_usual)\n",
    "    x = x_us[ind]\n",
    "#     рассчитывыаем значение y (выручку), которая соответствует выбранному значению x\n",
    "    y_pred = vector_init[0] + vector_init[1]*x_us[ind]\n",
    "#     вычисляем ошибку расчетной выручки относительно представленной в выборке\n",
    "    error = y_pred - y_us[ind]\n",
    "#     определяем первую координату градиента ab\n",
    "    grad_a = error\n",
    "#     определяем вторую координату ab\n",
    "    grad_b = x_us[ind]*error\n",
    "#     вычисляем новый вектор коэффициентов\n",
    "    vector_new = [vector_init[0]-l*grad_a, vector_init[1]-l*grad_b]\n",
    "    return vector_new\n",
    "\n",
    "\n",
    "# определим функцию стох.град.спуска\n",
    "def stoch_grad_descent_usual(x_us, y_us, l=0.1, steps = 800):\n",
    "#     для самого начала работы функции зададим начальные значения коэффициентов\n",
    "    vector_init = [float(random.uniform(-0.5, 0.5)), float(random.uniform(-0.5, 0.5))]\n",
    "    errors = []\n",
    "#     запустим цикл спуска\n",
    "# цикл расчитан на определенное количество шагов (steps)\n",
    "    for i in range(steps):\n",
    "        ind = random.choice(range(len(x_us)))\n",
    "        new_vector = stoch_grad_step_usual(vector_init, x_us, ind, y_us, l)\n",
    "        vector_init = new_vector\n",
    "        errors.append(errors_sq_Kramer_method(vector_init,x_us,y_us))\n",
    "    return (vector_init),(errors)\n",
    "\n",
    "\n",
    "# запишем массив значений \n",
    "list_parametres_stoch_gradient_descence = stoch_grad_descent_usual(x_us, y_us, l=0.1, steps = 800)\n",
    "\n",
    "print '\\033[1m' + '\\033[4m' + \"Значения коэффициентов a и b:\" + '\\033[0m'\n",
    "print 'a =', round(list_parametres_stoch_gradient_descence[0][0],3)\n",
    "print 'b =', round(list_parametres_stoch_gradient_descence[0][1],3)\n",
    "print\n",
    "\n",
    "\n",
    "print '\\033[1m' + '\\033[4m' + \"Сумма квадратов отклонений:\" + '\\033[0m'\n",
    "print round(list_parametres_stoch_gradient_descence[1][-1],3)\n",
    "print\n",
    "\n",
    "\n",
    "\n",
    "print '\\033[1m' + '\\033[4m' + \"Количество итераций в стохастическом градиентном спуске:\" + '\\033[0m'\n",
    "print len(list_parametres_stoch_gradient_descence[1])"
   ]
  },
  {
   "cell_type": "markdown",
   "metadata": {},
   "source": [
    "Как же так! У нас получились другие значения коэффициентов $a$ и $b$. Может быть стохастический градиентный спуск нашел более оптимальные параметры уравнения? Увы, нет. Достаточно посмотреть на сумму квадратов отклонений и увидеть, что при новых значениях коэффициентов, ошибка больше. Не спешим отчаиваться. Построим график изменения ошибки."
   ]
  },
  {
   "cell_type": "code",
   "execution_count": 672,
   "metadata": {},
   "outputs": [
    {
     "name": "stdout",
     "output_type": "stream",
     "text": [
      "График №5 \"Сумма квадратов отклонений по-шагово\"\n"
     ]
    },
    {
     "data": {
      "image/png": "[encoded data removed]",
      "text/plain": [
       "<Figure size 864x432 with 1 Axes>"
      ]
     },
     "metadata": {
      "needs_background": "light"
     },
     "output_type": "display_data"
    }
   ],
   "source": [
    "print 'График №5 \"Сумма квадратов отклонений по-шагово\"'\n",
    "plt.plot(range(len(list_parametres_stoch_gradient_descence[1])), list_parametres_stoch_gradient_descence[1], color='red', lw=2)\n",
    "plt.xlabel('Steps (Iteration)', size=16)\n",
    "plt.ylabel('Sum of squared deviations', size=16)\n",
    "plt.show()"
   ]
  },
  {
   "cell_type": "markdown",
   "metadata": {},
   "source": [
    "Посмотрев на график, все становится на свои места и сейчас мы все исправим. \n",
    "\n",
    "Итак, что же произошло? Произошло следующее. Когда мы выбираем случайным образом месяц, то именно для выбранного месяца наш алгоритм стремится уменьшить ошибку в расчете выручки. Затем выбираем другой месяц и повторяем расчет, но ошибку уменьшаем уже для второго выбранного месяца. А теперь вспомним, что у нас первые два месяца существенно отклоняются от линии уравнения простой линейной регрессии. Это значит, что когда выбирается любой из этих двух месяцев, то уменьшая ошибку каждого из них, наш алгоритм серьезно увеличивает ошибку по всей выборке. Так что же делать? Ответ простой: надо уменьшить шаг спуска. Ведь уменьшив шаг спуска, ошибка так же перестанет \"скакать\" то вверх, то вниз. Вернее, ошибка \"скакать\" не перестанет, но будет это делать не так прытко:) Проверим."
   ]
  },
  {
   "cell_type": "code",
   "execution_count": 673,
   "metadata": {},
   "outputs": [
    {
     "name": "stdout",
     "output_type": "stream",
     "text": [
      "\u001b[1m\u001b[4mЗначения коэффициентов a и b:\u001b[0m\n",
      "a = 6.65\n",
      "b = -0.637\n",
      "\n",
      "\u001b[1m\u001b[4mСумма квадратов отклонений:\u001b[0m\n",
      "1.484\n",
      "\n",
      "\u001b[1m\u001b[4mКоличество итераций в стохастическом градиентном спуске:\u001b[0m\n",
      "80000\n",
      "График №6 \"Сумма квадратов отклонений по-шагово\"\n"
     ]
    },
    {
     "data": {
      "image/png": "[encoded data removed]",
      "text/plain": [
       "<Figure size 864x432 with 1 Axes>"
      ]
     },
     "metadata": {
      "needs_background": "light"
     },
     "output_type": "display_data"
    }
   ],
   "source": [
    "# запустим функцию, уменьшив шаг в 100 раз и увеличив количество шагов соответсвующе \n",
    "list_parametres_stoch_gradient_descence = stoch_grad_descent_usual(x_us, y_us, l=0.001, steps = 80000)\n",
    "\n",
    "print '\\033[1m' + '\\033[4m' + \"Значения коэффициентов a и b:\" + '\\033[0m'\n",
    "print 'a =', round(list_parametres_stoch_gradient_descence[0][0],3)\n",
    "print 'b =', round(list_parametres_stoch_gradient_descence[0][1],3)\n",
    "print\n",
    "\n",
    "\n",
    "print '\\033[1m' + '\\033[4m' + \"Сумма квадратов отклонений:\" + '\\033[0m'\n",
    "print round(list_parametres_stoch_gradient_descence[1][-1],3)\n",
    "print\n",
    "\n",
    "\n",
    "\n",
    "print '\\033[1m' + '\\033[4m' + \"Количество итераций в стохастическом градиентном спуске:\" + '\\033[0m'\n",
    "print len(list_parametres_stoch_gradient_descence[1])\n",
    "\n",
    "print 'График №6 \"Сумма квадратов отклонений по-шагово\"'\n",
    "plt.plot(range(len(list_parametres_stoch_gradient_descence[1])), list_parametres_stoch_gradient_descence[1], color='red', lw=2)\n",
    "plt.xlabel('Steps (Iteration)', size=16)\n",
    "plt.ylabel('Sum of squared deviations', size=16)\n",
    "plt.show()"
   ]
  },
  {
   "cell_type": "markdown",
   "metadata": {},
   "source": [
    "Значения коэффициентов улучшились, но все равно не идеальны. Гипотетически это можно поправить таким образом. Выбираем, например, на последних 1000 итерациях значения коэффициентов, с которыми была допущена минимальная ошибка. Правда нам для этого придется записывать еще и сами значения коэффициентов. Мы не будем этого делать, а лучше обратим внимание на график. Он выглядит гладким, и ошибка как будто уменьшается равномерно. На самом деле это не так. Посмотрим на первые 1000 итераций и сравним их с последними."
   ]
  },
  {
   "cell_type": "code",
   "execution_count": 674,
   "metadata": {},
   "outputs": [
    {
     "name": "stdout",
     "output_type": "stream",
     "text": [
      "График №7 \"Сумма квадратов отклонений по-шагово. Первые 1000 итераций\"\n"
     ]
    },
    {
     "data": {
      "image/png": "[encoded data removed]",
      "text/plain": [
       "<Figure size 864x432 with 1 Axes>"
      ]
     },
     "metadata": {
      "needs_background": "light"
     },
     "output_type": "display_data"
    },
    {
     "name": "stdout",
     "output_type": "stream",
     "text": [
      "График №7 \"Сумма квадратов отклонений по-шагово. Последние 1000 итераций\"\n"
     ]
    },
    {
     "data": {
      "image/png": "[encoded data removed]",
      "text/plain": [
       "<Figure size 864x432 with 1 Axes>"
      ]
     },
     "metadata": {
      "needs_background": "light"
     },
     "output_type": "display_data"
    }
   ],
   "source": [
    "print 'График №7 \"Сумма квадратов отклонений по-шагово. Первые 1000 итераций\"'\n",
    "plt.plot(range(len(list_parametres_stoch_gradient_descence[1][:1000])), \n",
    "         list_parametres_stoch_gradient_descence[1][:1000], color='red', lw=2)\n",
    "plt.xlabel('Steps (Iteration)', size=16)\n",
    "plt.ylabel('Sum of squared deviations', size=16)\n",
    "plt.show()\n",
    "\n",
    "print 'График №7 \"Сумма квадратов отклонений по-шагово. Последние 1000 итераций\"'\n",
    "plt.plot(range(len(list_parametres_stoch_gradient_descence[1][-1000:])), \n",
    "         list_parametres_stoch_gradient_descence[1][-1000:], color='red', lw=2)\n",
    "plt.xlabel('Steps (Iteration)', size=16)\n",
    "plt.ylabel('Sum of squared deviations', size=16)\n",
    "plt.show()"
   ]
  },
  {
   "cell_type": "markdown",
   "metadata": {},
   "source": [
    "В самом начале спуска мы наблюдаем достаточно равномерное и крутое уменьшение ошибки. На последних итерациях мы видим, что ошибка ходит вокруг да около значения в 1,475 и в некоторые моменты даже равняется этому оптимальному значению, но потом все равно уходит ввысь... Повторюсь, можно записывать значения коэффициентов $a$ и $b$, а потом выбрать те, при которых ошибка минимальна. Однако у нас возникла проблема посерьезнее: нам пришлось сделать 80 тыс. шагов (см. код), чтобы получить значения, близкие к оптимальным. А это, уже противоречит идее об экономии времени вычислений при стохастическом градиентном спуске относительно градиентного. Что можно поправить и улучшить? Не трудно заметить, что на первых итерациях мы уверенно идем вниз и, следовательно, нам стоит оставить большой шаг на первых итерациях и по мере продвижения вперед шаг уменьшать. Мы не будем этого делать в этой статье - она и так уже затянулась. Желающие могут и сами подумать, как это сделать, это не сложно :)\n",
    "\n",
    "Теперь выполним стохастический градиентный спуск, используя библиотеку *NumPy* (и не будем спотыкаться о камни, которые мы выявили раннее)"
   ]
  },
  {
   "cell_type": "code",
   "execution_count": 675,
   "metadata": {},
   "outputs": [
    {
     "name": "stdout",
     "output_type": "stream",
     "text": [
      "\u001b[1m\u001b[4mЗначения коэффициентов a и b:\u001b[0m\n",
      "a = 6.637\n",
      "b = -0.658\n",
      "\n",
      "\u001b[1m\u001b[4mСумма квадратов отклонений:\u001b[0m\n",
      "1.483\n",
      "\n",
      "\u001b[1m\u001b[4mКоличество итераций в стохастическом градиентном спуске:\u001b[0m\n",
      "80000\n",
      "\n"
     ]
    }
   ],
   "source": [
    "# для начала напишем функцию градиентного шага\n",
    "def stoch_grad_step_numpy(vector_init, X, ind, y, l):\n",
    "    x = X[ind]\n",
    "    y_pred = np.dot(x,vector_init)\n",
    "    err = y_pred - y[ind]\n",
    "    grad_a = err\n",
    "    grad_b = x[1]*err\n",
    "    return vector_init - l*np.array([grad_a, grad_b])\n",
    "\n",
    "# определим функцию стохастического градиентного спуска\n",
    "def stoch_grad_descent_numpy(X, y, l=0.1, steps = 800):\n",
    "    vector_init = np.array([[np.random.randint(X.shape[0])], [np.random.randint(X.shape[0])]])\n",
    "    errors = []\n",
    "    for i in range(steps):\n",
    "        ind = np.random.randint(X.shape[0])\n",
    "        new_vector = stoch_grad_step_numpy(vector_init, X, ind, y, l)\n",
    "        vector_init = new_vector\n",
    "        errors.append(error_square_numpy(vector_init,X,y))\n",
    "    return (vector_init), (errors)\n",
    "\n",
    "# запишем массив значений \n",
    "list_parametres_stoch_gradient_descence = stoch_grad_descent_numpy(x_np, y_np, l=0.001, steps = 80000)\n",
    "\n",
    "print '\\033[1m' + '\\033[4m' + \"Значения коэффициентов a и b:\" + '\\033[0m'\n",
    "print 'a =', round(list_parametres_stoch_gradient_descence[0][0],3)\n",
    "print 'b =', round(list_parametres_stoch_gradient_descence[0][1],3)\n",
    "print\n",
    "\n",
    "\n",
    "print '\\033[1m' + '\\033[4m' + \"Сумма квадратов отклонений:\" + '\\033[0m'\n",
    "print round(list_parametres_stoch_gradient_descence[1][-1],3)\n",
    "print\n",
    "\n",
    "\n",
    "\n",
    "print '\\033[1m' + '\\033[4m' + \"Количество итераций в стохастическом градиентном спуске:\" + '\\033[0m'\n",
    "print len(list_parametres_stoch_gradient_descence[1])\n",
    "print"
   ]
  },
  {
   "cell_type": "markdown",
   "metadata": {},
   "source": [
    "Значения получились почти такими же, как и при спуске без использования *NumPy*. Впрочем, это логично. \n",
    "\n",
    "Узнаем сколько же времени занимали у нас стохастические градиентные спуски."
   ]
  },
  {
   "cell_type": "code",
   "execution_count": null,
   "metadata": {},
   "outputs": [
    {
     "name": "stdout",
     "output_type": "stream",
     "text": [
      "\u001b[1m\u001b[4mВремя выполнения стохастического градиентного спуска без использования библиотеки NumPy:\u001b[0m\n",
      "1 loop, best of 3: 347 ms per loop\n",
      "***************************************\n",
      "\n",
      "\u001b[1m\u001b[4mВремя выполнения стохастического градиентного спуска с использованием библиотеки NumPy:\u001b[0m\n"
     ]
    }
   ],
   "source": [
    "print '\\033[1m' + '\\033[4m' +\\\n",
    "\"Время выполнения стохастического градиентного спуска без использования библиотеки NumPy:\"\\\n",
    "+ '\\033[0m'\n",
    "%timeit list_parametres_stoch_gradient_descence = stoch_grad_descent_usual(x_us, y_us, l=0.001, steps = 80000)\n",
    "print '***************************************'\n",
    "print\n",
    "\n",
    "print '\\033[1m' + '\\033[4m' +\\\n",
    "\"Время выполнения стохастического градиентного спуска с использованием библиотеки NumPy:\"\\\n",
    "+ '\\033[0m'\n",
    "%timeit list_parametres_stoch_gradient_descence = stoch_grad_descent_numpy(x_np, y_np, l=0.001, steps = 80000)"
   ]
  },
  {
   "cell_type": "markdown",
   "metadata": {},
   "source": [
    "Чем дальше в лес, тем темнее тучи: опять \"самописная\" формула показывает лучший результат. Все это наводит на мысли о том, что должны существовать еще более тонкие способы использования библиотеки *NumPy*, которые действительно ускоряют операции вычислений. В этой статье мы о них уже не узнаем. Будет о чем подумать на досуге:)"
   ]
  },
  {
   "cell_type": "markdown",
   "metadata": {},
   "source": [
    "## Резюмируем\n",
    "Перед тем как резюмировать, хотелось бы ответить на вопрос, который скорее всего, возник у нашего дорогого читателя. Для чего, собственно, такие \"мучения\" со спусками, зачем нам ходить по горе вверх и вниз (преимущественно вниз), чтобы найти заветную низину, если в наших руках такой мощный и простой прибор, в виде аналитического решения, который мгновенно телепортирует нас в нужное место?\n",
    "\n",
    "Ответ на этот вопрос лежит на поверхности. Сейчас мы разбирали очень простой пример, в котором истинный ответ $y_i$ зависит от одного признака $x_i$. В жизни такое встретишь не часто, поэтому представим, что у нас признаков 2, 30, 50 и более. Добавим к этому тысячи, а то и десятки тысяч значений для каждого признака. В этом случае аналитическое решение может не выдержать испытания и дать сбой. В свою очередь градиентный спуск и его вариации будут медленно, но верно приближать нас к цели - минимуму функции. А на счет скорости не волнуйтесь - мы наверняка еще разберем способы, которые позволят нам задавать и регулировать длину шага (то есть скорость).\n",
    "\n",
    "А теперь собственно краткое резюме. \n",
    "\n",
    "Во-первых, надеюсь, что изложенный в статье материал, поможет начинающим \"дата сайнтистам\" в понимании того, как решать уравнения простой (и не только) линейной регрессии. \n",
    "\n",
    "Во-вторых, мы рассмотрели несколько способов решения уравнения. Теперь, в зависимости от ситуации, мы можем выбрать тот, который лучше всего подходит для решения поставленной задачи. \n",
    "\n",
    "В-третьих, мы увидели силу дополнительных настроек, а именно длины шага градиентного спуска. Этим параметром нельзя пренебрегать. Как было подмечено выше, с целью сокращения затрат на проведение вычислений, длину шага стоит изменять по ходу спуска.\n",
    "\n",
    "В-четвертых, в нашем случае, \"самописные\" функции показали лучший временной результат вычислений. Вероятно, это связано с не самым профессиональным применением возможностей библиотеки *NumPy*. Но как бы то ни было, вывод напрашивается следующий. С одной стороны, иногда стоит подвергать сомнению устоявшиеся мнения, а с другой - не всегда стоит все усложнять - наоборот иногда эффективнее оказывается более простой способ решения задачи. А так как цель у нас была разобрать три подхода в решении уравнения простой линейной регрессии, то использование \"самописных\" функций нам вполне хватило.\n",
    "\n",
    "\n",
    "## Литература\n",
    "1.\tЛинейная регрессия\n",
    "\n",
    "http://statistica.ru/theory/osnovy-lineynoy-regressii/\n",
    "\n",
    "2.\tМетод наименьших квадратов\n",
    "\n",
    "http://mathprofi.ru/metod_naimenshih_kvadratov.html\n",
    "\n",
    "3.\tПроизводная \n",
    "\n",
    "http://www.mathprofi.ru/chastnye_proizvodnye_primery.html\n",
    "\n",
    "4.\tГрадиент \n",
    "\n",
    "http://mathprofi.ru/proizvodnaja_po_napravleniju_i_gradient.html\n",
    "\n",
    "5.\tГрадиентный спуск\n",
    "\n",
    "https://habr.com/ru/post/471458/\n",
    "\n",
    "https://habr.com/ru/post/307312/\n",
    "\n",
    "http://artemarakcheev.com//2017-12-31/linear_regression\n",
    "\n",
    "6.\tБиблиотека NumPy\n",
    "\n",
    "https://docs.scipy.org/doc/numpy-1.10.1/reference/generated/numpy.linalg.solve.html\n",
    "\n",
    "https://docs.scipy.org/doc/numpy-1.10.0/reference/generated/numpy.linalg.pinv.html\n",
    "\n",
    "https://pythonworld.ru/numpy/2.html"
   ]
  }
 ],
 "metadata": {
  "kernelspec": {
   "display_name": "Python 2",
   "language": "python",
   "name": "python2"
  },
  "language_info": {
   "codemirror_mode": {
    "name": "ipython",
    "version": 2
   },
   "file_extension": ".py",
   "mimetype": "text/x-python",
   "name": "python",
   "nbconvert_exporter": "python",
   "pygments_lexer": "ipython2",
   "version": "2.7.16"
  }
 },
 "nbformat": 4,
 "nbformat_minor": 2
}
